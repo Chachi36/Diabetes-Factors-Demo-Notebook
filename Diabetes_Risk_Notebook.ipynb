{
  "nbformat": 4,
  "nbformat_minor": 0,
  "metadata": {
    "colab": {
      "provenance": [],
      "collapsed_sections": [
        "hYW2r2iSrep2",
        "zfWxFiTW_IKB",
        "Cw0ZGYvnDIu3",
        "yxuJXyo1R1Wc",
        "_43njTOvvrg7",
        "G7GE0Xvnv18I",
        "81-6vrwEwhMN",
        "Itc8Jupfwzd0",
        "qyrygU1lxEEN",
        "5S-pMIIenY2Q",
        "5AG3rqeia3MU",
        "Da1d9rAqbX9c",
        "DDuJTAoKERoG"
      ],
      "mount_file_id": "1WF4r-IgDbaOLA0E7twAr3wV9X5RSQING",
      "authorship_tag": "ABX9TyOiVD0uO5pTDK9EBRddJN8k",
      "include_colab_link": true
    },
    "kernelspec": {
      "name": "python3",
      "display_name": "Python 3"
    },
    "language_info": {
      "name": "python"
    }
  },
  "cells": [
    {
      "cell_type": "markdown",
      "metadata": {
        "id": "view-in-github",
        "colab_type": "text"
      },
      "source": [
        "<a href=\"https://colab.research.google.com/github/Chachi36/Diabetes-Factors-Demo-Notebook/blob/main/Diabetes_Risk_Notebook.ipynb\" target=\"_parent\"><img src=\"https://colab.research.google.com/assets/colab-badge.svg\" alt=\"Open In Colab\"/></a>"
      ]
    },
    {
      "cell_type": "markdown",
      "source": [
        "# Diabetes Risk Factor Analysis\n",
        "\n",
        "This notebook explores a 5000-sample dataset.\n",
        "\n",
        "*Disclaimer: Notebook is in third person voice as a convention, there is only one person (me - Charles Childress) working on this project.\n",
        "\n",
        "## 1. Problem\n",
        "\n",
        "In this notebook, our goal is to develop a model that can identify the major risk factors that contribute to the development of diabetes in an individual.\n",
        "\n",
        "## 2. Data\n",
        "\n",
        "The data we're using is from the Behavioral Risk Factor Surveillance System 2014 Codebook Report as provided by the U.S. Digital Corps' Data Science and Analytics pathway.\n",
        "\n",
        "## 3. Evaluation\n",
        "\n",
        "Standard Logistic Regression metrics including\n",
        "\n",
        "## 4. Features\n",
        "\n",
        "Some information about the data:\n",
        "* We are working with a 5000-sample structured dataset presented in csv format.\n",
        "* The response variable, `'DIABETE3'`, starts out multi-categorical.  \n",
        "* There is a mixture of categorical, numerical, and ordinal data in this dataset.  "
      ],
      "metadata": {
        "id": "7hH_vJ_lvscj"
      }
    },
    {
      "cell_type": "markdown",
      "source": [
        "## 5. Getting Started!"
      ],
      "metadata": {
        "id": "Obsqq-ZIPZxF"
      }
    },
    {
      "cell_type": "markdown",
      "source": [
        "### Importing our data"
      ],
      "metadata": {
        "id": "drf6LAdb_I1S"
      }
    },
    {
      "cell_type": "code",
      "execution_count": null,
      "metadata": {
        "id": "ek2NlFkg5koO"
      },
      "outputs": [],
      "source": [
        "# Import tools into Colab\n",
        "import pandas as pd\n",
        "import seaborn as sns\n",
        "import numpy as np\n",
        "from matplotlib import pyplot as plt"
      ]
    },
    {
      "cell_type": "code",
      "source": [
        "# Read the CSV files to individual DataFrames\n",
        "df_num = pd.read_csv(\"drive/My Drive/Diabetes Risk Factors/data_numeric.csv\")\n",
        "df_cat = pd.read_csv(\"drive/My Drive/Diabetes Risk Factors/data_categorical.csv\")\n",
        "df_ord = pd.read_csv(\"drive/My Drive/Diabetes Risk Factors/data_ordinal.csv\")\n",
        "\n",
        "print(\"\\ndf_num has columns:\")\n",
        "print(df_num.columns)\n",
        "\n",
        "print(\"\\ndf_cat has columns:\")\n",
        "print(df_cat.columns)\n",
        "\n",
        "print(\"\\ndf_ord has columns:\")\n",
        "print(df_ord.columns)"
      ],
      "metadata": {
        "colab": {
          "base_uri": "https://localhost:8080/"
        },
        "id": "voWz1rg9ikVx",
        "outputId": "c796a386-5767-4c30-b446-5976b470a6ab"
      },
      "execution_count": null,
      "outputs": [
        {
          "output_type": "stream",
          "name": "stdout",
          "text": [
            "\n",
            "df_num has columns:\n",
            "Index(['PERSONID', 'DIABETE3', 'NUMADULT', 'CHILDREN', 'WEIGHT2', 'DRVISITS'], dtype='object')\n",
            "\n",
            "df_cat has columns:\n",
            "Index(['PERSONID', 'DIABETE3', '_RACE', 'MSCODE', 'FLUSHOT6', 'EMPLOY1', 'SEX',\n",
            "       'MARITAL', 'CVDCRHD4', 'HLTHCVR1', 'CHCKIDNY', 'USEEQUIP', '_TOTINDA',\n",
            "       'ADDEPEV2', 'RENTHOM1', 'EXERANY2', 'BLIND', 'DECIDE', 'HLTHPLN1',\n",
            "       'DIABETE3.1', '_STATE', 'ASTHMA3', 'MARITAL.1'],\n",
            "      dtype='object')\n",
            "\n",
            "df_ord has columns:\n",
            "Index(['PERSONID', 'DIABETE3', 'GENHLTH', '_AGEG5YR', '_BMI5CAT', 'CHECKUP1',\n",
            "       'INCOME2', '_EDUCAG', 'SLEPTIM1', 'MENTHLTH', '_SMOKER3'],\n",
            "      dtype='object')\n"
          ]
        }
      ]
    },
    {
      "cell_type": "markdown",
      "source": [
        "Since `\"DIABETE3\"` appears exactly the same on all 3 DataFrames, we are going to drop it from the `df_cat` and `df_ord` DataFrames before merging.  \n",
        "\n",
        "Also of note is that `\"DIABETE3\"` and `\"MARITAL\"` appear twice in `df_cat`, so we will also drop the `\"DIABETE3.1\"` and `\"MARITAL.1\"` variables."
      ],
      "metadata": {
        "id": "rqzX5IeBooR3"
      }
    },
    {
      "cell_type": "code",
      "source": [
        "# dropping columns\n",
        "df_cat = df_cat.drop(\"DIABETE3\", axis=1)\n",
        "df_cat = df_cat.drop(\"DIABETE3.1\", axis=1)\n",
        "df_cat = df_cat.drop(\"MARITAL.1\", axis=1)\n",
        "df_ord = df_ord.drop(\"DIABETE3\", axis=1)"
      ],
      "metadata": {
        "id": "WCxsCYI3k8x9"
      },
      "execution_count": null,
      "outputs": []
    },
    {
      "cell_type": "code",
      "source": [
        "# Merge the DataFrames on PERSONID\n",
        "merged_df1 = df_num.merge(df_cat, on=\"PERSONID\")\n",
        "merged_df2 = merged_df1.merge(df_ord, on=\"PERSONID\")\n",
        "\n",
        "# Check the columns of our merged DataFrame.\n",
        "merged_df2.info()"
      ],
      "metadata": {
        "id": "e1No3sXUj-2k",
        "colab": {
          "base_uri": "https://localhost:8080/"
        },
        "outputId": "6a4a8a6a-e3e9-4760-8742-37e6bd1eb3bb"
      },
      "execution_count": null,
      "outputs": [
        {
          "output_type": "stream",
          "name": "stdout",
          "text": [
            "<class 'pandas.core.frame.DataFrame'>\n",
            "Int64Index: 5000 entries, 0 to 4999\n",
            "Data columns (total 34 columns):\n",
            " #   Column    Non-Null Count  Dtype  \n",
            "---  ------    --------------  -----  \n",
            " 0   PERSONID  5000 non-null   int64  \n",
            " 1   DIABETE3  5000 non-null   float64\n",
            " 2   NUMADULT  3240 non-null   float64\n",
            " 3   CHILDREN  4988 non-null   float64\n",
            " 4   WEIGHT2   4950 non-null   float64\n",
            " 5   DRVISITS  3567 non-null   float64\n",
            " 6   _RACE     4997 non-null   float64\n",
            " 7   MSCODE    3187 non-null   float64\n",
            " 8   FLUSHOT6  4762 non-null   float64\n",
            " 9   EMPLOY1   4981 non-null   float64\n",
            " 10  SEX       5000 non-null   float64\n",
            " 11  MARITAL   4990 non-null   float64\n",
            " 12  CVDCRHD4  5000 non-null   float64\n",
            " 13  HLTHCVR1  3318 non-null   float64\n",
            " 14  CHCKIDNY  5000 non-null   float64\n",
            " 15  USEEQUIP  4837 non-null   float64\n",
            " 16  _TOTINDA  5000 non-null   float64\n",
            " 17  ADDEPEV2  5000 non-null   float64\n",
            " 18  RENTHOM1  4898 non-null   float64\n",
            " 19  EXERANY2  5000 non-null   float64\n",
            " 20  BLIND     4830 non-null   float64\n",
            " 21  DECIDE    4829 non-null   float64\n",
            " 22  HLTHPLN1  5000 non-null   float64\n",
            " 23  _STATE    5000 non-null   float64\n",
            " 24  ASTHMA3   5000 non-null   float64\n",
            " 25  GENHLTH   5000 non-null   float64\n",
            " 26  _AGEG5YR  5000 non-null   float64\n",
            " 27  _BMI5CAT  4681 non-null   float64\n",
            " 28  CHECKUP1  5000 non-null   float64\n",
            " 29  INCOME2   4962 non-null   float64\n",
            " 30  _EDUCAG   5000 non-null   float64\n",
            " 31  SLEPTIM1  5000 non-null   float64\n",
            " 32  MENTHLTH  5000 non-null   float64\n",
            " 33  _SMOKER3  5000 non-null   float64\n",
            "dtypes: float64(33), int64(1)\n",
            "memory usage: 1.3 MB\n"
          ]
        }
      ]
    },
    {
      "cell_type": "code",
      "source": [
        "# Save the complete DataFrame to a new CSV file for easy access henceforth\n",
        "merged_df2.to_csv(\"drive/My Drive/Diabetes Risk Factors/complete_diabetes_data.csv\", index=False)"
      ],
      "metadata": {
        "id": "LERdsQlJesqR"
      },
      "execution_count": null,
      "outputs": []
    },
    {
      "cell_type": "markdown",
      "source": [
        "### New starting cell"
      ],
      "metadata": {
        "id": "H1svgM-N_BFS"
      }
    },
    {
      "cell_type": "code",
      "source": [
        "# Import tools into Colab\n",
        "import pandas as pd\n",
        "import seaborn as sns\n",
        "import numpy as np\n",
        "from matplotlib import pyplot as plt\n",
        "\n",
        "# Read the \"complete_diabetes_data.csv\" to a working DataFrame and verify it\n",
        "df = pd.read_csv(\"drive/My Drive/Diabetes Risk Factors/complete_diabetes_data.csv\")\n",
        "\n",
        "print(df.info())\n",
        "print(df.describe())"
      ],
      "metadata": {
        "colab": {
          "base_uri": "https://localhost:8080/"
        },
        "id": "gKz4OTlgnbjd",
        "outputId": "9140c76a-93b6-44a4-bdb7-11ca8fc8a97e"
      },
      "execution_count": null,
      "outputs": [
        {
          "output_type": "stream",
          "name": "stdout",
          "text": [
            "<class 'pandas.core.frame.DataFrame'>\n",
            "RangeIndex: 5000 entries, 0 to 4999\n",
            "Data columns (total 34 columns):\n",
            " #   Column    Non-Null Count  Dtype  \n",
            "---  ------    --------------  -----  \n",
            " 0   PERSONID  5000 non-null   int64  \n",
            " 1   DIABETE3  5000 non-null   float64\n",
            " 2   NUMADULT  3240 non-null   float64\n",
            " 3   CHILDREN  4988 non-null   float64\n",
            " 4   WEIGHT2   4950 non-null   float64\n",
            " 5   DRVISITS  3567 non-null   float64\n",
            " 6   _RACE     4997 non-null   float64\n",
            " 7   MSCODE    3187 non-null   float64\n",
            " 8   FLUSHOT6  4762 non-null   float64\n",
            " 9   EMPLOY1   4981 non-null   float64\n",
            " 10  SEX       5000 non-null   float64\n",
            " 11  MARITAL   4990 non-null   float64\n",
            " 12  CVDCRHD4  5000 non-null   float64\n",
            " 13  HLTHCVR1  3318 non-null   float64\n",
            " 14  CHCKIDNY  5000 non-null   float64\n",
            " 15  USEEQUIP  4837 non-null   float64\n",
            " 16  _TOTINDA  5000 non-null   float64\n",
            " 17  ADDEPEV2  5000 non-null   float64\n",
            " 18  RENTHOM1  4898 non-null   float64\n",
            " 19  EXERANY2  5000 non-null   float64\n",
            " 20  BLIND     4830 non-null   float64\n",
            " 21  DECIDE    4829 non-null   float64\n",
            " 22  HLTHPLN1  5000 non-null   float64\n",
            " 23  _STATE    5000 non-null   float64\n",
            " 24  ASTHMA3   5000 non-null   float64\n",
            " 25  GENHLTH   5000 non-null   float64\n",
            " 26  _AGEG5YR  5000 non-null   float64\n",
            " 27  _BMI5CAT  4681 non-null   float64\n",
            " 28  CHECKUP1  5000 non-null   float64\n",
            " 29  INCOME2   4962 non-null   float64\n",
            " 30  _EDUCAG   5000 non-null   float64\n",
            " 31  SLEPTIM1  5000 non-null   float64\n",
            " 32  MENTHLTH  5000 non-null   float64\n",
            " 33  _SMOKER3  5000 non-null   float64\n",
            "dtypes: float64(33), int64(1)\n",
            "memory usage: 1.3 MB\n",
            "None\n",
            "            PERSONID     DIABETE3     NUMADULT     CHILDREN      WEIGHT2  \\\n",
            "count    5000.000000  5000.000000  3240.000000  4988.000000  4950.000000   \n",
            "mean   232280.710600     2.764200     1.798765    65.691059   588.407071   \n",
            "std    135330.390047     0.715193     0.794935    37.779210  1910.764319   \n",
            "min        13.000000     1.000000     1.000000     1.000000    75.000000   \n",
            "25%    115264.000000     3.000000     1.000000     4.000000   145.000000   \n",
            "50%    229596.000000     3.000000     2.000000    88.000000   175.000000   \n",
            "75%    351385.500000     3.000000     2.000000    88.000000   205.000000   \n",
            "max    464529.000000     9.000000     7.000000    99.000000  9999.000000   \n",
            "\n",
            "          DRVISITS        _RACE       MSCODE     FLUSHOT6      EMPLOY1  ...  \\\n",
            "count  3567.000000  4997.000000  3187.000000  4762.000000  4981.000000  ...   \n",
            "mean     16.079619     1.982389     2.867587     1.569929     3.924513  ...   \n",
            "std      27.913442     2.241631     1.688382     0.725393     2.856319  ...   \n",
            "min       1.000000     1.000000     1.000000     1.000000     1.000000  ...   \n",
            "25%       2.000000     1.000000     1.000000     1.000000     1.000000  ...   \n",
            "50%       4.000000     1.000000     3.000000     2.000000     3.000000  ...   \n",
            "75%      10.000000     1.000000     5.000000     2.000000     7.000000  ...   \n",
            "max      99.000000     9.000000     5.000000     9.000000     9.000000  ...   \n",
            "\n",
            "           ASTHMA3      GENHLTH   _AGEG5YR     _BMI5CAT     CHECKUP1  \\\n",
            "count  5000.000000  5000.000000  5000.0000  4681.000000  5000.000000   \n",
            "mean      1.895600     2.558400     7.8418     2.932707     1.588400   \n",
            "std       0.525696     1.108348     3.4858     0.835357     1.256225   \n",
            "min       1.000000     1.000000     1.0000     1.000000     1.000000   \n",
            "25%       2.000000     2.000000     5.0000     2.000000     1.000000   \n",
            "50%       2.000000     2.000000     8.0000     3.000000     1.000000   \n",
            "75%       2.000000     3.000000    10.0000     4.000000     2.000000   \n",
            "max       9.000000     9.000000    14.0000     4.000000     9.000000   \n",
            "\n",
            "           INCOME2      _EDUCAG     SLEPTIM1     MENTHLTH     _SMOKER3  \n",
            "count  4962.000000  5000.000000  5000.000000  5000.000000  5000.000000  \n",
            "mean     17.937525     2.988200     7.942400    65.437000     3.556200  \n",
            "std      29.923320     1.127437     8.228574    35.469943     1.513043  \n",
            "min       1.000000     1.000000     1.000000     1.000000     1.000000  \n",
            "25%       5.000000     2.000000     6.000000    30.000000     3.000000  \n",
            "50%       7.000000     3.000000     7.000000    88.000000     4.000000  \n",
            "75%       8.000000     4.000000     8.000000    88.000000     4.000000  \n",
            "max      99.000000     9.000000    99.000000    99.000000     9.000000  \n",
            "\n",
            "[8 rows x 34 columns]\n"
          ]
        }
      ]
    },
    {
      "cell_type": "markdown",
      "source": [
        "### Peeking at some of the variables"
      ],
      "metadata": {
        "id": "YhwS6ny4Qv4W"
      }
    },
    {
      "cell_type": "code",
      "source": [
        "# Make a temporary DataFrame to manipulate\n",
        "tmp_df = pd.read_csv(\"drive/My Drive/Diabetes Risk Factors/complete_diabetes_data.csv\")"
      ],
      "metadata": {
        "id": "o8ARddg3sZ5M"
      },
      "execution_count": null,
      "outputs": []
    },
    {
      "cell_type": "code",
      "source": [
        "# DIABETE3 count\n",
        "for i in set(tmp_df[\"DIABETE3\"]):\n",
        "    num = len(tmp_df[tmp_df[\"DIABETE3\"] == i])\n",
        "    print(f\"The number of people who answered {i} for 'DIABETE3' is {num}.\")"
      ],
      "metadata": {
        "colab": {
          "base_uri": "https://localhost:8080/"
        },
        "id": "IpOdHrg1QZ82",
        "outputId": "4f40a434-a594-40f5-e4ea-f5c161aeb46e"
      },
      "execution_count": null,
      "outputs": [
        {
          "output_type": "stream",
          "name": "stdout",
          "text": [
            "The number of people who answered 1.0 for 'DIABETE3' is 627.\n",
            "The number of people who answered 2.0 for 'DIABETE3' is 39.\n",
            "The number of people who answered 3.0 for 'DIABETE3' is 4251.\n",
            "The number of people who answered 4.0 for 'DIABETE3' is 76.\n",
            "The number of people who answered 7.0 for 'DIABETE3' is 2.\n",
            "The number of people who answered 9.0 for 'DIABETE3' is 5.\n"
          ]
        }
      ]
    },
    {
      "cell_type": "markdown",
      "source": [
        "In the results of the above code there are only 2 entries for `'7.0'` and 5 entries for `'9.0'`.  This by itself might be reason to discard these data points, as it is difficult to build a model with so few entries.  We argue that the data points should also be discarded on account of what they represent; \"Don't know/Not Sure\" and \"Refused [to answer]\".  We are attempting to create a model that can \"identify risk factors for diabetes\", so data points that don't give feedback about diabetes are useless to us.  "
      ],
      "metadata": {
        "id": "7EsjXrtlBFlR"
      }
    },
    {
      "cell_type": "markdown",
      "source": [
        "#### **The Question:** `'DIABETE3'`"
      ],
      "metadata": {
        "id": "XkjO49DrafNX"
      }
    },
    {
      "cell_type": "markdown",
      "source": [
        "\"(Ever told) you have diabetes (If \"Yes\" and respondent is female, ask \"Was this only when you were pregnant?\". If respondent says pre-diabetes or borderline diabetes, use response code 4.)\"\n",
        "\n",
        "**Current DIABETE3 classifications:**\n",
        "\n",
        "- 1.0 - Yes\n",
        "- 2.0 - Yes, but female told only during pregnancy\n",
        "- 3.0 - No\n",
        "- 4.0 - No, pre-diabetes or borderline diabetes\n",
        "- 7.0 - Don't know/Not Sure\n",
        "- 9.0 - Refused\n",
        "\n",
        "**Proposed DIABETE3 classifications (without 7 counfounding data points):**\n",
        "\n",
        "- 1.0 - Yes\n",
        "- 2.0 - Yes, but female told only during pregnancy\n",
        "- 3.0 - No\n",
        "- 4.0 - No, pre-diabetes or borderline diabetes\n",
        "\n",
        "With all that in mind, let's drop these 7 data points then make a quick correlation matrix."
      ],
      "metadata": {
        "id": "7maMGV9Al8G9"
      }
    },
    {
      "cell_type": "code",
      "source": [
        "# dropping 7.0 and 9.0 entries\n",
        "tmp_df = tmp_df[~(tmp_df.DIABETE3 == 7.0) & ~(tmp_df.DIABETE3 == 9.0)]\n",
        "len(tmp_df)"
      ],
      "metadata": {
        "colab": {
          "base_uri": "https://localhost:8080/"
        },
        "id": "pWbo9v6Nwysn",
        "outputId": "ae202f19-7561-4509-bf26-80dfc9ed2c41"
      },
      "execution_count": null,
      "outputs": [
        {
          "output_type": "execute_result",
          "data": {
            "text/plain": [
              "4993"
            ]
          },
          "metadata": {},
          "execution_count": 32
        }
      ]
    },
    {
      "cell_type": "code",
      "source": [
        "tmp_df = tmp_df.drop(\"PERSONID\", axis=1)\n",
        "\n",
        "#correlation matrix\n",
        "corrmat = tmp_df.corr()\n",
        "f, ax = plt.subplots(figsize=(12, 9))\n",
        "sns.heatmap(corrmat, vmax=.8, square=True);"
      ],
      "metadata": {
        "colab": {
          "base_uri": "https://localhost:8080/",
          "height": 824
        },
        "id": "rAsdMai5VUEp",
        "outputId": "ea5c824f-d19e-4171-f910-b09ce4243df8"
      },
      "execution_count": null,
      "outputs": [
        {
          "output_type": "display_data",
          "data": {
            "text/plain": [
              "<Figure size 1200x900 with 2 Axes>"
            ],
            "image/png": "[encoded data removed]"
          },
          "metadata": {}
        }
      ]
    },
    {
      "cell_type": "code",
      "source": [
        "# correlation values\n",
        "tmp_df.corr()['DIABETE3'].sort_values()"
      ],
      "metadata": {
        "colab": {
          "base_uri": "https://localhost:8080/"
        },
        "id": "JFuCAG0qUFlD",
        "outputId": "36bf9e7b-c937-4450-914c-451064013d77"
      },
      "execution_count": null,
      "outputs": [
        {
          "output_type": "execute_result",
          "data": {
            "text/plain": [
              "GENHLTH    -0.262288\n",
              "EMPLOY1    -0.195581\n",
              "_AGEG5YR   -0.192449\n",
              "_BMI5CAT   -0.184727\n",
              "CHILDREN   -0.130667\n",
              "EXERANY2   -0.100523\n",
              "_TOTINDA   -0.094097\n",
              "MENTHLTH   -0.029373\n",
              "_RACE      -0.023065\n",
              "SLEPTIM1   -0.022054\n",
              "WEIGHT2    -0.002622\n",
              "HLTHCVR1   -0.002589\n",
              "INCOME2    -0.001692\n",
              "MSCODE     -0.000652\n",
              "RENTHOM1    0.004468\n",
              "_STATE      0.006365\n",
              "_SMOKER3    0.010017\n",
              "MARITAL     0.010931\n",
              "SEX         0.012880\n",
              "BLIND       0.017328\n",
              "DECIDE      0.023833\n",
              "HLTHPLN1    0.025467\n",
              "CHCKIDNY    0.027210\n",
              "DRVISITS    0.032040\n",
              "ASTHMA3     0.032461\n",
              "FLUSHOT6    0.032521\n",
              "CVDCRHD4    0.041618\n",
              "ADDEPEV2    0.062212\n",
              "NUMADULT    0.064014\n",
              "_EDUCAG     0.069299\n",
              "CHECKUP1    0.087236\n",
              "USEEQUIP    0.113116\n",
              "DIABETE3    1.000000\n",
              "Name: DIABETE3, dtype: float64"
            ]
          },
          "metadata": {},
          "execution_count": 34
        }
      ]
    },
    {
      "cell_type": "code",
      "source": [
        "tmp_df.corr()['DIABETE3'].abs().sort_values().tail(6)"
      ],
      "metadata": {
        "colab": {
          "base_uri": "https://localhost:8080/"
        },
        "id": "8IN-Ilp3-hoB",
        "outputId": "f472f412-b864-4bb8-b93e-b586071d592e"
      },
      "execution_count": null,
      "outputs": [
        {
          "output_type": "execute_result",
          "data": {
            "text/plain": [
              "CHILDREN    0.130667\n",
              "_BMI5CAT    0.184727\n",
              "_AGEG5YR    0.192449\n",
              "EMPLOY1     0.195581\n",
              "GENHLTH     0.262288\n",
              "DIABETE3    1.000000\n",
              "Name: DIABETE3, dtype: float64"
            ]
          },
          "metadata": {},
          "execution_count": 35
        }
      ]
    },
    {
      "cell_type": "markdown",
      "source": [
        "What we've done above is we've made a heatmap of correlations and then picked out those top few that correlate (or anti-correlate) most highly with `DIABETE3`.  There is clearly lots of correlation between many of the variables as well that we should remember to account for later.  "
      ],
      "metadata": {
        "id": "7IzZ2YrE-P1i"
      }
    },
    {
      "cell_type": "markdown",
      "source": [
        "#### **Correlation Thought Experiment**"
      ],
      "metadata": {
        "id": "KFnSPUrZKv2n"
      }
    },
    {
      "cell_type": "markdown",
      "source": [
        "The more correlation exists between the variables in our model, the more variance will be present.  Let's see if trimming some correlated variables can help our heatmap become more readable.  "
      ],
      "metadata": {
        "id": "wdqZQtvhb5Ba"
      }
    },
    {
      "cell_type": "code",
      "source": [
        "# some additional tools\n",
        "import statistics as stat\n",
        "from patsy import dmatrices\n",
        "from statsmodels.stats.outliers_influence import variance_inflation_factor"
      ],
      "metadata": {
        "id": "Arng1hScOAt1"
      },
      "execution_count": null,
      "outputs": []
    },
    {
      "cell_type": "markdown",
      "source": [
        "For the type of analysis we are about to run, a `VIF` score from:\n",
        "\n",
        "- 0 to 1 - indicates low correlation with other variables\n",
        "- 1 to 5 - indicates a moderate correlation with other variables\n",
        "- over 5 - indicates a large correlation with other variables"
      ],
      "metadata": {
        "id": "gsNAkjagRDfE"
      }
    },
    {
      "cell_type": "code",
      "source": [
        "#find design matrix for regression model using 'Survived' as response variable\n",
        "y, X = dmatrices('DIABETE3 ~ NUMADULT+CHILDREN+WEIGHT2+DRVISITS+_RACE+MSCODE+FLUSHOT6+EMPLOY1+SEX+MARITAL+CVDCRHD4+HLTHCVR1+CHCKIDNY+USEEQUIP+_TOTINDA+ADDEPEV2+RENTHOM1+EXERANY2+BLIND+DECIDE+HLTHPLN1+_STATE+ASTHMA3+GENHLTH+_AGEG5YR+_BMI5CAT+CHECKUP1+INCOME2+_EDUCAG+SLEPTIM1+MENTHLTH+_SMOKER3', data=tmp_df, return_type='dataframe')\n",
        "\n",
        "#create DataFrame to hold VIF values\n",
        "vif_df = pd.DataFrame()\n",
        "vif_df['variable'] = X.columns\n",
        "\n",
        "#calculate VIF for each predictor variable\n",
        "vif_df['VIF'] = [variance_inflation_factor(X.values, i) for i in range(X.shape[1])]\n",
        "\n",
        "#view VIF for each predictor variable\n",
        "print(vif_df.to_string())"
      ],
      "metadata": {
        "colab": {
          "base_uri": "https://localhost:8080/"
        },
        "id": "_94xXLGiKWlO",
        "outputId": "20806858-6430-4a0e-b1cd-6856a0db05c4"
      },
      "execution_count": null,
      "outputs": [
        {
          "output_type": "stream",
          "name": "stdout",
          "text": [
            "     variable        VIF\n",
            "0   Intercept   0.000000\n",
            "1    NUMADULT   1.279734\n",
            "2    CHILDREN   1.581101\n",
            "3     WEIGHT2   1.044668\n",
            "4    DRVISITS   1.118614\n",
            "5       _RACE   1.069824\n",
            "6      MSCODE   1.049888\n",
            "7    FLUSHOT6   1.082400\n",
            "8     EMPLOY1   1.664452\n",
            "9         SEX   1.078101\n",
            "10    MARITAL   1.253867\n",
            "11   CVDCRHD4   1.012168\n",
            "12   HLTHCVR1   1.044873\n",
            "13   CHCKIDNY   1.014935\n",
            "14   USEEQUIP   1.247354\n",
            "15   _TOTINDA  83.165754\n",
            "16   ADDEPEV2   1.153168\n",
            "17   RENTHOM1   1.072753\n",
            "18   EXERANY2  83.698476\n",
            "19      BLIND   1.059302\n",
            "20     DECIDE   1.089915\n",
            "21   HLTHPLN1   0.000000\n",
            "22     _STATE   1.023191\n",
            "23    ASTHMA3   1.045196\n",
            "24    GENHLTH   1.482458\n",
            "25   _AGEG5YR   2.356012\n",
            "26   _BMI5CAT   1.142287\n",
            "27   CHECKUP1   1.134571\n",
            "28    INCOME2   1.061954\n",
            "29    _EDUCAG   1.186324\n",
            "30   SLEPTIM1   1.044270\n",
            "31   MENTHLTH   1.169750\n",
            "32   _SMOKER3   1.102611\n"
          ]
        },
        {
          "output_type": "stream",
          "name": "stderr",
          "text": [
            "/usr/local/lib/python3.10/dist-packages/statsmodels/regression/linear_model.py:1782: RuntimeWarning: divide by zero encountered in double_scalars\n",
            "  return 1 - self.ssr/self.centered_tss\n"
          ]
        }
      ]
    },
    {
      "cell_type": "markdown",
      "source": [
        "The high correlation results we are seeing here with `'_TOTINDA'` and `'EXERANY2'` makes complete sense.  \n",
        "\n",
        "**As stated in the provided data bible:**\n",
        "- `'_TOTINDA'` - \"Adults who reported doing physical activity or exercise during the past 30 days other than their regular job\"\n",
        "- `'EXERANY2'` - \"During the past month, other than your regular job, did you participate in any physical activities or exercises such as running, calisthenics, golf, gardening, or walking for exercise?\"\n",
        "\n",
        "Since `'EXERANY2'` has a more significant effect at `-0.100523` (versus `'_TOTINDA'` at `-0.094097`), we are going to drop the `'_TOTINDA'` variable and run the `VIF` again."
      ],
      "metadata": {
        "id": "JBZVFf1nQyJ-"
      }
    },
    {
      "cell_type": "code",
      "source": [
        "#find design matrix for regression model using 'Survived' as response variable\n",
        "y, X = dmatrices('DIABETE3 ~ NUMADULT+CHILDREN+WEIGHT2+DRVISITS+_RACE+MSCODE+FLUSHOT6+EMPLOY1+SEX+MARITAL+CVDCRHD4+HLTHCVR1+CHCKIDNY+USEEQUIP+ADDEPEV2+RENTHOM1+EXERANY2+BLIND+DECIDE+HLTHPLN1+_STATE+ASTHMA3+GENHLTH+_AGEG5YR+_BMI5CAT+CHECKUP1+INCOME2+_EDUCAG+SLEPTIM1+MENTHLTH+_SMOKER3', data=tmp_df, return_type='dataframe')\n",
        "\n",
        "#create DataFrame to hold VIF values\n",
        "vif_df = pd.DataFrame()\n",
        "vif_df['variable'] = X.columns\n",
        "\n",
        "#calculate VIF for each predictor variable\n",
        "vif_df['VIF'] = [variance_inflation_factor(X.values, i) for i in range(X.shape[1])]\n",
        "\n",
        "#view VIF for each predictor variable\n",
        "print(vif_df.to_string())"
      ],
      "metadata": {
        "colab": {
          "base_uri": "https://localhost:8080/"
        },
        "id": "TzeZwgpbKWiX",
        "outputId": "75900824-7a60-41e3-8c57-f67df0b8be3a"
      },
      "execution_count": null,
      "outputs": [
        {
          "output_type": "stream",
          "name": "stdout",
          "text": [
            "     variable       VIF\n",
            "0   Intercept  0.000000\n",
            "1    NUMADULT  1.279430\n",
            "2    CHILDREN  1.580749\n",
            "3     WEIGHT2  1.044667\n",
            "4    DRVISITS  1.110729\n",
            "5       _RACE  1.069728\n",
            "6      MSCODE  1.047773\n",
            "7    FLUSHOT6  1.081271\n",
            "8     EMPLOY1  1.663848\n",
            "9         SEX  1.077975\n",
            "10    MARITAL  1.251949\n",
            "11   CVDCRHD4  1.011994\n",
            "12   HLTHCVR1  1.044608\n",
            "13   CHCKIDNY  1.014860\n",
            "14   USEEQUIP  1.247265\n",
            "15   ADDEPEV2  1.151312\n",
            "16   RENTHOM1  1.072570\n",
            "17   EXERANY2  1.147209\n",
            "18      BLIND  1.058977\n",
            "19     DECIDE  1.089607\n",
            "20   HLTHPLN1  0.000000\n",
            "21     _STATE  1.022780\n",
            "22    ASTHMA3  1.043889\n",
            "23    GENHLTH  1.480194\n",
            "24   _AGEG5YR  2.356011\n",
            "25   _BMI5CAT  1.139861\n",
            "26   CHECKUP1  1.133619\n",
            "27    INCOME2  1.059613\n",
            "28    _EDUCAG  1.185114\n",
            "29   SLEPTIM1  1.043470\n",
            "30   MENTHLTH  1.169697\n",
            "31   _SMOKER3  1.090207\n"
          ]
        },
        {
          "output_type": "stream",
          "name": "stderr",
          "text": [
            "/usr/local/lib/python3.10/dist-packages/statsmodels/regression/linear_model.py:1782: RuntimeWarning: divide by zero encountered in double_scalars\n",
            "  return 1 - self.ssr/self.centered_tss\n"
          ]
        }
      ]
    },
    {
      "cell_type": "markdown",
      "source": [
        "Since there is only moderate correlation left, this is as much pruning as we will do right now.  Let's take a quick look at the correlation matrix and our top most interesting variables."
      ],
      "metadata": {
        "id": "UAZf2JLOV54m"
      }
    },
    {
      "cell_type": "code",
      "source": [
        "# drop _TOTINDA\n",
        "tmp_df.drop(\"_TOTINDA\", axis=1, inplace=True)\n",
        "\n",
        "#correlation matrix\n",
        "corrmat = tmp_df.corr()\n",
        "f, ax = plt.subplots(figsize=(12, 9))\n",
        "sns.heatmap(corrmat, vmax=.8, square=True);"
      ],
      "metadata": {
        "colab": {
          "base_uri": "https://localhost:8080/",
          "height": 824
        },
        "id": "pbG1cKbfKWfV",
        "outputId": "0438e85c-f04a-4747-c851-e81dfb64bddf"
      },
      "execution_count": null,
      "outputs": [
        {
          "output_type": "display_data",
          "data": {
            "text/plain": [
              "<Figure size 1200x900 with 2 Axes>"
            ],
            "image/png": "[encoded data removed]"
          },
          "metadata": {}
        }
      ]
    },
    {
      "cell_type": "code",
      "source": [
        "# top values to peak at according to correlation with DIABETE3\n",
        "tmp_df.corr()['DIABETE3'].abs().sort_values().tail(6)"
      ],
      "metadata": {
        "colab": {
          "base_uri": "https://localhost:8080/"
        },
        "id": "83iAl4lCKWcy",
        "outputId": "e50595ae-f5f6-498f-b522-0981ec57e00e"
      },
      "execution_count": null,
      "outputs": [
        {
          "output_type": "execute_result",
          "data": {
            "text/plain": [
              "CHILDREN    0.130667\n",
              "_BMI5CAT    0.184727\n",
              "_AGEG5YR    0.192449\n",
              "EMPLOY1     0.195581\n",
              "GENHLTH     0.262288\n",
              "DIABETE3    1.000000\n",
              "Name: DIABETE3, dtype: float64"
            ]
          },
          "metadata": {},
          "execution_count": 40
        }
      ]
    },
    {
      "cell_type": "markdown",
      "source": [
        "#### **Quick Data Visualization**"
      ],
      "metadata": {
        "id": "LWFsa0HiYRPt"
      }
    },
    {
      "cell_type": "markdown",
      "source": [
        "In a series of plots below, we are going to compare the response variable `'DIABETE3'` to the five of the independent variables that it was most highly correlated with (`'CHILDREN'`, `'_BMI5CAT'`, `'_AGEG5YR'`, `'EMPLOY1'`, and `'GENHLTH'`).  \n",
        "\n",
        "**Variable Details:**\n",
        "- `'CHILDREN'` - \"How many children less than 18 years of age live in your household?\"\n",
        "- `'_BMI5CAT'` - \"Four-categories of Body Mass Index (BMI)\"\n",
        "- `'_AGEG5YR'` - \"Fourteen-level age category\"\n",
        "- `'EMPLOY1'` - \"Are you currently…?\" [Question about employment]\n",
        "- `'GENHLTH'` - \"Would you say that in general your health is:\" [Question about general health]"
      ],
      "metadata": {
        "id": "Q4itnyzbc-W8"
      }
    },
    {
      "cell_type": "markdown",
      "source": [
        "A simplified binomial look at the `'DIABETE3'` variable will help us visualize the above singled out variables.  Since there are far more entries for `'1.0'` and `'3.0'` (diabetes and no diabetes) than for `'2.0'` and `'4.0'` (pregnancy and pre-diabetes), let's drop responses `'2.0'` and `'4.0'`  from the temporary DataFrame we are working with and create a new variable `'DIABETE_SIMP'` that assigns `'0'` for `'3.0'` (patient does not have diabetes) and `'1'` for `'1.0'` (patient has diabetes)."
      ],
      "metadata": {
        "id": "B3xS9CXCq_yw"
      }
    },
    {
      "cell_type": "code",
      "source": [
        "# before dropping\n",
        "print(\"Before dropping:\", len(tmp_df))\n",
        "\n",
        "# dropping 2.0 entries and 4.0 entries\n",
        "tmp_df = tmp_df[~(tmp_df.DIABETE3 == 2.0)]\n",
        "tmp_df = tmp_df[~(tmp_df.DIABETE3 == 4.0)]\n",
        "\n",
        "# reset the index\n",
        "tmp_df.reset_index(inplace=True)\n",
        "print(\"After dropping:\", len(tmp_df))"
      ],
      "metadata": {
        "colab": {
          "base_uri": "https://localhost:8080/"
        },
        "id": "9Lzx94R0t_RL",
        "outputId": "d8cf2432-9d97-4442-f32b-2e4ba9d53835"
      },
      "execution_count": null,
      "outputs": [
        {
          "output_type": "stream",
          "name": "stdout",
          "text": [
            "Before dropping: 4993\n",
            "After dropping: 4878\n"
          ]
        }
      ]
    },
    {
      "cell_type": "code",
      "source": [
        "# creating DIABETE_SIMP\n",
        "li1 = tmp_df[\"DIABETE3\"]\n",
        "li2 = []\n",
        "\n",
        "for i in range(len(li1)):\n",
        "  if li1[i] == 1.0:\n",
        "    li2.append(1)\n",
        "  else:\n",
        "    li2.append(0)\n",
        "\n",
        "tmp_df[\"DIABETE_SIMP\"] = li2"
      ],
      "metadata": {
        "id": "VWJ6JYdrnZRr"
      },
      "execution_count": null,
      "outputs": []
    },
    {
      "cell_type": "markdown",
      "source": [
        "**Quick little scatterplot**"
      ],
      "metadata": {
        "id": "dx5v5Yn67log"
      }
    },
    {
      "cell_type": "code",
      "source": [
        "### PLOT BUILD\n",
        "fig, ax = plt.subplots(7, 5, figsize=(10,10), sharey=True)\n",
        "\n",
        "for i,col in enumerate(tmp_df.columns[1:]):\n",
        "  if i <= 4:\n",
        "    sns.barplot(x=tmp_df[col], y=tmp_df[\"DIABETE_SIMP\"], ax=ax[0,i])\n",
        "  elif i > 4 and i <=9:\n",
        "    sns.barplot(x=tmp_df[col], y=tmp_df[\"DIABETE_SIMP\"], ax=ax[1,i-5])\n",
        "  elif i > 9 and i <=14:\n",
        "    sns.barplot(x=tmp_df[col], y=tmp_df[\"DIABETE_SIMP\"], ax=ax[2,i-10])\n",
        "  elif i > 14 and i <=19:\n",
        "    sns.barplot(x=tmp_df[col], y=tmp_df[\"DIABETE_SIMP\"], ax=ax[3,i-15])\n",
        "  elif i > 19 and i <=24:\n",
        "    sns.barplot(x=tmp_df[col], y=tmp_df[\"DIABETE_SIMP\"], ax=ax[4,i-20])\n",
        "  elif i > 24 and i <=29:\n",
        "    sns.barplot(x=tmp_df[col], y=tmp_df[\"DIABETE_SIMP\"], ax=ax[5,i-25])\n",
        "  else:\n",
        "    sns.barplot(x=tmp_df[col], y=tmp_df[\"DIABETE_SIMP\"], ax=ax[6,i-30])\n",
        "\n",
        "#ax[1,6].axis('off')                  # HIDES AXES ON LAST ROW AND COL\n",
        "\n",
        "fig.suptitle('My Scatter Plots')\n",
        "fig.tight_layout()\n",
        "fig.subplots_adjust(top=0.95)\n",
        "\n",
        "plt.show()\n",
        "plt.clf()\n",
        "plt.close()"
      ],
      "metadata": {
        "colab": {
          "base_uri": "https://localhost:8080/",
          "height": 400
        },
        "id": "4CXcvFGI3-ly",
        "outputId": "5137f2a1-fb38-454c-d020-fa2c2e992292"
      },
      "execution_count": null,
      "outputs": [
        {
          "output_type": "error",
          "ename": "KeyboardInterrupt",
          "evalue": "ignored",
          "traceback": [
            "\u001b[0;31m---------------------------------------------------------------------------\u001b[0m",
            "\u001b[0;31mKeyboardInterrupt\u001b[0m                         Traceback (most recent call last)",
            "\u001b[0;32m<ipython-input-52-4516fee4159a>\u001b[0m in \u001b[0;36m<cell line: 23>\u001b[0;34m()\u001b[0m\n\u001b[1;32m     21\u001b[0m \u001b[0;34m\u001b[0m\u001b[0m\n\u001b[1;32m     22\u001b[0m \u001b[0mfig\u001b[0m\u001b[0;34m.\u001b[0m\u001b[0msuptitle\u001b[0m\u001b[0;34m(\u001b[0m\u001b[0;34m'My Scatter Plots'\u001b[0m\u001b[0;34m)\u001b[0m\u001b[0;34m\u001b[0m\u001b[0;34m\u001b[0m\u001b[0m\n\u001b[0;32m---> 23\u001b[0;31m \u001b[0mfig\u001b[0m\u001b[0;34m.\u001b[0m\u001b[0mtight_layout\u001b[0m\u001b[0;34m(\u001b[0m\u001b[0;34m)\u001b[0m\u001b[0;34m\u001b[0m\u001b[0;34m\u001b[0m\u001b[0m\n\u001b[0m\u001b[1;32m     24\u001b[0m \u001b[0mfig\u001b[0m\u001b[0;34m.\u001b[0m\u001b[0msubplots_adjust\u001b[0m\u001b[0;34m(\u001b[0m\u001b[0mtop\u001b[0m\u001b[0;34m=\u001b[0m\u001b[0;36m0.95\u001b[0m\u001b[0;34m)\u001b[0m\u001b[0;34m\u001b[0m\u001b[0;34m\u001b[0m\u001b[0m\n\u001b[1;32m     25\u001b[0m \u001b[0;34m\u001b[0m\u001b[0m\n",
            "\u001b[0;32m/usr/local/lib/python3.10/dist-packages/matplotlib/figure.py\u001b[0m in \u001b[0;36mtight_layout\u001b[0;34m(self, pad, h_pad, w_pad, rect)\u001b[0m\n\u001b[1;32m   3507\u001b[0m             \u001b[0mprevious_engine\u001b[0m \u001b[0;34m=\u001b[0m \u001b[0mself\u001b[0m\u001b[0;34m.\u001b[0m\u001b[0mget_layout_engine\u001b[0m\u001b[0;34m(\u001b[0m\u001b[0;34m)\u001b[0m\u001b[0;34m\u001b[0m\u001b[0;34m\u001b[0m\u001b[0m\n\u001b[1;32m   3508\u001b[0m             \u001b[0mself\u001b[0m\u001b[0;34m.\u001b[0m\u001b[0mset_layout_engine\u001b[0m\u001b[0;34m(\u001b[0m\u001b[0mengine\u001b[0m\u001b[0;34m)\u001b[0m\u001b[0;34m\u001b[0m\u001b[0;34m\u001b[0m\u001b[0m\n\u001b[0;32m-> 3509\u001b[0;31m             \u001b[0mengine\u001b[0m\u001b[0;34m.\u001b[0m\u001b[0mexecute\u001b[0m\u001b[0;34m(\u001b[0m\u001b[0mself\u001b[0m\u001b[0;34m)\u001b[0m\u001b[0;34m\u001b[0m\u001b[0;34m\u001b[0m\u001b[0m\n\u001b[0m\u001b[1;32m   3510\u001b[0m             \u001b[0;32mif\u001b[0m \u001b[0;32mnot\u001b[0m \u001b[0misinstance\u001b[0m\u001b[0;34m(\u001b[0m\u001b[0mprevious_engine\u001b[0m\u001b[0;34m,\u001b[0m \u001b[0mTightLayoutEngine\u001b[0m\u001b[0;34m)\u001b[0m\u001b[0;31m \u001b[0m\u001b[0;31m\\\u001b[0m\u001b[0;34m\u001b[0m\u001b[0;34m\u001b[0m\u001b[0m\n\u001b[1;32m   3511\u001b[0m                     \u001b[0;32mand\u001b[0m \u001b[0mprevious_engine\u001b[0m \u001b[0;32mis\u001b[0m \u001b[0;32mnot\u001b[0m \u001b[0;32mNone\u001b[0m\u001b[0;34m:\u001b[0m\u001b[0;34m\u001b[0m\u001b[0;34m\u001b[0m\u001b[0m\n",
            "\u001b[0;32m/usr/local/lib/python3.10/dist-packages/matplotlib/layout_engine.py\u001b[0m in \u001b[0;36mexecute\u001b[0;34m(self, fig)\u001b[0m\n\u001b[1;32m    176\u001b[0m         \u001b[0mrenderer\u001b[0m \u001b[0;34m=\u001b[0m \u001b[0mfig\u001b[0m\u001b[0;34m.\u001b[0m\u001b[0m_get_renderer\u001b[0m\u001b[0;34m(\u001b[0m\u001b[0;34m)\u001b[0m\u001b[0;34m\u001b[0m\u001b[0;34m\u001b[0m\u001b[0m\n\u001b[1;32m    177\u001b[0m         \u001b[0;32mwith\u001b[0m \u001b[0mgetattr\u001b[0m\u001b[0;34m(\u001b[0m\u001b[0mrenderer\u001b[0m\u001b[0;34m,\u001b[0m \u001b[0;34m\"_draw_disabled\"\u001b[0m\u001b[0;34m,\u001b[0m \u001b[0mnullcontext\u001b[0m\u001b[0;34m)\u001b[0m\u001b[0;34m(\u001b[0m\u001b[0;34m)\u001b[0m\u001b[0;34m:\u001b[0m\u001b[0;34m\u001b[0m\u001b[0;34m\u001b[0m\u001b[0m\n\u001b[0;32m--> 178\u001b[0;31m             kwargs = get_tight_layout_figure(\n\u001b[0m\u001b[1;32m    179\u001b[0m                 \u001b[0mfig\u001b[0m\u001b[0;34m,\u001b[0m \u001b[0mfig\u001b[0m\u001b[0;34m.\u001b[0m\u001b[0maxes\u001b[0m\u001b[0;34m,\u001b[0m \u001b[0mget_subplotspec_list\u001b[0m\u001b[0;34m(\u001b[0m\u001b[0mfig\u001b[0m\u001b[0;34m.\u001b[0m\u001b[0maxes\u001b[0m\u001b[0;34m)\u001b[0m\u001b[0;34m,\u001b[0m \u001b[0mrenderer\u001b[0m\u001b[0;34m,\u001b[0m\u001b[0;34m\u001b[0m\u001b[0;34m\u001b[0m\u001b[0m\n\u001b[1;32m    180\u001b[0m                 \u001b[0mpad\u001b[0m\u001b[0;34m=\u001b[0m\u001b[0minfo\u001b[0m\u001b[0;34m[\u001b[0m\u001b[0;34m'pad'\u001b[0m\u001b[0;34m]\u001b[0m\u001b[0;34m,\u001b[0m \u001b[0mh_pad\u001b[0m\u001b[0;34m=\u001b[0m\u001b[0minfo\u001b[0m\u001b[0;34m[\u001b[0m\u001b[0;34m'h_pad'\u001b[0m\u001b[0;34m]\u001b[0m\u001b[0;34m,\u001b[0m \u001b[0mw_pad\u001b[0m\u001b[0;34m=\u001b[0m\u001b[0minfo\u001b[0m\u001b[0;34m[\u001b[0m\u001b[0;34m'w_pad'\u001b[0m\u001b[0;34m]\u001b[0m\u001b[0;34m,\u001b[0m\u001b[0;34m\u001b[0m\u001b[0;34m\u001b[0m\u001b[0m\n",
            "\u001b[0;32m/usr/local/lib/python3.10/dist-packages/matplotlib/_tight_layout.py\u001b[0m in \u001b[0;36mget_tight_layout_figure\u001b[0;34m(fig, axes_list, subplotspec_list, renderer, pad, h_pad, w_pad, rect)\u001b[0m\n\u001b[1;32m    264\u001b[0m             slice(ss.colspan.start * div_col, ss.colspan.stop * div_col)))\n\u001b[1;32m    265\u001b[0m \u001b[0;34m\u001b[0m\u001b[0m\n\u001b[0;32m--> 266\u001b[0;31m     kwargs = _auto_adjust_subplotpars(fig, renderer,\n\u001b[0m\u001b[1;32m    267\u001b[0m                                       \u001b[0mshape\u001b[0m\u001b[0;34m=\u001b[0m\u001b[0;34m(\u001b[0m\u001b[0mmax_nrows\u001b[0m\u001b[0;34m,\u001b[0m \u001b[0mmax_ncols\u001b[0m\u001b[0;34m)\u001b[0m\u001b[0;34m,\u001b[0m\u001b[0;34m\u001b[0m\u001b[0;34m\u001b[0m\u001b[0m\n\u001b[1;32m    268\u001b[0m                                       \u001b[0mspan_pairs\u001b[0m\u001b[0;34m=\u001b[0m\u001b[0mspan_pairs\u001b[0m\u001b[0;34m,\u001b[0m\u001b[0;34m\u001b[0m\u001b[0;34m\u001b[0m\u001b[0m\n",
            "\u001b[0;32m/usr/local/lib/python3.10/dist-packages/matplotlib/_tight_layout.py\u001b[0m in \u001b[0;36m_auto_adjust_subplotpars\u001b[0;34m(fig, renderer, shape, span_pairs, subplot_list, ax_bbox_list, pad, h_pad, w_pad, rect)\u001b[0m\n\u001b[1;32m     80\u001b[0m         \u001b[0;32mfor\u001b[0m \u001b[0max\u001b[0m \u001b[0;32min\u001b[0m \u001b[0msubplots\u001b[0m\u001b[0;34m:\u001b[0m\u001b[0;34m\u001b[0m\u001b[0;34m\u001b[0m\u001b[0m\n\u001b[1;32m     81\u001b[0m             \u001b[0;32mif\u001b[0m \u001b[0max\u001b[0m\u001b[0;34m.\u001b[0m\u001b[0mget_visible\u001b[0m\u001b[0;34m(\u001b[0m\u001b[0;34m)\u001b[0m\u001b[0;34m:\u001b[0m\u001b[0;34m\u001b[0m\u001b[0;34m\u001b[0m\u001b[0m\n\u001b[0;32m---> 82\u001b[0;31m                 \u001b[0mbb\u001b[0m \u001b[0;34m+=\u001b[0m \u001b[0;34m[\u001b[0m\u001b[0mmartist\u001b[0m\u001b[0;34m.\u001b[0m\u001b[0m_get_tightbbox_for_layout_only\u001b[0m\u001b[0;34m(\u001b[0m\u001b[0max\u001b[0m\u001b[0;34m,\u001b[0m \u001b[0mrenderer\u001b[0m\u001b[0;34m)\u001b[0m\u001b[0;34m]\u001b[0m\u001b[0;34m\u001b[0m\u001b[0;34m\u001b[0m\u001b[0m\n\u001b[0m\u001b[1;32m     83\u001b[0m \u001b[0;34m\u001b[0m\u001b[0m\n\u001b[1;32m     84\u001b[0m         \u001b[0mtight_bbox_raw\u001b[0m \u001b[0;34m=\u001b[0m \u001b[0mBbox\u001b[0m\u001b[0;34m.\u001b[0m\u001b[0munion\u001b[0m\u001b[0;34m(\u001b[0m\u001b[0mbb\u001b[0m\u001b[0;34m)\u001b[0m\u001b[0;34m\u001b[0m\u001b[0;34m\u001b[0m\u001b[0m\n",
            "\u001b[0;32m/usr/local/lib/python3.10/dist-packages/matplotlib/artist.py\u001b[0m in \u001b[0;36m_get_tightbbox_for_layout_only\u001b[0;34m(obj, *args, **kwargs)\u001b[0m\n\u001b[1;32m   1413\u001b[0m     \"\"\"\n\u001b[1;32m   1414\u001b[0m     \u001b[0;32mtry\u001b[0m\u001b[0;34m:\u001b[0m\u001b[0;34m\u001b[0m\u001b[0;34m\u001b[0m\u001b[0m\n\u001b[0;32m-> 1415\u001b[0;31m         \u001b[0;32mreturn\u001b[0m \u001b[0mobj\u001b[0m\u001b[0;34m.\u001b[0m\u001b[0mget_tightbbox\u001b[0m\u001b[0;34m(\u001b[0m\u001b[0;34m*\u001b[0m\u001b[0margs\u001b[0m\u001b[0;34m,\u001b[0m \u001b[0;34m**\u001b[0m\u001b[0;34m{\u001b[0m\u001b[0;34m**\u001b[0m\u001b[0mkwargs\u001b[0m\u001b[0;34m,\u001b[0m \u001b[0;34m\"for_layout_only\"\u001b[0m\u001b[0;34m:\u001b[0m \u001b[0;32mTrue\u001b[0m\u001b[0;34m}\u001b[0m\u001b[0;34m)\u001b[0m\u001b[0;34m\u001b[0m\u001b[0;34m\u001b[0m\u001b[0m\n\u001b[0m\u001b[1;32m   1416\u001b[0m     \u001b[0;32mexcept\u001b[0m \u001b[0mTypeError\u001b[0m\u001b[0;34m:\u001b[0m\u001b[0;34m\u001b[0m\u001b[0;34m\u001b[0m\u001b[0m\n\u001b[1;32m   1417\u001b[0m         \u001b[0;32mreturn\u001b[0m \u001b[0mobj\u001b[0m\u001b[0;34m.\u001b[0m\u001b[0mget_tightbbox\u001b[0m\u001b[0;34m(\u001b[0m\u001b[0;34m*\u001b[0m\u001b[0margs\u001b[0m\u001b[0;34m,\u001b[0m \u001b[0;34m**\u001b[0m\u001b[0mkwargs\u001b[0m\u001b[0;34m)\u001b[0m\u001b[0;34m\u001b[0m\u001b[0;34m\u001b[0m\u001b[0m\n",
            "\u001b[0;32m/usr/local/lib/python3.10/dist-packages/matplotlib/axes/_base.py\u001b[0m in \u001b[0;36mget_tightbbox\u001b[0;34m(self, renderer, call_axes_locator, bbox_extra_artists, for_layout_only)\u001b[0m\n\u001b[1;32m   4383\u001b[0m         \u001b[0;32mfor\u001b[0m \u001b[0maxis\u001b[0m \u001b[0;32min\u001b[0m \u001b[0mself\u001b[0m\u001b[0;34m.\u001b[0m\u001b[0m_axis_map\u001b[0m\u001b[0;34m.\u001b[0m\u001b[0mvalues\u001b[0m\u001b[0;34m(\u001b[0m\u001b[0;34m)\u001b[0m\u001b[0;34m:\u001b[0m\u001b[0;34m\u001b[0m\u001b[0;34m\u001b[0m\u001b[0m\n\u001b[1;32m   4384\u001b[0m             \u001b[0;32mif\u001b[0m \u001b[0mself\u001b[0m\u001b[0;34m.\u001b[0m\u001b[0maxison\u001b[0m \u001b[0;32mand\u001b[0m \u001b[0maxis\u001b[0m\u001b[0;34m.\u001b[0m\u001b[0mget_visible\u001b[0m\u001b[0;34m(\u001b[0m\u001b[0;34m)\u001b[0m\u001b[0;34m:\u001b[0m\u001b[0;34m\u001b[0m\u001b[0;34m\u001b[0m\u001b[0m\n\u001b[0;32m-> 4385\u001b[0;31m                 \u001b[0mba\u001b[0m \u001b[0;34m=\u001b[0m \u001b[0mmartist\u001b[0m\u001b[0;34m.\u001b[0m\u001b[0m_get_tightbbox_for_layout_only\u001b[0m\u001b[0;34m(\u001b[0m\u001b[0maxis\u001b[0m\u001b[0;34m,\u001b[0m \u001b[0mrenderer\u001b[0m\u001b[0;34m)\u001b[0m\u001b[0;34m\u001b[0m\u001b[0;34m\u001b[0m\u001b[0m\n\u001b[0m\u001b[1;32m   4386\u001b[0m                 \u001b[0;32mif\u001b[0m \u001b[0mba\u001b[0m\u001b[0;34m:\u001b[0m\u001b[0;34m\u001b[0m\u001b[0;34m\u001b[0m\u001b[0m\n\u001b[1;32m   4387\u001b[0m                     \u001b[0mbb\u001b[0m\u001b[0;34m.\u001b[0m\u001b[0mappend\u001b[0m\u001b[0;34m(\u001b[0m\u001b[0mba\u001b[0m\u001b[0;34m)\u001b[0m\u001b[0;34m\u001b[0m\u001b[0;34m\u001b[0m\u001b[0m\n",
            "\u001b[0;32m/usr/local/lib/python3.10/dist-packages/matplotlib/artist.py\u001b[0m in \u001b[0;36m_get_tightbbox_for_layout_only\u001b[0;34m(obj, *args, **kwargs)\u001b[0m\n\u001b[1;32m   1413\u001b[0m     \"\"\"\n\u001b[1;32m   1414\u001b[0m     \u001b[0;32mtry\u001b[0m\u001b[0;34m:\u001b[0m\u001b[0;34m\u001b[0m\u001b[0;34m\u001b[0m\u001b[0m\n\u001b[0;32m-> 1415\u001b[0;31m         \u001b[0;32mreturn\u001b[0m \u001b[0mobj\u001b[0m\u001b[0;34m.\u001b[0m\u001b[0mget_tightbbox\u001b[0m\u001b[0;34m(\u001b[0m\u001b[0;34m*\u001b[0m\u001b[0margs\u001b[0m\u001b[0;34m,\u001b[0m \u001b[0;34m**\u001b[0m\u001b[0;34m{\u001b[0m\u001b[0;34m**\u001b[0m\u001b[0mkwargs\u001b[0m\u001b[0;34m,\u001b[0m \u001b[0;34m\"for_layout_only\"\u001b[0m\u001b[0;34m:\u001b[0m \u001b[0;32mTrue\u001b[0m\u001b[0;34m}\u001b[0m\u001b[0;34m)\u001b[0m\u001b[0;34m\u001b[0m\u001b[0;34m\u001b[0m\u001b[0m\n\u001b[0m\u001b[1;32m   1416\u001b[0m     \u001b[0;32mexcept\u001b[0m \u001b[0mTypeError\u001b[0m\u001b[0;34m:\u001b[0m\u001b[0;34m\u001b[0m\u001b[0;34m\u001b[0m\u001b[0m\n\u001b[1;32m   1417\u001b[0m         \u001b[0;32mreturn\u001b[0m \u001b[0mobj\u001b[0m\u001b[0;34m.\u001b[0m\u001b[0mget_tightbbox\u001b[0m\u001b[0;34m(\u001b[0m\u001b[0;34m*\u001b[0m\u001b[0margs\u001b[0m\u001b[0;34m,\u001b[0m \u001b[0;34m**\u001b[0m\u001b[0mkwargs\u001b[0m\u001b[0;34m)\u001b[0m\u001b[0;34m\u001b[0m\u001b[0;34m\u001b[0m\u001b[0m\n",
            "\u001b[0;32m/usr/local/lib/python3.10/dist-packages/matplotlib/axis.py\u001b[0m in \u001b[0;36mget_tightbbox\u001b[0;34m(self, renderer, for_layout_only)\u001b[0m\n\u001b[1;32m   1321\u001b[0m         \u001b[0;32mif\u001b[0m \u001b[0mrenderer\u001b[0m \u001b[0;32mis\u001b[0m \u001b[0;32mNone\u001b[0m\u001b[0;34m:\u001b[0m\u001b[0;34m\u001b[0m\u001b[0;34m\u001b[0m\u001b[0m\n\u001b[1;32m   1322\u001b[0m             \u001b[0mrenderer\u001b[0m \u001b[0;34m=\u001b[0m \u001b[0mself\u001b[0m\u001b[0;34m.\u001b[0m\u001b[0mfigure\u001b[0m\u001b[0;34m.\u001b[0m\u001b[0m_get_renderer\u001b[0m\u001b[0;34m(\u001b[0m\u001b[0;34m)\u001b[0m\u001b[0;34m\u001b[0m\u001b[0;34m\u001b[0m\u001b[0m\n\u001b[0;32m-> 1323\u001b[0;31m         \u001b[0mticks_to_draw\u001b[0m \u001b[0;34m=\u001b[0m \u001b[0mself\u001b[0m\u001b[0;34m.\u001b[0m\u001b[0m_update_ticks\u001b[0m\u001b[0;34m(\u001b[0m\u001b[0;34m)\u001b[0m\u001b[0;34m\u001b[0m\u001b[0;34m\u001b[0m\u001b[0m\n\u001b[0m\u001b[1;32m   1324\u001b[0m \u001b[0;34m\u001b[0m\u001b[0m\n\u001b[1;32m   1325\u001b[0m         \u001b[0mself\u001b[0m\u001b[0;34m.\u001b[0m\u001b[0m_update_label_position\u001b[0m\u001b[0;34m(\u001b[0m\u001b[0mrenderer\u001b[0m\u001b[0;34m)\u001b[0m\u001b[0;34m\u001b[0m\u001b[0;34m\u001b[0m\u001b[0m\n",
            "\u001b[0;32m/usr/local/lib/python3.10/dist-packages/matplotlib/axis.py\u001b[0m in \u001b[0;36m_update_ticks\u001b[0;34m(self)\u001b[0m\n\u001b[1;32m   1268\u001b[0m             \u001b[0mtick\u001b[0m\u001b[0;34m.\u001b[0m\u001b[0mset_label1\u001b[0m\u001b[0;34m(\u001b[0m\u001b[0mlabel\u001b[0m\u001b[0;34m)\u001b[0m\u001b[0;34m\u001b[0m\u001b[0;34m\u001b[0m\u001b[0m\n\u001b[1;32m   1269\u001b[0m             \u001b[0mtick\u001b[0m\u001b[0;34m.\u001b[0m\u001b[0mset_label2\u001b[0m\u001b[0;34m(\u001b[0m\u001b[0mlabel\u001b[0m\u001b[0;34m)\u001b[0m\u001b[0;34m\u001b[0m\u001b[0;34m\u001b[0m\u001b[0m\n\u001b[0;32m-> 1270\u001b[0;31m         \u001b[0mminor_locs\u001b[0m \u001b[0;34m=\u001b[0m \u001b[0mself\u001b[0m\u001b[0;34m.\u001b[0m\u001b[0mget_minorticklocs\u001b[0m\u001b[0;34m(\u001b[0m\u001b[0;34m)\u001b[0m\u001b[0;34m\u001b[0m\u001b[0;34m\u001b[0m\u001b[0m\n\u001b[0m\u001b[1;32m   1271\u001b[0m         \u001b[0mminor_labels\u001b[0m \u001b[0;34m=\u001b[0m \u001b[0mself\u001b[0m\u001b[0;34m.\u001b[0m\u001b[0mminor\u001b[0m\u001b[0;34m.\u001b[0m\u001b[0mformatter\u001b[0m\u001b[0;34m.\u001b[0m\u001b[0mformat_ticks\u001b[0m\u001b[0;34m(\u001b[0m\u001b[0mminor_locs\u001b[0m\u001b[0;34m)\u001b[0m\u001b[0;34m\u001b[0m\u001b[0;34m\u001b[0m\u001b[0m\n\u001b[1;32m   1272\u001b[0m         \u001b[0mminor_ticks\u001b[0m \u001b[0;34m=\u001b[0m \u001b[0mself\u001b[0m\u001b[0;34m.\u001b[0m\u001b[0mget_minor_ticks\u001b[0m\u001b[0;34m(\u001b[0m\u001b[0mlen\u001b[0m\u001b[0;34m(\u001b[0m\u001b[0mminor_locs\u001b[0m\u001b[0;34m)\u001b[0m\u001b[0;34m)\u001b[0m\u001b[0;34m\u001b[0m\u001b[0;34m\u001b[0m\u001b[0m\n",
            "\u001b[0;32m/usr/local/lib/python3.10/dist-packages/matplotlib/axis.py\u001b[0m in \u001b[0;36mget_minorticklocs\u001b[0;34m(self)\u001b[0m\n\u001b[1;32m   1493\u001b[0m             \u001b[0mtr_minor_locs\u001b[0m \u001b[0;34m=\u001b[0m \u001b[0mtransform\u001b[0m\u001b[0;34m.\u001b[0m\u001b[0mtransform\u001b[0m\u001b[0;34m(\u001b[0m\u001b[0mminor_locs\u001b[0m\u001b[0;34m)\u001b[0m\u001b[0;34m\u001b[0m\u001b[0;34m\u001b[0m\u001b[0m\n\u001b[1;32m   1494\u001b[0m             \u001b[0mtr_major_locs\u001b[0m \u001b[0;34m=\u001b[0m \u001b[0mtransform\u001b[0m\u001b[0;34m.\u001b[0m\u001b[0mtransform\u001b[0m\u001b[0;34m(\u001b[0m\u001b[0mmajor_locs\u001b[0m\u001b[0;34m)\u001b[0m\u001b[0;34m\u001b[0m\u001b[0;34m\u001b[0m\u001b[0m\n\u001b[0;32m-> 1495\u001b[0;31m             \u001b[0mlo\u001b[0m\u001b[0;34m,\u001b[0m \u001b[0mhi\u001b[0m \u001b[0;34m=\u001b[0m \u001b[0msorted\u001b[0m\u001b[0;34m(\u001b[0m\u001b[0mtransform\u001b[0m\u001b[0;34m.\u001b[0m\u001b[0mtransform\u001b[0m\u001b[0;34m(\u001b[0m\u001b[0mself\u001b[0m\u001b[0;34m.\u001b[0m\u001b[0mget_view_interval\u001b[0m\u001b[0;34m(\u001b[0m\u001b[0;34m)\u001b[0m\u001b[0;34m)\u001b[0m\u001b[0;34m)\u001b[0m\u001b[0;34m\u001b[0m\u001b[0;34m\u001b[0m\u001b[0m\n\u001b[0m\u001b[1;32m   1496\u001b[0m             \u001b[0;31m# Use the transformed view limits as scale.  1e-5 is the default\u001b[0m\u001b[0;34m\u001b[0m\u001b[0;34m\u001b[0m\u001b[0m\n\u001b[1;32m   1497\u001b[0m             \u001b[0;31m# rtol for np.isclose.\u001b[0m\u001b[0;34m\u001b[0m\u001b[0;34m\u001b[0m\u001b[0m\n",
            "\u001b[0;32m/usr/local/lib/python3.10/dist-packages/matplotlib/axis.py\u001b[0m in \u001b[0;36mgetter\u001b[0;34m(self)\u001b[0m\n\u001b[1;32m   2204\u001b[0m     \u001b[0;32mdef\u001b[0m \u001b[0mgetter\u001b[0m\u001b[0;34m(\u001b[0m\u001b[0mself\u001b[0m\u001b[0;34m)\u001b[0m\u001b[0;34m:\u001b[0m\u001b[0;34m\u001b[0m\u001b[0;34m\u001b[0m\u001b[0m\n\u001b[1;32m   2205\u001b[0m         \u001b[0;31m# docstring inherited.\u001b[0m\u001b[0;34m\u001b[0m\u001b[0;34m\u001b[0m\u001b[0m\n\u001b[0;32m-> 2206\u001b[0;31m         \u001b[0;32mreturn\u001b[0m \u001b[0mgetattr\u001b[0m\u001b[0;34m(\u001b[0m\u001b[0mgetattr\u001b[0m\u001b[0;34m(\u001b[0m\u001b[0mself\u001b[0m\u001b[0;34m.\u001b[0m\u001b[0maxes\u001b[0m\u001b[0;34m,\u001b[0m \u001b[0mlim_name\u001b[0m\u001b[0;34m)\u001b[0m\u001b[0;34m,\u001b[0m \u001b[0mattr_name\u001b[0m\u001b[0;34m)\u001b[0m\u001b[0;34m\u001b[0m\u001b[0;34m\u001b[0m\u001b[0m\n\u001b[0m\u001b[1;32m   2207\u001b[0m \u001b[0;34m\u001b[0m\u001b[0m\n\u001b[1;32m   2208\u001b[0m     \u001b[0;32mdef\u001b[0m \u001b[0msetter\u001b[0m\u001b[0;34m(\u001b[0m\u001b[0mself\u001b[0m\u001b[0;34m,\u001b[0m \u001b[0mvmin\u001b[0m\u001b[0;34m,\u001b[0m \u001b[0mvmax\u001b[0m\u001b[0;34m,\u001b[0m \u001b[0mignore\u001b[0m\u001b[0;34m=\u001b[0m\u001b[0;32mFalse\u001b[0m\u001b[0;34m)\u001b[0m\u001b[0;34m:\u001b[0m\u001b[0;34m\u001b[0m\u001b[0;34m\u001b[0m\u001b[0m\n",
            "\u001b[0;32m/usr/local/lib/python3.10/dist-packages/matplotlib/axes/_base.py\u001b[0m in \u001b[0;36mviewLim\u001b[0;34m(self)\u001b[0m\n\u001b[1;32m    855\u001b[0m     \u001b[0;34m@\u001b[0m\u001b[0mproperty\u001b[0m\u001b[0;34m\u001b[0m\u001b[0;34m\u001b[0m\u001b[0m\n\u001b[1;32m    856\u001b[0m     \u001b[0;32mdef\u001b[0m \u001b[0mviewLim\u001b[0m\u001b[0;34m(\u001b[0m\u001b[0mself\u001b[0m\u001b[0;34m)\u001b[0m\u001b[0;34m:\u001b[0m\u001b[0;34m\u001b[0m\u001b[0;34m\u001b[0m\u001b[0m\n\u001b[0;32m--> 857\u001b[0;31m         \u001b[0mself\u001b[0m\u001b[0;34m.\u001b[0m\u001b[0m_unstale_viewLim\u001b[0m\u001b[0;34m(\u001b[0m\u001b[0;34m)\u001b[0m\u001b[0;34m\u001b[0m\u001b[0;34m\u001b[0m\u001b[0m\n\u001b[0m\u001b[1;32m    858\u001b[0m         \u001b[0;32mreturn\u001b[0m \u001b[0mself\u001b[0m\u001b[0;34m.\u001b[0m\u001b[0m_viewLim\u001b[0m\u001b[0;34m\u001b[0m\u001b[0;34m\u001b[0m\u001b[0m\n\u001b[1;32m    859\u001b[0m \u001b[0;34m\u001b[0m\u001b[0m\n",
            "\u001b[0;32m/usr/local/lib/python3.10/dist-packages/matplotlib/axes/_base.py\u001b[0m in \u001b[0;36m_unstale_viewLim\u001b[0;34m(self)\u001b[0m\n\u001b[1;32m    842\u001b[0m         \u001b[0;31m# We should arrange to store this information once per share-group\u001b[0m\u001b[0;34m\u001b[0m\u001b[0;34m\u001b[0m\u001b[0m\n\u001b[1;32m    843\u001b[0m         \u001b[0;31m# instead of on every axis.\u001b[0m\u001b[0;34m\u001b[0m\u001b[0;34m\u001b[0m\u001b[0m\n\u001b[0;32m--> 844\u001b[0;31m         need_scale = {\n\u001b[0m\u001b[1;32m    845\u001b[0m             name: any(ax._stale_viewlims[name]\n\u001b[1;32m    846\u001b[0m                       for ax in self._shared_axes[name].get_siblings(self))\n",
            "\u001b[0;32m/usr/local/lib/python3.10/dist-packages/matplotlib/axes/_base.py\u001b[0m in \u001b[0;36m<dictcomp>\u001b[0;34m(.0)\u001b[0m\n\u001b[1;32m    844\u001b[0m         need_scale = {\n\u001b[1;32m    845\u001b[0m             name: any(ax._stale_viewlims[name]\n\u001b[0;32m--> 846\u001b[0;31m                       for ax in self._shared_axes[name].get_siblings(self))\n\u001b[0m\u001b[1;32m    847\u001b[0m             for name in self._axis_names}\n\u001b[1;32m    848\u001b[0m         \u001b[0;32mif\u001b[0m \u001b[0many\u001b[0m\u001b[0;34m(\u001b[0m\u001b[0mneed_scale\u001b[0m\u001b[0;34m.\u001b[0m\u001b[0mvalues\u001b[0m\u001b[0;34m(\u001b[0m\u001b[0;34m)\u001b[0m\u001b[0;34m)\u001b[0m\u001b[0;34m:\u001b[0m\u001b[0;34m\u001b[0m\u001b[0;34m\u001b[0m\u001b[0m\n",
            "\u001b[0;32m/usr/local/lib/python3.10/dist-packages/matplotlib/cbook/__init__.py\u001b[0m in \u001b[0;36mget_siblings\u001b[0;34m(self, a)\u001b[0m\n\u001b[1;32m    880\u001b[0m     \u001b[0;32mdef\u001b[0m \u001b[0mget_siblings\u001b[0m\u001b[0;34m(\u001b[0m\u001b[0mself\u001b[0m\u001b[0;34m,\u001b[0m \u001b[0ma\u001b[0m\u001b[0;34m)\u001b[0m\u001b[0;34m:\u001b[0m\u001b[0;34m\u001b[0m\u001b[0;34m\u001b[0m\u001b[0m\n\u001b[1;32m    881\u001b[0m         \u001b[0;34m\"\"\"Return all of the items joined with *a*, including itself.\"\"\"\u001b[0m\u001b[0;34m\u001b[0m\u001b[0;34m\u001b[0m\u001b[0m\n\u001b[0;32m--> 882\u001b[0;31m         \u001b[0mself\u001b[0m\u001b[0;34m.\u001b[0m\u001b[0mclean\u001b[0m\u001b[0;34m(\u001b[0m\u001b[0;34m)\u001b[0m\u001b[0;34m\u001b[0m\u001b[0;34m\u001b[0m\u001b[0m\n\u001b[0m\u001b[1;32m    883\u001b[0m         \u001b[0msiblings\u001b[0m \u001b[0;34m=\u001b[0m \u001b[0mself\u001b[0m\u001b[0;34m.\u001b[0m\u001b[0m_mapping\u001b[0m\u001b[0;34m.\u001b[0m\u001b[0mget\u001b[0m\u001b[0;34m(\u001b[0m\u001b[0mweakref\u001b[0m\u001b[0;34m.\u001b[0m\u001b[0mref\u001b[0m\u001b[0;34m(\u001b[0m\u001b[0ma\u001b[0m\u001b[0;34m)\u001b[0m\u001b[0;34m,\u001b[0m \u001b[0;34m[\u001b[0m\u001b[0mweakref\u001b[0m\u001b[0;34m.\u001b[0m\u001b[0mref\u001b[0m\u001b[0;34m(\u001b[0m\u001b[0ma\u001b[0m\u001b[0;34m)\u001b[0m\u001b[0;34m]\u001b[0m\u001b[0;34m)\u001b[0m\u001b[0;34m\u001b[0m\u001b[0;34m\u001b[0m\u001b[0m\n\u001b[1;32m    884\u001b[0m         \u001b[0;32mreturn\u001b[0m \u001b[0;34m[\u001b[0m\u001b[0mx\u001b[0m\u001b[0;34m(\u001b[0m\u001b[0;34m)\u001b[0m \u001b[0;32mfor\u001b[0m \u001b[0mx\u001b[0m \u001b[0;32min\u001b[0m \u001b[0msiblings\u001b[0m\u001b[0;34m]\u001b[0m\u001b[0;34m\u001b[0m\u001b[0;34m\u001b[0m\u001b[0m\n",
            "\u001b[0;32m/usr/local/lib/python3.10/dist-packages/matplotlib/cbook/__init__.py\u001b[0m in \u001b[0;36mclean\u001b[0;34m(self)\u001b[0m\n\u001b[1;32m    832\u001b[0m         \u001b[0;34m\"\"\"Clean dead weak references from the dictionary.\"\"\"\u001b[0m\u001b[0;34m\u001b[0m\u001b[0;34m\u001b[0m\u001b[0m\n\u001b[1;32m    833\u001b[0m         \u001b[0mmapping\u001b[0m \u001b[0;34m=\u001b[0m \u001b[0mself\u001b[0m\u001b[0;34m.\u001b[0m\u001b[0m_mapping\u001b[0m\u001b[0;34m\u001b[0m\u001b[0;34m\u001b[0m\u001b[0m\n\u001b[0;32m--> 834\u001b[0;31m         \u001b[0mto_drop\u001b[0m \u001b[0;34m=\u001b[0m \u001b[0;34m[\u001b[0m\u001b[0mkey\u001b[0m \u001b[0;32mfor\u001b[0m \u001b[0mkey\u001b[0m \u001b[0;32min\u001b[0m \u001b[0mmapping\u001b[0m \u001b[0;32mif\u001b[0m \u001b[0mkey\u001b[0m\u001b[0;34m(\u001b[0m\u001b[0;34m)\u001b[0m \u001b[0;32mis\u001b[0m \u001b[0;32mNone\u001b[0m\u001b[0;34m]\u001b[0m\u001b[0;34m\u001b[0m\u001b[0;34m\u001b[0m\u001b[0m\n\u001b[0m\u001b[1;32m    835\u001b[0m         \u001b[0;32mfor\u001b[0m \u001b[0mkey\u001b[0m \u001b[0;32min\u001b[0m \u001b[0mto_drop\u001b[0m\u001b[0;34m:\u001b[0m\u001b[0;34m\u001b[0m\u001b[0;34m\u001b[0m\u001b[0m\n\u001b[1;32m    836\u001b[0m             \u001b[0mval\u001b[0m \u001b[0;34m=\u001b[0m \u001b[0mmapping\u001b[0m\u001b[0;34m.\u001b[0m\u001b[0mpop\u001b[0m\u001b[0;34m(\u001b[0m\u001b[0mkey\u001b[0m\u001b[0;34m)\u001b[0m\u001b[0;34m\u001b[0m\u001b[0;34m\u001b[0m\u001b[0m\n",
            "\u001b[0;32m/usr/local/lib/python3.10/dist-packages/matplotlib/cbook/__init__.py\u001b[0m in \u001b[0;36m<listcomp>\u001b[0;34m(.0)\u001b[0m\n\u001b[1;32m    832\u001b[0m         \u001b[0;34m\"\"\"Clean dead weak references from the dictionary.\"\"\"\u001b[0m\u001b[0;34m\u001b[0m\u001b[0;34m\u001b[0m\u001b[0m\n\u001b[1;32m    833\u001b[0m         \u001b[0mmapping\u001b[0m \u001b[0;34m=\u001b[0m \u001b[0mself\u001b[0m\u001b[0;34m.\u001b[0m\u001b[0m_mapping\u001b[0m\u001b[0;34m\u001b[0m\u001b[0;34m\u001b[0m\u001b[0m\n\u001b[0;32m--> 834\u001b[0;31m         \u001b[0mto_drop\u001b[0m \u001b[0;34m=\u001b[0m \u001b[0;34m[\u001b[0m\u001b[0mkey\u001b[0m \u001b[0;32mfor\u001b[0m \u001b[0mkey\u001b[0m \u001b[0;32min\u001b[0m \u001b[0mmapping\u001b[0m \u001b[0;32mif\u001b[0m \u001b[0mkey\u001b[0m\u001b[0;34m(\u001b[0m\u001b[0;34m)\u001b[0m \u001b[0;32mis\u001b[0m \u001b[0;32mNone\u001b[0m\u001b[0;34m]\u001b[0m\u001b[0;34m\u001b[0m\u001b[0;34m\u001b[0m\u001b[0m\n\u001b[0m\u001b[1;32m    835\u001b[0m         \u001b[0;32mfor\u001b[0m \u001b[0mkey\u001b[0m \u001b[0;32min\u001b[0m \u001b[0mto_drop\u001b[0m\u001b[0;34m:\u001b[0m\u001b[0;34m\u001b[0m\u001b[0;34m\u001b[0m\u001b[0m\n\u001b[1;32m    836\u001b[0m             \u001b[0mval\u001b[0m \u001b[0;34m=\u001b[0m \u001b[0mmapping\u001b[0m\u001b[0;34m.\u001b[0m\u001b[0mpop\u001b[0m\u001b[0;34m(\u001b[0m\u001b[0mkey\u001b[0m\u001b[0;34m)\u001b[0m\u001b[0;34m\u001b[0m\u001b[0;34m\u001b[0m\u001b[0m\n",
            "\u001b[0;31mKeyboardInterrupt\u001b[0m: "
          ]
        }
      ]
    },
    {
      "cell_type": "markdown",
      "source": [
        "##### **Variable:** `'CHILDREN'`"
      ],
      "metadata": {
        "id": "J-pvoOjKb_Vq"
      }
    },
    {
      "cell_type": "markdown",
      "source": [
        "\"How many children less than 18 years of age live in your household?\"\n",
        "\n",
        "**Possible Responses:**\n",
        "- 1 to 87 - \"Number of children (Notes: _ _ = Number of children)\"\n",
        "- 88 - \"None\"\n",
        "- 99 - \"Refused\""
      ],
      "metadata": {
        "id": "FQBdqSt5eCs4"
      }
    },
    {
      "cell_type": "code",
      "source": [
        "# CHILDREN count\n",
        "for i in set(tmp_df[\"CHILDREN\"]):\n",
        "    num = len(tmp_df[tmp_df[\"CHILDREN\"] == i])\n",
        "    print(f\"The number of people who answered {i} for 'CHILDREN' is {num}.\")"
      ],
      "metadata": {
        "id": "Mn34ZBwIo8a9"
      },
      "execution_count": null,
      "outputs": []
    },
    {
      "cell_type": "markdown",
      "source": [
        "Let's transform `'88.0'` to `'0.0'` and create a new, even more temporary DataFrame for just this variable plot that exclude responses of `'99.0'`."
      ],
      "metadata": {
        "id": "2HBTeVdldu5e"
      }
    },
    {
      "cell_type": "code",
      "source": [
        "# Even more temporary dataframe\n",
        "tmp_df_2 = tmp_df[:].copy()\n",
        "\n",
        "# before dropping\n",
        "print(\"Before dropping:\", len(tmp_df_2))\n",
        "\n",
        "# dropping 99.0 entries\n",
        "tmp_df_2 = tmp_df[:].copy()\n",
        "tmp_df_2 = tmp_df_2[~(tmp_df_2.CHILDREN == 99.0)]\n",
        "\n",
        "# reset the index\n",
        "tmp_df_2.reset_index(inplace=True)\n",
        "print(\"After dropping:\", len(tmp_df_2))"
      ],
      "metadata": {
        "colab": {
          "base_uri": "https://localhost:8080/"
        },
        "id": "HGrViyiAf4j0",
        "outputId": "0e43b1be-d90b-40db-8a42-800001733790"
      },
      "execution_count": null,
      "outputs": [
        {
          "output_type": "stream",
          "name": "stdout",
          "text": [
            "Before dropping: 4878\n",
            "After dropping: 4856\n"
          ]
        }
      ]
    },
    {
      "cell_type": "code",
      "source": [
        "# transform the CHILDREN variable\n",
        "li1 = tmp_df_2[\"CHILDREN\"]\n",
        "li2 = []\n",
        "\n",
        "for i in range(len(li1)):\n",
        "  if li1[i] == 88.0:\n",
        "    li2.append(0.0)\n",
        "  else:\n",
        "    li2.append(li1[i])\n",
        "\n",
        "tmp_df_2[\"CHILDREN_SIMP\"] = li2"
      ],
      "metadata": {
        "id": "CY2mp2RGeuzp"
      },
      "execution_count": null,
      "outputs": []
    },
    {
      "cell_type": "code",
      "source": [
        "# CHILDREN_SIMP\n",
        "#sns.lmplot(x=\"CHILDREN_SIMP\", y=\"DIABETE_SIMP\", data=tmp_df_2);\n",
        "#sns.scatterplot(x=\"CHILDREN_SIMP\", y=\"DIABETE_SIMP\", data=tmp_df_2);\n",
        "sns.catplot(x=\"CHILDREN_SIMP\", y=\"DIABETE_SIMP\", data=tmp_df_2, kind=\"bar\")\n",
        "plt.title(\"Diabetes Rate by Number of Children\")\n",
        "plt.xlabel(\"Number of kids\")\n",
        "plt.ylabel(\"Diabetes Rate\")\n",
        "plt.show()"
      ],
      "metadata": {
        "colab": {
          "base_uri": "https://localhost:8080/",
          "height": 529
        },
        "id": "9j9BdxFMKWUN",
        "outputId": "f61db30f-f62f-4ace-cbd2-7b7cb0793925"
      },
      "execution_count": null,
      "outputs": [
        {
          "output_type": "display_data",
          "data": {
            "text/plain": [
              "<Figure size 500x500 with 1 Axes>"
            ],
            "image/png": "[encoded data removed]"
          },
          "metadata": {}
        }
      ]
    },
    {
      "cell_type": "markdown",
      "source": [
        "The plot above has increasing variance as the number of children increases.  Given this variance it is hard to see clear trends.  There may be a difference between the rates of folks with diabetes along the line of parenthood vs non-parenthood.  Let's check real quick."
      ],
      "metadata": {
        "id": "N5mZCnvUmRQa"
      }
    },
    {
      "cell_type": "code",
      "source": [
        "# transform the CHILDREN_SIMP variable\n",
        "li1 = tmp_df_2[\"CHILDREN_SIMP\"]\n",
        "li2 = []\n",
        "\n",
        "for i in range(len(li1)):\n",
        "  if li1[i] == 0.0:\n",
        "    li2.append(0)\n",
        "  else:\n",
        "    li2.append(1)\n",
        "\n",
        "tmp_df_2[\"CHILDREN_SIMP_2\"] = li2"
      ],
      "metadata": {
        "id": "xQdf7EqvKWJ_"
      },
      "execution_count": null,
      "outputs": []
    },
    {
      "cell_type": "code",
      "source": [
        "# CHILDREN_SIMP_2\n",
        "#sns.lmplot(x=\"CHILDREN_SIMP\", y=\"DIABETE_SIMP\", data=tmp_df_2);\n",
        "#sns.scatterplot(x=\"CHILDREN_SIMP\", y=\"DIABETE_SIMP\", data=tmp_df_2);\n",
        "sns.catplot(x=\"CHILDREN_SIMP_2\", y=\"DIABETE_SIMP\", data=tmp_df_2, kind=\"bar\")\n",
        "plt.title(\"Diabetes Rate by Parent Status\")\n",
        "plt.xlabel(\"Parent (0 = No kids | 1 = One or more kids)\")\n",
        "plt.ylabel(\"Diabetes Rate\")\n",
        "plt.show()"
      ],
      "metadata": {
        "colab": {
          "base_uri": "https://localhost:8080/",
          "height": 529
        },
        "id": "IjxnqzMl41p6",
        "outputId": "173a33d9-4d73-49a1-cfaa-dbab1ebf3d53"
      },
      "execution_count": null,
      "outputs": [
        {
          "output_type": "display_data",
          "data": {
            "text/plain": [
              "<Figure size 500x500 with 1 Axes>"
            ],
            "image/png": "[encoded data removed]"
          },
          "metadata": {}
        }
      ]
    },
    {
      "cell_type": "markdown",
      "source": [
        "There does appear to be some difference between diabetes rates for people who have kids vs those without.  `'CHILDREN_SIMP_2'` might be more useful to our model than `'CHILDREN'` or `'CHILDREN_SIMP'`."
      ],
      "metadata": {
        "id": "tV1zFkK05erf"
      }
    },
    {
      "cell_type": "markdown",
      "source": [
        "##### **Variable:** `'_BMI5CAT'`"
      ],
      "metadata": {
        "id": "5Z7K-xri7cfM"
      }
    },
    {
      "cell_type": "markdown",
      "source": [
        "\"Four-categories of Body Mass Index (BMI)\"\n",
        "\n",
        "**Possible Responses:**\n",
        "- 1 - \"Underweight (Notes: `'_BMI5'` < 18.50 (`'_BMI5'` has 2 implied decimal places))\"\n",
        "- 2 - \"Normal Weight (Notes: 18.50 <= `'_BMI5'` < 25.00)\"\n",
        "- 3 - \"Overweight (Notes: 25.00 <= `'_BMI5'` < 30.00)\"\n",
        "- 4 - \"Obese (Notes: 30.00 <= `'_BMI5'` <= 99.99)\""
      ],
      "metadata": {
        "id": "6aTCVugPe3uj"
      }
    },
    {
      "cell_type": "code",
      "source": [
        "# _BMI5CAT counts\n",
        "for i in set(tmp_df[\"_BMI5CAT\"]):\n",
        "  if i >= 1.0:\n",
        "    num = len(tmp_df[tmp_df[\"_BMI5CAT\"] == i])\n",
        "    print(f\"The number of people who answered {i} for '_BMI5CAT' is {num}.\")\n",
        "  else:\n",
        "    continue"
      ],
      "metadata": {
        "colab": {
          "base_uri": "https://localhost:8080/"
        },
        "id": "ZdgRqzaw41hk",
        "outputId": "fedbffcc-b866-48d8-fa46-7f6cf610a422"
      },
      "execution_count": null,
      "outputs": [
        {
          "output_type": "stream",
          "name": "stdout",
          "text": [
            "The number of people who answered 1.0 for '_BMI5CAT' is 84.\n",
            "The number of people who answered 2.0 for '_BMI5CAT' is 1518.\n",
            "The number of people who answered 3.0 for '_BMI5CAT' is 1619.\n",
            "The number of people who answered 4.0 for '_BMI5CAT' is 1345.\n",
            "The number of people who answered nan for '_BMI5CAT' is 0.\n",
            "The number of people who answered nan for '_BMI5CAT' is 0.\n",
            "The number of people who answered nan for '_BMI5CAT' is 0.\n",
            "The number of people who answered nan for '_BMI5CAT' is 0.\n",
            "The number of people who answered nan for '_BMI5CAT' is 0.\n",
            "The number of people who answered nan for '_BMI5CAT' is 0.\n",
            "The number of people who answered nan for '_BMI5CAT' is 0.\n",
            "The number of people who answered nan for '_BMI5CAT' is 0.\n",
            "The number of people who answered nan for '_BMI5CAT' is 0.\n",
            "The number of people who answered nan for '_BMI5CAT' is 0.\n",
            "The number of people who answered nan for '_BMI5CAT' is 0.\n",
            "The number of people who answered nan for '_BMI5CAT' is 0.\n",
            "The number of people who answered nan for '_BMI5CAT' is 0.\n",
            "The number of people who answered nan for '_BMI5CAT' is 0.\n",
            "The number of people who answered nan for '_BMI5CAT' is 0.\n",
            "The number of people who answered nan for '_BMI5CAT' is 0.\n",
            "The number of people who answered nan for '_BMI5CAT' is 0.\n",
            "The number of people who answered nan for '_BMI5CAT' is 0.\n",
            "The number of people who answered nan for '_BMI5CAT' is 0.\n",
            "The number of people who answered nan for '_BMI5CAT' is 0.\n",
            "The number of people who answered nan for '_BMI5CAT' is 0.\n",
            "The number of people who answered nan for '_BMI5CAT' is 0.\n",
            "The number of people who answered nan for '_BMI5CAT' is 0.\n",
            "The number of people who answered nan for '_BMI5CAT' is 0.\n",
            "The number of people who answered nan for '_BMI5CAT' is 0.\n",
            "The number of people who answered nan for '_BMI5CAT' is 0.\n",
            "The number of people who answered nan for '_BMI5CAT' is 0.\n",
            "The number of people who answered nan for '_BMI5CAT' is 0.\n",
            "The number of people who answered nan for '_BMI5CAT' is 0.\n",
            "The number of people who answered nan for '_BMI5CAT' is 0.\n",
            "The number of people who answered nan for '_BMI5CAT' is 0.\n",
            "The number of people who answered nan for '_BMI5CAT' is 0.\n",
            "The number of people who answered nan for '_BMI5CAT' is 0.\n",
            "The number of people who answered nan for '_BMI5CAT' is 0.\n",
            "The number of people who answered nan for '_BMI5CAT' is 0.\n",
            "The number of people who answered nan for '_BMI5CAT' is 0.\n",
            "The number of people who answered nan for '_BMI5CAT' is 0.\n",
            "The number of people who answered nan for '_BMI5CAT' is 0.\n",
            "The number of people who answered nan for '_BMI5CAT' is 0.\n",
            "The number of people who answered nan for '_BMI5CAT' is 0.\n",
            "The number of people who answered nan for '_BMI5CAT' is 0.\n",
            "The number of people who answered nan for '_BMI5CAT' is 0.\n",
            "The number of people who answered nan for '_BMI5CAT' is 0.\n",
            "The number of people who answered nan for '_BMI5CAT' is 0.\n",
            "The number of people who answered nan for '_BMI5CAT' is 0.\n",
            "The number of people who answered nan for '_BMI5CAT' is 0.\n",
            "The number of people who answered nan for '_BMI5CAT' is 0.\n",
            "The number of people who answered nan for '_BMI5CAT' is 0.\n",
            "The number of people who answered nan for '_BMI5CAT' is 0.\n",
            "The number of people who answered nan for '_BMI5CAT' is 0.\n",
            "The number of people who answered nan for '_BMI5CAT' is 0.\n",
            "The number of people who answered nan for '_BMI5CAT' is 0.\n",
            "The number of people who answered nan for '_BMI5CAT' is 0.\n",
            "The number of people who answered nan for '_BMI5CAT' is 0.\n",
            "The number of people who answered nan for '_BMI5CAT' is 0.\n",
            "The number of people who answered nan for '_BMI5CAT' is 0.\n",
            "The number of people who answered nan for '_BMI5CAT' is 0.\n",
            "The number of people who answered nan for '_BMI5CAT' is 0.\n",
            "The number of people who answered nan for '_BMI5CAT' is 0.\n",
            "The number of people who answered nan for '_BMI5CAT' is 0.\n",
            "The number of people who answered nan for '_BMI5CAT' is 0.\n",
            "The number of people who answered nan for '_BMI5CAT' is 0.\n",
            "The number of people who answered nan for '_BMI5CAT' is 0.\n",
            "The number of people who answered nan for '_BMI5CAT' is 0.\n",
            "The number of people who answered nan for '_BMI5CAT' is 0.\n",
            "The number of people who answered nan for '_BMI5CAT' is 0.\n",
            "The number of people who answered nan for '_BMI5CAT' is 0.\n",
            "The number of people who answered nan for '_BMI5CAT' is 0.\n",
            "The number of people who answered nan for '_BMI5CAT' is 0.\n",
            "The number of people who answered nan for '_BMI5CAT' is 0.\n",
            "The number of people who answered nan for '_BMI5CAT' is 0.\n",
            "The number of people who answered nan for '_BMI5CAT' is 0.\n",
            "The number of people who answered nan for '_BMI5CAT' is 0.\n",
            "The number of people who answered nan for '_BMI5CAT' is 0.\n",
            "The number of people who answered nan for '_BMI5CAT' is 0.\n",
            "The number of people who answered nan for '_BMI5CAT' is 0.\n",
            "The number of people who answered nan for '_BMI5CAT' is 0.\n",
            "The number of people who answered nan for '_BMI5CAT' is 0.\n",
            "The number of people who answered nan for '_BMI5CAT' is 0.\n",
            "The number of people who answered nan for '_BMI5CAT' is 0.\n",
            "The number of people who answered nan for '_BMI5CAT' is 0.\n",
            "The number of people who answered nan for '_BMI5CAT' is 0.\n",
            "The number of people who answered nan for '_BMI5CAT' is 0.\n",
            "The number of people who answered nan for '_BMI5CAT' is 0.\n",
            "The number of people who answered nan for '_BMI5CAT' is 0.\n",
            "The number of people who answered nan for '_BMI5CAT' is 0.\n",
            "The number of people who answered nan for '_BMI5CAT' is 0.\n",
            "The number of people who answered nan for '_BMI5CAT' is 0.\n",
            "The number of people who answered nan for '_BMI5CAT' is 0.\n",
            "The number of people who answered nan for '_BMI5CAT' is 0.\n",
            "The number of people who answered nan for '_BMI5CAT' is 0.\n",
            "The number of people who answered nan for '_BMI5CAT' is 0.\n",
            "The number of people who answered nan for '_BMI5CAT' is 0.\n",
            "The number of people who answered nan for '_BMI5CAT' is 0.\n",
            "The number of people who answered nan for '_BMI5CAT' is 0.\n",
            "The number of people who answered nan for '_BMI5CAT' is 0.\n",
            "The number of people who answered nan for '_BMI5CAT' is 0.\n",
            "The number of people who answered nan for '_BMI5CAT' is 0.\n",
            "The number of people who answered nan for '_BMI5CAT' is 0.\n",
            "The number of people who answered nan for '_BMI5CAT' is 0.\n",
            "The number of people who answered nan for '_BMI5CAT' is 0.\n",
            "The number of people who answered nan for '_BMI5CAT' is 0.\n",
            "The number of people who answered nan for '_BMI5CAT' is 0.\n",
            "The number of people who answered nan for '_BMI5CAT' is 0.\n",
            "The number of people who answered nan for '_BMI5CAT' is 0.\n",
            "The number of people who answered nan for '_BMI5CAT' is 0.\n",
            "The number of people who answered nan for '_BMI5CAT' is 0.\n",
            "The number of people who answered nan for '_BMI5CAT' is 0.\n",
            "The number of people who answered nan for '_BMI5CAT' is 0.\n",
            "The number of people who answered nan for '_BMI5CAT' is 0.\n",
            "The number of people who answered nan for '_BMI5CAT' is 0.\n",
            "The number of people who answered nan for '_BMI5CAT' is 0.\n",
            "The number of people who answered nan for '_BMI5CAT' is 0.\n",
            "The number of people who answered nan for '_BMI5CAT' is 0.\n",
            "The number of people who answered nan for '_BMI5CAT' is 0.\n",
            "The number of people who answered nan for '_BMI5CAT' is 0.\n",
            "The number of people who answered nan for '_BMI5CAT' is 0.\n",
            "The number of people who answered nan for '_BMI5CAT' is 0.\n",
            "The number of people who answered nan for '_BMI5CAT' is 0.\n",
            "The number of people who answered nan for '_BMI5CAT' is 0.\n",
            "The number of people who answered nan for '_BMI5CAT' is 0.\n",
            "The number of people who answered nan for '_BMI5CAT' is 0.\n",
            "The number of people who answered nan for '_BMI5CAT' is 0.\n",
            "The number of people who answered nan for '_BMI5CAT' is 0.\n",
            "The number of people who answered nan for '_BMI5CAT' is 0.\n",
            "The number of people who answered nan for '_BMI5CAT' is 0.\n",
            "The number of people who answered nan for '_BMI5CAT' is 0.\n",
            "The number of people who answered nan for '_BMI5CAT' is 0.\n",
            "The number of people who answered nan for '_BMI5CAT' is 0.\n",
            "The number of people who answered nan for '_BMI5CAT' is 0.\n",
            "The number of people who answered nan for '_BMI5CAT' is 0.\n",
            "The number of people who answered nan for '_BMI5CAT' is 0.\n",
            "The number of people who answered nan for '_BMI5CAT' is 0.\n",
            "The number of people who answered nan for '_BMI5CAT' is 0.\n",
            "The number of people who answered nan for '_BMI5CAT' is 0.\n",
            "The number of people who answered nan for '_BMI5CAT' is 0.\n",
            "The number of people who answered nan for '_BMI5CAT' is 0.\n",
            "The number of people who answered nan for '_BMI5CAT' is 0.\n",
            "The number of people who answered nan for '_BMI5CAT' is 0.\n",
            "The number of people who answered nan for '_BMI5CAT' is 0.\n",
            "The number of people who answered nan for '_BMI5CAT' is 0.\n",
            "The number of people who answered nan for '_BMI5CAT' is 0.\n",
            "The number of people who answered nan for '_BMI5CAT' is 0.\n",
            "The number of people who answered nan for '_BMI5CAT' is 0.\n",
            "The number of people who answered nan for '_BMI5CAT' is 0.\n",
            "The number of people who answered nan for '_BMI5CAT' is 0.\n",
            "The number of people who answered nan for '_BMI5CAT' is 0.\n",
            "The number of people who answered nan for '_BMI5CAT' is 0.\n",
            "The number of people who answered nan for '_BMI5CAT' is 0.\n",
            "The number of people who answered nan for '_BMI5CAT' is 0.\n",
            "The number of people who answered nan for '_BMI5CAT' is 0.\n",
            "The number of people who answered nan for '_BMI5CAT' is 0.\n",
            "The number of people who answered nan for '_BMI5CAT' is 0.\n",
            "The number of people who answered nan for '_BMI5CAT' is 0.\n",
            "The number of people who answered nan for '_BMI5CAT' is 0.\n",
            "The number of people who answered nan for '_BMI5CAT' is 0.\n",
            "The number of people who answered nan for '_BMI5CAT' is 0.\n",
            "The number of people who answered nan for '_BMI5CAT' is 0.\n",
            "The number of people who answered nan for '_BMI5CAT' is 0.\n",
            "The number of people who answered nan for '_BMI5CAT' is 0.\n",
            "The number of people who answered nan for '_BMI5CAT' is 0.\n",
            "The number of people who answered nan for '_BMI5CAT' is 0.\n",
            "The number of people who answered nan for '_BMI5CAT' is 0.\n",
            "The number of people who answered nan for '_BMI5CAT' is 0.\n",
            "The number of people who answered nan for '_BMI5CAT' is 0.\n",
            "The number of people who answered nan for '_BMI5CAT' is 0.\n",
            "The number of people who answered nan for '_BMI5CAT' is 0.\n",
            "The number of people who answered nan for '_BMI5CAT' is 0.\n",
            "The number of people who answered nan for '_BMI5CAT' is 0.\n",
            "The number of people who answered nan for '_BMI5CAT' is 0.\n",
            "The number of people who answered nan for '_BMI5CAT' is 0.\n",
            "The number of people who answered nan for '_BMI5CAT' is 0.\n",
            "The number of people who answered nan for '_BMI5CAT' is 0.\n",
            "The number of people who answered nan for '_BMI5CAT' is 0.\n",
            "The number of people who answered nan for '_BMI5CAT' is 0.\n",
            "The number of people who answered nan for '_BMI5CAT' is 0.\n",
            "The number of people who answered nan for '_BMI5CAT' is 0.\n",
            "The number of people who answered nan for '_BMI5CAT' is 0.\n",
            "The number of people who answered nan for '_BMI5CAT' is 0.\n",
            "The number of people who answered nan for '_BMI5CAT' is 0.\n",
            "The number of people who answered nan for '_BMI5CAT' is 0.\n",
            "The number of people who answered nan for '_BMI5CAT' is 0.\n",
            "The number of people who answered nan for '_BMI5CAT' is 0.\n",
            "The number of people who answered nan for '_BMI5CAT' is 0.\n",
            "The number of people who answered nan for '_BMI5CAT' is 0.\n",
            "The number of people who answered nan for '_BMI5CAT' is 0.\n",
            "The number of people who answered nan for '_BMI5CAT' is 0.\n",
            "The number of people who answered nan for '_BMI5CAT' is 0.\n",
            "The number of people who answered nan for '_BMI5CAT' is 0.\n",
            "The number of people who answered nan for '_BMI5CAT' is 0.\n",
            "The number of people who answered nan for '_BMI5CAT' is 0.\n",
            "The number of people who answered nan for '_BMI5CAT' is 0.\n",
            "The number of people who answered nan for '_BMI5CAT' is 0.\n",
            "The number of people who answered nan for '_BMI5CAT' is 0.\n",
            "The number of people who answered nan for '_BMI5CAT' is 0.\n",
            "The number of people who answered nan for '_BMI5CAT' is 0.\n",
            "The number of people who answered nan for '_BMI5CAT' is 0.\n",
            "The number of people who answered nan for '_BMI5CAT' is 0.\n",
            "The number of people who answered nan for '_BMI5CAT' is 0.\n",
            "The number of people who answered nan for '_BMI5CAT' is 0.\n",
            "The number of people who answered nan for '_BMI5CAT' is 0.\n",
            "The number of people who answered nan for '_BMI5CAT' is 0.\n",
            "The number of people who answered nan for '_BMI5CAT' is 0.\n",
            "The number of people who answered nan for '_BMI5CAT' is 0.\n",
            "The number of people who answered nan for '_BMI5CAT' is 0.\n",
            "The number of people who answered nan for '_BMI5CAT' is 0.\n",
            "The number of people who answered nan for '_BMI5CAT' is 0.\n",
            "The number of people who answered nan for '_BMI5CAT' is 0.\n",
            "The number of people who answered nan for '_BMI5CAT' is 0.\n",
            "The number of people who answered nan for '_BMI5CAT' is 0.\n",
            "The number of people who answered nan for '_BMI5CAT' is 0.\n",
            "The number of people who answered nan for '_BMI5CAT' is 0.\n",
            "The number of people who answered nan for '_BMI5CAT' is 0.\n",
            "The number of people who answered nan for '_BMI5CAT' is 0.\n",
            "The number of people who answered nan for '_BMI5CAT' is 0.\n",
            "The number of people who answered nan for '_BMI5CAT' is 0.\n",
            "The number of people who answered nan for '_BMI5CAT' is 0.\n",
            "The number of people who answered nan for '_BMI5CAT' is 0.\n",
            "The number of people who answered nan for '_BMI5CAT' is 0.\n",
            "The number of people who answered nan for '_BMI5CAT' is 0.\n",
            "The number of people who answered nan for '_BMI5CAT' is 0.\n",
            "The number of people who answered nan for '_BMI5CAT' is 0.\n",
            "The number of people who answered nan for '_BMI5CAT' is 0.\n",
            "The number of people who answered nan for '_BMI5CAT' is 0.\n",
            "The number of people who answered nan for '_BMI5CAT' is 0.\n",
            "The number of people who answered nan for '_BMI5CAT' is 0.\n",
            "The number of people who answered nan for '_BMI5CAT' is 0.\n",
            "The number of people who answered nan for '_BMI5CAT' is 0.\n",
            "The number of people who answered nan for '_BMI5CAT' is 0.\n",
            "The number of people who answered nan for '_BMI5CAT' is 0.\n",
            "The number of people who answered nan for '_BMI5CAT' is 0.\n",
            "The number of people who answered nan for '_BMI5CAT' is 0.\n",
            "The number of people who answered nan for '_BMI5CAT' is 0.\n",
            "The number of people who answered nan for '_BMI5CAT' is 0.\n",
            "The number of people who answered nan for '_BMI5CAT' is 0.\n",
            "The number of people who answered nan for '_BMI5CAT' is 0.\n",
            "The number of people who answered nan for '_BMI5CAT' is 0.\n",
            "The number of people who answered nan for '_BMI5CAT' is 0.\n",
            "The number of people who answered nan for '_BMI5CAT' is 0.\n",
            "The number of people who answered nan for '_BMI5CAT' is 0.\n",
            "The number of people who answered nan for '_BMI5CAT' is 0.\n",
            "The number of people who answered nan for '_BMI5CAT' is 0.\n",
            "The number of people who answered nan for '_BMI5CAT' is 0.\n",
            "The number of people who answered nan for '_BMI5CAT' is 0.\n",
            "The number of people who answered nan for '_BMI5CAT' is 0.\n",
            "The number of people who answered nan for '_BMI5CAT' is 0.\n",
            "The number of people who answered nan for '_BMI5CAT' is 0.\n",
            "The number of people who answered nan for '_BMI5CAT' is 0.\n",
            "The number of people who answered nan for '_BMI5CAT' is 0.\n",
            "The number of people who answered nan for '_BMI5CAT' is 0.\n",
            "The number of people who answered nan for '_BMI5CAT' is 0.\n",
            "The number of people who answered nan for '_BMI5CAT' is 0.\n",
            "The number of people who answered nan for '_BMI5CAT' is 0.\n",
            "The number of people who answered nan for '_BMI5CAT' is 0.\n",
            "The number of people who answered nan for '_BMI5CAT' is 0.\n",
            "The number of people who answered nan for '_BMI5CAT' is 0.\n",
            "The number of people who answered nan for '_BMI5CAT' is 0.\n",
            "The number of people who answered nan for '_BMI5CAT' is 0.\n",
            "The number of people who answered nan for '_BMI5CAT' is 0.\n",
            "The number of people who answered nan for '_BMI5CAT' is 0.\n",
            "The number of people who answered nan for '_BMI5CAT' is 0.\n",
            "The number of people who answered nan for '_BMI5CAT' is 0.\n",
            "The number of people who answered nan for '_BMI5CAT' is 0.\n",
            "The number of people who answered nan for '_BMI5CAT' is 0.\n",
            "The number of people who answered nan for '_BMI5CAT' is 0.\n",
            "The number of people who answered nan for '_BMI5CAT' is 0.\n",
            "The number of people who answered nan for '_BMI5CAT' is 0.\n",
            "The number of people who answered nan for '_BMI5CAT' is 0.\n",
            "The number of people who answered nan for '_BMI5CAT' is 0.\n",
            "The number of people who answered nan for '_BMI5CAT' is 0.\n",
            "The number of people who answered nan for '_BMI5CAT' is 0.\n",
            "The number of people who answered nan for '_BMI5CAT' is 0.\n",
            "The number of people who answered nan for '_BMI5CAT' is 0.\n",
            "The number of people who answered nan for '_BMI5CAT' is 0.\n",
            "The number of people who answered nan for '_BMI5CAT' is 0.\n",
            "The number of people who answered nan for '_BMI5CAT' is 0.\n",
            "The number of people who answered nan for '_BMI5CAT' is 0.\n",
            "The number of people who answered nan for '_BMI5CAT' is 0.\n",
            "The number of people who answered nan for '_BMI5CAT' is 0.\n",
            "The number of people who answered nan for '_BMI5CAT' is 0.\n",
            "The number of people who answered nan for '_BMI5CAT' is 0.\n",
            "The number of people who answered nan for '_BMI5CAT' is 0.\n",
            "The number of people who answered nan for '_BMI5CAT' is 0.\n",
            "The number of people who answered nan for '_BMI5CAT' is 0.\n",
            "The number of people who answered nan for '_BMI5CAT' is 0.\n",
            "The number of people who answered nan for '_BMI5CAT' is 0.\n",
            "The number of people who answered nan for '_BMI5CAT' is 0.\n",
            "The number of people who answered nan for '_BMI5CAT' is 0.\n",
            "The number of people who answered nan for '_BMI5CAT' is 0.\n",
            "The number of people who answered nan for '_BMI5CAT' is 0.\n",
            "The number of people who answered nan for '_BMI5CAT' is 0.\n",
            "The number of people who answered nan for '_BMI5CAT' is 0.\n",
            "The number of people who answered nan for '_BMI5CAT' is 0.\n",
            "The number of people who answered nan for '_BMI5CAT' is 0.\n",
            "The number of people who answered nan for '_BMI5CAT' is 0.\n",
            "The number of people who answered nan for '_BMI5CAT' is 0.\n",
            "The number of people who answered nan for '_BMI5CAT' is 0.\n",
            "The number of people who answered nan for '_BMI5CAT' is 0.\n",
            "The number of people who answered nan for '_BMI5CAT' is 0.\n",
            "The number of people who answered nan for '_BMI5CAT' is 0.\n",
            "The number of people who answered nan for '_BMI5CAT' is 0.\n",
            "The number of people who answered nan for '_BMI5CAT' is 0.\n",
            "The number of people who answered nan for '_BMI5CAT' is 0.\n",
            "The number of people who answered nan for '_BMI5CAT' is 0.\n",
            "The number of people who answered nan for '_BMI5CAT' is 0.\n",
            "The number of people who answered nan for '_BMI5CAT' is 0.\n",
            "The number of people who answered nan for '_BMI5CAT' is 0.\n",
            "The number of people who answered nan for '_BMI5CAT' is 0.\n",
            "The number of people who answered nan for '_BMI5CAT' is 0.\n",
            "The number of people who answered nan for '_BMI5CAT' is 0.\n",
            "The number of people who answered nan for '_BMI5CAT' is 0.\n",
            "The number of people who answered nan for '_BMI5CAT' is 0.\n"
          ]
        }
      ]
    },
    {
      "cell_type": "markdown",
      "source": [
        "Let's create another super temporary dataframe and drop the missing responses from it.  We will probably choose to fill the missing values later when setting up for modeling, but we have enough data to look for trends without it."
      ],
      "metadata": {
        "id": "VTKouNzp_dyF"
      }
    },
    {
      "cell_type": "code",
      "source": [
        "# temporary df\n",
        "tmp_df_3 = tmp_df[:].copy()\n",
        "\n",
        "# before dropping\n",
        "print(\"Before dropping:\", len(tmp_df_3))\n",
        "\n",
        "# dropping\n",
        "tmp_df_3 = tmp_df_3[(tmp_df_3._BMI5CAT >= 1.0)]\n",
        "\n",
        "# reset the index\n",
        "tmp_df_3.reset_index(inplace=True)\n",
        "print(\"After dropping:\", len(tmp_df_3))"
      ],
      "metadata": {
        "colab": {
          "base_uri": "https://localhost:8080/"
        },
        "id": "auiXddtn41XU",
        "outputId": "886bf7c2-a9c6-44cf-a8e0-56e77f8bc809"
      },
      "execution_count": null,
      "outputs": [
        {
          "output_type": "stream",
          "name": "stdout",
          "text": [
            "Before dropping: 4878\n",
            "After dropping: 4566\n"
          ]
        }
      ]
    },
    {
      "cell_type": "code",
      "source": [
        "# _BMI5CAT\n",
        "#sns.lmplot(x=\"_BMI5CAT\", y=\"DIABETE_SIMP\", data=tmp_df_3);\n",
        "#sns.scatterplot(x=\"_BMI5CAT\", y=\"DIABETE_SIMP\", data=tmp_df_3);\n",
        "sns.catplot(x=\"_BMI5CAT\", y=\"DIABETE_SIMP\", data=tmp_df_3, kind=\"bar\")\n",
        "plt.title(\"Diabetes Rate by BMI Category\")\n",
        "plt.xlabel(\"BMI Category\")\n",
        "plt.ylabel(\"Diabetes Rate\")\n",
        "plt.show()"
      ],
      "metadata": {
        "colab": {
          "base_uri": "https://localhost:8080/",
          "height": 529
        },
        "id": "QsXm7o5l41KC",
        "outputId": "9513d026-01ad-4ffc-a505-bc5a0c28246a"
      },
      "execution_count": null,
      "outputs": [
        {
          "output_type": "display_data",
          "data": {
            "text/plain": [
              "<Figure size 500x500 with 1 Axes>"
            ],
            "image/png": "[encoded data removed]"
          },
          "metadata": {}
        }
      ]
    },
    {
      "cell_type": "markdown",
      "source": [
        "This data is looking awful parabolic.  We may want to look into a transformation for `'_BMI5CAT'`."
      ],
      "metadata": {
        "id": "5nHb2IfLCJEj"
      }
    },
    {
      "cell_type": "markdown",
      "source": [
        "##### **Variable:** `'_AGEG5YR'`"
      ],
      "metadata": {
        "id": "ER7aLmjICprG"
      }
    },
    {
      "cell_type": "markdown",
      "source": [
        "\"Fourteen-level age category\"\n",
        "\n",
        "**Possible Responses:**\n",
        "- 1 - Age 18 to 24 (Notes: 18 <= `'AGE'` <= 24)\n",
        "- 2 - Age 25 to 29 (Notes: 25 <= `'AGE'` <= 29)\n",
        "- 3 - Age 30 to 34 (Notes: 30 <= `'AGE'` <= 34)\n",
        "- 4 - Age 35 to 39 (Notes: 35 <= `'AGE'` <= 39)\n",
        "- 5 - Age 40 to 44 (Notes: 40 <= `'AGE'` <= 44)\n",
        "- 6 - Age 45 to 49 (Notes: 45 <= `'AGE'` <= 49)\n",
        "- 7 - Age 50 to 54 (Notes: 50 <= `'AGE'` <= 54)\n",
        "- 8 - Age 55 to 59 (Notes: 55 <= `'AGE'` <= 59)\n",
        "- 9 - Age 60 to 64 (Notes: 60 <= `'AGE'` <= 64)\n",
        "- 10 - Age 65 to 69 (Notes: 65 <= `'AGE'` <= 69)\n",
        "- 11 - Age 70 to 74 (Notes: 70 <= `'AGE'` <= 74)\n",
        "- 12 - Age 75 to 79 (Notes: 75 <= `'AGE'` <= 79)\n",
        "- 13 - Age 80 or older (Notes: 80 <= `'AGE'` <= 99)\n",
        "- 14 - Don't know/Refused/Missing"
      ],
      "metadata": {
        "id": "l_uepTYsfaBN"
      }
    },
    {
      "cell_type": "code",
      "source": [
        "# _AGEG5YR -\n",
        "for i in set(tmp_df[\"_AGEG5YR\"]):\n",
        "    num = len(tmp_df[tmp_df[\"_AGEG5YR\"] == i])\n",
        "    print(f\"The number of people who answered {i} for '_AGEG5YR' is {num}.\")"
      ],
      "metadata": {
        "colab": {
          "base_uri": "https://localhost:8080/"
        },
        "id": "3aSHbtWLFFsa",
        "outputId": "3146e6d9-0685-4d6c-f82f-f9ad70b9d402"
      },
      "execution_count": null,
      "outputs": [
        {
          "output_type": "stream",
          "name": "stdout",
          "text": [
            "The number of people who answered 1.0 for '_AGEG5YR' is 268.\n",
            "The number of people who answered 2.0 for '_AGEG5YR' is 225.\n",
            "The number of people who answered 3.0 for '_AGEG5YR' is 229.\n",
            "The number of people who answered 4.0 for '_AGEG5YR' is 255.\n",
            "The number of people who answered 5.0 for '_AGEG5YR' is 289.\n",
            "The number of people who answered 6.0 for '_AGEG5YR' is 348.\n",
            "The number of people who answered 7.0 for '_AGEG5YR' is 455.\n",
            "The number of people who answered 8.0 for '_AGEG5YR' is 508.\n",
            "The number of people who answered 9.0 for '_AGEG5YR' is 536.\n",
            "The number of people who answered 10.0 for '_AGEG5YR' is 565.\n",
            "The number of people who answered 11.0 for '_AGEG5YR' is 422.\n",
            "The number of people who answered 12.0 for '_AGEG5YR' is 300.\n",
            "The number of people who answered 13.0 for '_AGEG5YR' is 425.\n",
            "The number of people who answered 14.0 for '_AGEG5YR' is 53.\n"
          ]
        }
      ]
    },
    {
      "cell_type": "markdown",
      "source": [
        "Let's create a super temporary df and drop the people who refuse to answer."
      ],
      "metadata": {
        "id": "5jPMOamkFTBB"
      }
    },
    {
      "cell_type": "code",
      "source": [
        "# temporary df\n",
        "tmp_df_4 = tmp_df[:].copy()\n",
        "\n",
        "# before dropping\n",
        "print(\"Before dropping:\", len(tmp_df_4))\n",
        "\n",
        "# dropping\n",
        "tmp_df_4 = tmp_df_4[~(tmp_df_4._AGEG5YR >= 14.0)]\n",
        "\n",
        "# reset the index\n",
        "tmp_df_4.reset_index(inplace=True)\n",
        "print(\"After dropping:\", len(tmp_df_4))"
      ],
      "metadata": {
        "colab": {
          "base_uri": "https://localhost:8080/"
        },
        "id": "rFpu8ZGeFequ",
        "outputId": "6c132d34-218b-40b6-8b71-35663bfb6ea6"
      },
      "execution_count": null,
      "outputs": [
        {
          "output_type": "stream",
          "name": "stdout",
          "text": [
            "Before dropping: 4878\n",
            "After dropping: 4825\n"
          ]
        }
      ]
    },
    {
      "cell_type": "markdown",
      "source": [
        "Plot it!"
      ],
      "metadata": {
        "id": "TT_1q_jxGPcp"
      }
    },
    {
      "cell_type": "code",
      "source": [
        "# _AGEG5YR\n",
        "#sns.lmplot(x=\"_AGEG5YR\", y=\"DIABETE_SIMP\", data=tmp_df_4);\n",
        "#sns.scatterplot(x=\"_AGEG5YR\", y=\"DIABETE_SIMP\", data=tmp_df_4);\n",
        "sns.catplot(x=\"_AGEG5YR\", y=\"DIABETE_SIMP\", data=tmp_df_4, kind=\"bar\")\n",
        "plt.title(\"Diabetes Rate by Age Category\")\n",
        "plt.xlabel(\"Age Category\")\n",
        "plt.ylabel(\"Diabetes Rate\")\n",
        "plt.show()"
      ],
      "metadata": {
        "colab": {
          "base_uri": "https://localhost:8080/",
          "height": 54
        },
        "id": "OhlmsPnZFel3",
        "outputId": "92051627-34bb-4387-a5f8-905332d8490f"
      },
      "execution_count": null,
      "outputs": [
        {
          "output_type": "display_data",
          "data": {
            "text/plain": [
              "<Figure size 500x500 with 1 Axes>"
            ],
            "image/png": "[encoded data removed]"
          },
          "metadata": {}
        }
      ]
    },
    {
      "cell_type": "markdown",
      "source": [
        "Awesome!  The distribution of rates of diabetes is skewed towards people who fall in the older age categories.  Though there is some variance here, it might be worth taking a look at an exponential term for `'_AGEG5YR'` when we are preparing variables for our model.  "
      ],
      "metadata": {
        "id": "dOxBBl1WGnCg"
      }
    },
    {
      "cell_type": "markdown",
      "source": [
        "##### **Variable:** `'EMPLOY1'`\n",
        "\n"
      ],
      "metadata": {
        "id": "wg_3InRlCw5z"
      }
    },
    {
      "cell_type": "markdown",
      "source": [
        "\"Are you currently…?\" [Question about employment]\n",
        "\n",
        "**Possible Responses:**\n",
        "- 1 - Employed for wages\n",
        "- 2 - Self-employed\n",
        "- 3 - Out of work for 1 year or more\n",
        "- 4 - Out of work for less than 1 year\n",
        "- 5 - A homemaker\n",
        "- 6 - A student\n",
        "- 7 - Retired\n",
        "- 8 - Unable to work\n",
        "- 9 - Refused"
      ],
      "metadata": {
        "id": "3QNxeEBrfo0m"
      }
    },
    {
      "cell_type": "code",
      "source": [
        "# EMPLOY1 counts\n",
        "for i in set(tmp_df[\"EMPLOY1\"]):\n",
        "  if i >= 1.0:\n",
        "    num = len(tmp_df[tmp_df[\"EMPLOY1\"] == i])\n",
        "    print(f\"The number of people who answered {i} for 'EMPLOY1' is {num}.\")\n",
        "  else:\n",
        "    continue"
      ],
      "metadata": {
        "colab": {
          "base_uri": "https://localhost:8080/"
        },
        "id": "xjLRBFFwIi0o",
        "outputId": "36af9f72-9523-4d61-cea4-d0aeb053a259"
      },
      "execution_count": null,
      "outputs": [
        {
          "output_type": "stream",
          "name": "stdout",
          "text": [
            "The number of people who answered 1.0 for 'EMPLOY1' is 1976.\n",
            "The number of people who answered 2.0 for 'EMPLOY1' is 405.\n",
            "The number of people who answered 3.0 for 'EMPLOY1' is 122.\n",
            "The number of people who answered 4.0 for 'EMPLOY1' is 103.\n",
            "The number of people who answered 5.0 for 'EMPLOY1' is 297.\n",
            "The number of people who answered 6.0 for 'EMPLOY1' is 98.\n",
            "The number of people who answered 7.0 for 'EMPLOY1' is 1503.\n",
            "The number of people who answered 8.0 for 'EMPLOY1' is 331.\n",
            "The number of people who answered nan for 'EMPLOY1' is 0.\n",
            "The number of people who answered 9.0 for 'EMPLOY1' is 24.\n",
            "The number of people who answered nan for 'EMPLOY1' is 0.\n",
            "The number of people who answered nan for 'EMPLOY1' is 0.\n",
            "The number of people who answered nan for 'EMPLOY1' is 0.\n",
            "The number of people who answered nan for 'EMPLOY1' is 0.\n",
            "The number of people who answered nan for 'EMPLOY1' is 0.\n",
            "The number of people who answered nan for 'EMPLOY1' is 0.\n",
            "The number of people who answered nan for 'EMPLOY1' is 0.\n",
            "The number of people who answered nan for 'EMPLOY1' is 0.\n",
            "The number of people who answered nan for 'EMPLOY1' is 0.\n",
            "The number of people who answered nan for 'EMPLOY1' is 0.\n",
            "The number of people who answered nan for 'EMPLOY1' is 0.\n",
            "The number of people who answered nan for 'EMPLOY1' is 0.\n",
            "The number of people who answered nan for 'EMPLOY1' is 0.\n",
            "The number of people who answered nan for 'EMPLOY1' is 0.\n",
            "The number of people who answered nan for 'EMPLOY1' is 0.\n",
            "The number of people who answered nan for 'EMPLOY1' is 0.\n",
            "The number of people who answered nan for 'EMPLOY1' is 0.\n",
            "The number of people who answered nan for 'EMPLOY1' is 0.\n"
          ]
        }
      ]
    },
    {
      "cell_type": "markdown",
      "source": [
        "Let's make the now familiar temporary dataframe to look at `'EMPLOY1'` where we drop `'nan'` values and `'9.0'` (people who refused to answer)."
      ],
      "metadata": {
        "id": "X10wnw8gI9uT"
      }
    },
    {
      "cell_type": "code",
      "source": [
        "# temporary df\n",
        "tmp_df_5 = tmp_df[:].copy()\n",
        "\n",
        "# before dropping\n",
        "print(\"Before dropping:\", len(tmp_df_5))\n",
        "\n",
        "# dropping\n",
        "tmp_df_5 = tmp_df_5[~(tmp_df_5.EMPLOY1 >= 9.0)]\n",
        "tmp_df_5 = tmp_df_5[~(tmp_df_5.EMPLOY1 < 1.0)]\n",
        "\n",
        "# reset the index\n",
        "tmp_df_5.reset_index(inplace=True)\n",
        "print(\"After dropping:\", len(tmp_df_5))"
      ],
      "metadata": {
        "colab": {
          "base_uri": "https://localhost:8080/"
        },
        "id": "lbfvIoRyI8ux",
        "outputId": "720a7a04-c689-4459-cbe1-88e26158e9e0"
      },
      "execution_count": null,
      "outputs": [
        {
          "output_type": "stream",
          "name": "stdout",
          "text": [
            "Before dropping: 4878\n",
            "After dropping: 4854\n"
          ]
        }
      ]
    },
    {
      "cell_type": "markdown",
      "source": [
        "Plot it!"
      ],
      "metadata": {
        "id": "Cge_R2swKOgX"
      }
    },
    {
      "cell_type": "code",
      "source": [
        "# EMPLOY1\n",
        "#sns.lmplot(x=\"EMPLOY1\", y=\"DIABETE_SIMP\", data=tmp_df_5);\n",
        "#sns.scatterplot(x=\"EMPLOY1\", y=\"DIABETE_SIMP\", data=tmp_df_5);\n",
        "sns.catplot(x=\"EMPLOY1\", y=\"DIABETE_SIMP\", data=tmp_df_5, kind=\"bar\")\n",
        "plt.title(\"Diabetes Rate by Employment Category\")\n",
        "plt.xlabel(\"Employment Category\")\n",
        "plt.ylabel(\"Diabetes Rate\")\n",
        "plt.show()"
      ],
      "metadata": {
        "colab": {
          "base_uri": "https://localhost:8080/",
          "height": 529
        },
        "id": "Nh8UhVkAKN5r",
        "outputId": "883df40f-542b-4b77-d87c-c3731e818f49"
      },
      "execution_count": null,
      "outputs": [
        {
          "output_type": "display_data",
          "data": {
            "text/plain": [
              "<Figure size 500x500 with 1 Axes>"
            ],
            "image/png": "[encoded data removed]"
          },
          "metadata": {}
        }
      ]
    },
    {
      "cell_type": "markdown",
      "source": [
        "There's clearly an effect at play here.  Each category of employment is complete independent.  Category `'6.0'` makes sense because students are generally young.  Likewise, category `'8.0'` makes sense because disability is one of the primary reasons for a person to be unable to work and diabetes can be a disabling condition.  "
      ],
      "metadata": {
        "id": "cLEv6S2rKrYm"
      }
    },
    {
      "cell_type": "markdown",
      "source": [
        "##### **Variable:** `'GENHLTH'`"
      ],
      "metadata": {
        "id": "CdkZ5VK5C1yR"
      }
    },
    {
      "cell_type": "markdown",
      "source": [
        "\"Would you say that in general your health is:\" [Question about general health]\n",
        "\n",
        "**Possible Responses:**\n",
        "- 1 - Excellent\n",
        "- 2 - Very good\n",
        "- 3 - Good\n",
        "- 4 - Fair\n",
        "- 5 - Poor\n",
        "- 7 - Don't know/Not Sure\n",
        "- 9 - Refused"
      ],
      "metadata": {
        "id": "dv4XRFz6f_wV"
      }
    },
    {
      "cell_type": "code",
      "source": [
        "# GENHLTH -\n",
        "for i in set(tmp_df[\"GENHLTH\"]):\n",
        "    num = len(tmp_df[tmp_df[\"GENHLTH\"] == i])\n",
        "    print(f\"The number of people who answered {i} for 'GENHLTH' is {num}.\")"
      ],
      "metadata": {
        "colab": {
          "base_uri": "https://localhost:8080/"
        },
        "id": "fHgS7dgEChJr",
        "outputId": "0b892f23-2b0f-44b0-8176-d099d87afe09"
      },
      "execution_count": null,
      "outputs": [
        {
          "output_type": "stream",
          "name": "stdout",
          "text": [
            "The number of people who answered 1.0 for 'GENHLTH' is 882.\n",
            "The number of people who answered 2.0 for 'GENHLTH' is 1609.\n",
            "The number of people who answered 3.0 for 'GENHLTH' is 1473.\n",
            "The number of people who answered 4.0 for 'GENHLTH' is 663.\n",
            "The number of people who answered 5.0 for 'GENHLTH' is 243.\n",
            "The number of people who answered 7.0 for 'GENHLTH' is 7.\n",
            "The number of people who answered 9.0 for 'GENHLTH' is 1.\n"
          ]
        }
      ]
    },
    {
      "cell_type": "markdown",
      "source": [
        "Creating a temporary DataFrame and dropping those people who don't know or refused to answer."
      ],
      "metadata": {
        "id": "6Utq9BiCNKal"
      }
    },
    {
      "cell_type": "code",
      "source": [
        "# temporary df\n",
        "tmp_df_6 = tmp_df[:].copy()\n",
        "\n",
        "# before dropping\n",
        "print(\"Before dropping:\", len(tmp_df_6))\n",
        "\n",
        "# dropping\n",
        "tmp_df_6 = tmp_df_6[~(tmp_df_6.GENHLTH >= 7.0)]\n",
        "\n",
        "# reset the index\n",
        "tmp_df_6.reset_index(inplace=True)\n",
        "print(\"After dropping:\", len(tmp_df_6))"
      ],
      "metadata": {
        "colab": {
          "base_uri": "https://localhost:8080/"
        },
        "id": "Z-7erqsWChEy",
        "outputId": "dda421ef-adf2-45b8-9e37-603defd51dce"
      },
      "execution_count": null,
      "outputs": [
        {
          "output_type": "stream",
          "name": "stdout",
          "text": [
            "Before dropping: 4878\n",
            "After dropping: 4870\n"
          ]
        }
      ]
    },
    {
      "cell_type": "markdown",
      "source": [
        "Plot it!"
      ],
      "metadata": {
        "id": "udVnKmVJNx7J"
      }
    },
    {
      "cell_type": "code",
      "source": [
        "# GENHLTH\n",
        "#sns.lmplot(x=\"GENHLTH\", y=\"DIABETE_SIMP\", data=tmp_df_6);\n",
        "#sns.scatterplot(x=\"GENHLTH\", y=\"DIABETE_SIMP\", data=tmp_df_6);\n",
        "sns.catplot(x=\"GENHLTH\", y=\"DIABETE_SIMP\", data=tmp_df_6, kind=\"bar\")\n",
        "plt.title(\"Diabetes Rate by General Health Category\")\n",
        "plt.xlabel(\"General Health (1.0 is healthiest | 5.0 is least healthy)\")\n",
        "plt.ylabel(\"Diabetes Rate\")\n",
        "plt.show()"
      ],
      "metadata": {
        "colab": {
          "base_uri": "https://localhost:8080/",
          "height": 529
        },
        "id": "rr_qy8iBCg_v",
        "outputId": "cc41f53f-b9e8-46a5-b05b-ef4a0583a5f5"
      },
      "execution_count": null,
      "outputs": [
        {
          "output_type": "display_data",
          "data": {
            "text/plain": [
              "<Figure size 500x500 with 1 Axes>"
            ],
            "image/png": "[encoded data removed]"
          },
          "metadata": {}
        }
      ]
    },
    {
      "cell_type": "markdown",
      "source": [
        "This shows a clear and linear increase in the risk of diabetes as one moves up `'GENHLTH'` categories (get's unhealthier)."
      ],
      "metadata": {
        "id": "MgGVDv0VOWTu"
      }
    },
    {
      "cell_type": "markdown",
      "source": [
        "### Dealing With Missing Data:"
      ],
      "metadata": {
        "id": "B7ZfqB6-7Z7x"
      }
    },
    {
      "cell_type": "markdown",
      "source": [
        "In the following code we will look at our variables and decide which are worth filling, which we should drop, and justify how we are doing so.  Let's start by recalling our complete dataframe and adding up our missing values."
      ],
      "metadata": {
        "id": "ZpB2VbBug0IY"
      }
    },
    {
      "cell_type": "code",
      "source": [
        "# dataframe\n",
        "df = pd.read_csv(\"drive/My Drive/Diabetes Risk Factors/complete_diabetes_data.csv\")\n",
        "\n",
        "# sum missing data\n",
        "df.isna().sum()"
      ],
      "metadata": {
        "colab": {
          "base_uri": "https://localhost:8080/"
        },
        "id": "pzyJlqpuiEIt",
        "outputId": "2f203eef-d9e3-444e-9f43-62bc41d4e59f"
      },
      "execution_count": null,
      "outputs": [
        {
          "output_type": "execute_result",
          "data": {
            "text/plain": [
              "PERSONID       0\n",
              "DIABETE3       0\n",
              "NUMADULT    1760\n",
              "CHILDREN      12\n",
              "WEIGHT2       50\n",
              "DRVISITS    1433\n",
              "_RACE          3\n",
              "MSCODE      1813\n",
              "FLUSHOT6     238\n",
              "EMPLOY1       19\n",
              "SEX            0\n",
              "MARITAL       10\n",
              "CVDCRHD4       0\n",
              "HLTHCVR1    1682\n",
              "CHCKIDNY       0\n",
              "USEEQUIP     163\n",
              "_TOTINDA       0\n",
              "ADDEPEV2       0\n",
              "RENTHOM1     102\n",
              "EXERANY2       0\n",
              "BLIND        170\n",
              "DECIDE       171\n",
              "HLTHPLN1       0\n",
              "_STATE         0\n",
              "ASTHMA3        0\n",
              "GENHLTH        0\n",
              "_AGEG5YR       0\n",
              "_BMI5CAT     319\n",
              "CHECKUP1       0\n",
              "INCOME2       38\n",
              "_EDUCAG        0\n",
              "SLEPTIM1       0\n",
              "MENTHLTH       0\n",
              "_SMOKER3       0\n",
              "dtype: int64"
            ]
          },
          "metadata": {},
          "execution_count": 2
        }
      ]
    },
    {
      "cell_type": "markdown",
      "source": [
        "As we know from earlier poking around, we can drop the `'_TOTINDA'` variable, the `'EXERANY2'` variable captures almost the exact same data and has a higher correlation with our response variable, `'DIABETE3'`.  We also know to drop the seven entries for the two responses ('don't know' and 'refuse to answer') in `'DIABETE3'` because they will give our model nothing to work with.  Let's do this below."
      ],
      "metadata": {
        "id": "zI_QGwnbj3GD"
      }
    },
    {
      "cell_type": "code",
      "source": [
        "# before dropping\n",
        "print(\"Before dropping:\", len(df))\n",
        "\n",
        "# drop _TOTINDA\n",
        "df = df.drop(\"_TOTINDA\", axis=1)\n",
        "\n",
        "# dropping 7.0 and 9.0 entries\n",
        "df = df[~(df.DIABETE3 == 7.0) & ~(df.DIABETE3 == 9.0)]\n",
        "\n",
        "# before dropping\n",
        "print(\"After dropping:\", len(df))"
      ],
      "metadata": {
        "id": "Xc-Q056WqDxe",
        "colab": {
          "base_uri": "https://localhost:8080/"
        },
        "outputId": "75e84de5-b70c-45f9-9062-d8dcec0ddc07"
      },
      "execution_count": null,
      "outputs": [
        {
          "output_type": "stream",
          "name": "stdout",
          "text": [
            "Before dropping: 5000\n",
            "After dropping: 4993\n"
          ]
        }
      ]
    },
    {
      "cell_type": "markdown",
      "source": [
        "#### **Variable:** `'INCOME2'`"
      ],
      "metadata": {
        "id": "hYW2r2iSrep2"
      }
    },
    {
      "cell_type": "markdown",
      "source": [
        "**Categorical variable**\n",
        "\n",
        "\"Is your annual household income from all sources: (If respondent refuses at any income level, code \"Refused.\")\"\n",
        "\n",
        "**Variable Responses (in dollars):**\n",
        "* 1 - Less than 10,000\n",
        "\n",
        "* 2 - Less than 15,000 (10,000 to less than 15,000)\n",
        "\n",
        "* 3 - Less than 20,000 (15,000 to less than 20,000)\n",
        "\n",
        "* 4 - Less than 25,000 (20,000 to less than 25,000)\n",
        "\n",
        "* 5 - Less than 35,000 (25,000 to less than 35,000)\n",
        "\n",
        "* 6 - Less than 50,000 (35,000 to less than 50,000)\n",
        "\n",
        "* 7 - Less than 75,000 (50,000 to less than 75,000)\n",
        "\n",
        "* 8 - More than 75,000\n",
        "\n",
        "* 77 - Don't know/Not sure\n",
        "\n",
        "* 99 - Refused"
      ],
      "metadata": {
        "id": "Na2KNJxiruzB"
      }
    },
    {
      "cell_type": "code",
      "source": [
        "# INCOME2 counts\n",
        "for i in set(df[\"INCOME2\"]):\n",
        "  if i >= 1.0:\n",
        "    num = len(df[df[\"INCOME2\"] == i])\n",
        "    print(f\"The number of people who answered {i} for 'INCOME2' is {num}.\")\n",
        "  else:\n",
        "    continue"
      ],
      "metadata": {
        "colab": {
          "base_uri": "https://localhost:8080/"
        },
        "id": "J35C5ydGuV2u",
        "outputId": "7c09cea8-472f-4056-a599-c8d3e9d763d2"
      },
      "execution_count": null,
      "outputs": [
        {
          "output_type": "stream",
          "name": "stdout",
          "text": [
            "The number of people who answered 1.0 for 'INCOME2' is 211.\n",
            "The number of people who answered 2.0 for 'INCOME2' is 265.\n",
            "The number of people who answered 3.0 for 'INCOME2' is 331.\n",
            "The number of people who answered 4.0 for 'INCOME2' is 392.\n",
            "The number of people who answered 5.0 for 'INCOME2' is 472.\n",
            "The number of people who answered 6.0 for 'INCOME2' is 654.\n",
            "The number of people who answered 7.0 for 'INCOME2' is 645.\n",
            "The number of people who answered 8.0 for 'INCOME2' is 1264.\n",
            "The number of people who answered 77.0 for 'INCOME2' is 313.\n",
            "The number of people who answered 99.0 for 'INCOME2' is 408.\n"
          ]
        }
      ]
    },
    {
      "cell_type": "markdown",
      "source": [
        "**Fill Rationale**\n",
        "\n",
        "There are only 38 missing values for `'INCOME2'`.  There is greater than a 5-to-1 ratio of income info given vs info unknown/withheld, so we will look to fill our missing values from the answer set `['1.0', '2.0', '3.0', '4.0', '5.0', '6.0', '7.0', '8.0']`.  \n",
        "\n",
        "Since there is a skew in the distribution of these values, we will use the median value to fill.  "
      ],
      "metadata": {
        "id": "uqGBWCiXvP8f"
      }
    },
    {
      "cell_type": "code",
      "source": [
        "tot = 0\n",
        "\n",
        "# INCOME2 sum\n",
        "for i in set(df[\"INCOME2\"]):\n",
        "  num = 0\n",
        "  if i >= 1.0 and i <= 8.0:\n",
        "    num = len(df[df[\"INCOME2\"] == i])\n",
        "    tot += num\n",
        "  else:\n",
        "    continue\n",
        "\n",
        "print(f\"The total number of respondents in the zone we are looking at is: {tot}\")\n",
        "\n",
        "# find median\n",
        "tot2 = tot/2\n",
        "print(f\"The median number is {tot2}\")\n",
        "\n",
        "sim = [8.0, 7.0, 6.0, 5.0, 4.0, 3.0, 2.0, 1.0]\n",
        "\n",
        "for i in range(len(sim)):\n",
        "  if tot2 > 0.0:\n",
        "    sim2 = 0\n",
        "    print(f\"i is currently {sim[i]}\")\n",
        "    sim2 += (df[\"INCOME2\"] == sim[i]).sum()\n",
        "    print(f\"There are {sim2} entries in {sim[i]}\")\n",
        "    tot2 -= sim2\n",
        "    print(f\"Current total after removing {sim[i]} is {tot2}\")\n",
        "  else:\n",
        "    print(f\"The median value in the set of responses was a {sim[i-1]}\")\n",
        "    break"
      ],
      "metadata": {
        "colab": {
          "base_uri": "https://localhost:8080/"
        },
        "id": "HblwfMqLvPOM",
        "outputId": "c30ce84c-0152-4af4-fffe-e6d0249a2e29"
      },
      "execution_count": null,
      "outputs": [
        {
          "output_type": "stream",
          "name": "stdout",
          "text": [
            "The total number of respondents in the zone we are looking at is: 4234\n",
            "The median number is 2117.0\n",
            "i is currently 8.0\n",
            "There are 1264 entries in 8.0\n",
            "Current total after removing 8.0 is 853.0\n",
            "i is currently 7.0\n",
            "There are 645 entries in 7.0\n",
            "Current total after removing 7.0 is 208.0\n",
            "i is currently 6.0\n",
            "There are 654 entries in 6.0\n",
            "Current total after removing 6.0 is -446.0\n",
            "The median value in the set of responses was a 6.0\n"
          ]
        }
      ]
    },
    {
      "cell_type": "code",
      "source": [
        "# Fill the missing values in \"Embarked\" column\n",
        "df[\"INCOME2\"].fillna(6.0, inplace=True)\n",
        "\n",
        "# sum missing data\n",
        "df.isna().sum()"
      ],
      "metadata": {
        "colab": {
          "base_uri": "https://localhost:8080/"
        },
        "id": "gcxTGiGm-JHv",
        "outputId": "2952b6f3-4f51-4951-c636-8c6f298c9e99"
      },
      "execution_count": null,
      "outputs": [
        {
          "output_type": "execute_result",
          "data": {
            "text/plain": [
              "PERSONID       0\n",
              "DIABETE3       0\n",
              "NUMADULT    1757\n",
              "CHILDREN      12\n",
              "WEIGHT2       50\n",
              "DRVISITS    1432\n",
              "_RACE          3\n",
              "MSCODE      1810\n",
              "FLUSHOT6     238\n",
              "EMPLOY1       19\n",
              "SEX            0\n",
              "MARITAL       10\n",
              "CVDCRHD4       0\n",
              "HLTHCVR1    1680\n",
              "CHCKIDNY       0\n",
              "USEEQUIP     163\n",
              "ADDEPEV2       0\n",
              "RENTHOM1     102\n",
              "EXERANY2       0\n",
              "BLIND        170\n",
              "DECIDE       171\n",
              "HLTHPLN1       0\n",
              "_STATE         0\n",
              "ASTHMA3        0\n",
              "GENHLTH        0\n",
              "_AGEG5YR       0\n",
              "_BMI5CAT     317\n",
              "CHECKUP1       0\n",
              "INCOME2        0\n",
              "_EDUCAG        0\n",
              "SLEPTIM1       0\n",
              "MENTHLTH       0\n",
              "_SMOKER3       0\n",
              "dtype: int64"
            ]
          },
          "metadata": {},
          "execution_count": 6
        }
      ]
    },
    {
      "cell_type": "markdown",
      "source": [
        "#### **Variable:** `'_RACE'`"
      ],
      "metadata": {
        "id": "zfWxFiTW_IKB"
      }
    },
    {
      "cell_type": "markdown",
      "source": [
        "**Categorical variable**\n",
        "\n",
        "\"Race/ethnicity categories\"\n",
        "\n",
        "**Variable Responses:**\n",
        "\n",
        "- 1 - White only, non-Hispanic\n",
        "\n",
        "- 2 - Black only, non-Hispanic\n",
        "\n",
        "- 3 - American Indian or Alaskan Native only, Non-Hispanic\n",
        "\n",
        "- 4 - Asian only, non-Hispanic\n",
        "\n",
        "- 5 - Native Hawaiian or other Pacific Islander only, Non-Hispanic\n",
        "\n",
        "- 6 - Other race only, non-Hispanic\n",
        "\n",
        "- 7 - Multiracial, non-Hispanic\n",
        "\n",
        "- 8 - Hispanic\n",
        "\n",
        "- 9 - Don't know/Not sure/Refused\n"
      ],
      "metadata": {
        "id": "F833nJ95_XJM"
      }
    },
    {
      "cell_type": "code",
      "source": [
        "# _RACE counts\n",
        "for i in set(df[\"_RACE\"]):\n",
        "  if i >= 1.0:\n",
        "    num = len(df[df[\"_RACE\"] == i])\n",
        "    print(f\"The number of people who answered {i} for '_RACE' is {num}.\")\n",
        "  else:\n",
        "    continue"
      ],
      "metadata": {
        "colab": {
          "base_uri": "https://localhost:8080/"
        },
        "id": "lzWxQ1RtAsK6",
        "outputId": "ce8fb123-d4f6-40b1-cfac-573f2704ab2f"
      },
      "execution_count": null,
      "outputs": [
        {
          "output_type": "stream",
          "name": "stdout",
          "text": [
            "The number of people who answered 1.0 for '_RACE' is 3854.\n",
            "The number of people who answered 2.0 for '_RACE' is 361.\n",
            "The number of people who answered 3.0 for '_RACE' is 85.\n",
            "The number of people who answered 4.0 for '_RACE' is 86.\n",
            "The number of people who answered 5.0 for '_RACE' is 17.\n",
            "The number of people who answered 6.0 for '_RACE' is 32.\n",
            "The number of people who answered 7.0 for '_RACE' is 103.\n",
            "The number of people who answered 8.0 for '_RACE' is 359.\n",
            "The number of people who answered 9.0 for '_RACE' is 93.\n"
          ]
        }
      ]
    },
    {
      "cell_type": "markdown",
      "source": [
        "**Drop Rationale**\n",
        "\n",
        "Since we are only missing three entries for `'_RACE'`, we think it better to drop the missing values instead of trying to guess.  "
      ],
      "metadata": {
        "id": "CD4_OyATBHS9"
      }
    },
    {
      "cell_type": "code",
      "source": [
        "# before dropping\n",
        "print(\"Before dropping:\", len(df))\n",
        "\n",
        "# drop rows with empty values in _RACE column\n",
        "df = df[(df._RACE > 0)]\n",
        "\n",
        "# after dropping\n",
        "print(\"After dropping:\", len(df))\n",
        "print(\"\")\n",
        "\n",
        "# sum missing data\n",
        "df.isna().sum()"
      ],
      "metadata": {
        "colab": {
          "base_uri": "https://localhost:8080/"
        },
        "id": "drfbLKRYBiF9",
        "outputId": "5129f483-592d-45cf-dbd4-96bc07625772"
      },
      "execution_count": null,
      "outputs": [
        {
          "output_type": "stream",
          "name": "stdout",
          "text": [
            "Before dropping: 4993\n",
            "After dropping: 4990\n"
          ]
        },
        {
          "output_type": "execute_result",
          "data": {
            "text/plain": [
              "PERSONID       0\n",
              "DIABETE3       0\n",
              "NUMADULT    1754\n",
              "CHILDREN      11\n",
              "WEIGHT2       49\n",
              "DRVISITS    1432\n",
              "_RACE          0\n",
              "MSCODE      1807\n",
              "FLUSHOT6     237\n",
              "EMPLOY1       18\n",
              "SEX            0\n",
              "MARITAL        9\n",
              "CVDCRHD4       0\n",
              "HLTHCVR1    1679\n",
              "CHCKIDNY       0\n",
              "USEEQUIP     162\n",
              "ADDEPEV2       0\n",
              "RENTHOM1     101\n",
              "EXERANY2       0\n",
              "BLIND        169\n",
              "DECIDE       170\n",
              "HLTHPLN1       0\n",
              "_STATE         0\n",
              "ASTHMA3        0\n",
              "GENHLTH        0\n",
              "_AGEG5YR       0\n",
              "_BMI5CAT     316\n",
              "CHECKUP1       0\n",
              "INCOME2        0\n",
              "_EDUCAG        0\n",
              "SLEPTIM1       0\n",
              "MENTHLTH       0\n",
              "_SMOKER3       0\n",
              "dtype: int64"
            ]
          },
          "metadata": {},
          "execution_count": 8
        }
      ]
    },
    {
      "cell_type": "markdown",
      "source": [
        "#### **Variable:** `'MARITAL'`"
      ],
      "metadata": {
        "id": "Cw0ZGYvnDIu3"
      }
    },
    {
      "cell_type": "markdown",
      "source": [
        "**Categorical variable**\n",
        "\n",
        "\"Are you: (marital status)\"\n",
        "\n",
        "**Variable Responses:**\n",
        "\n",
        "- 1 - Married\n",
        "- 2 - Divorced\n",
        "- 3 - Widowed\n",
        "- 4 - Separated\n",
        "- 5 - Never married\n",
        "- 6 - A member of an unmarried couple\n",
        "- 9 - Refused"
      ],
      "metadata": {
        "id": "Uc1CcnF0DjFA"
      }
    },
    {
      "cell_type": "code",
      "source": [
        "# MARITAL counts\n",
        "for i in set(df[\"MARITAL\"]):\n",
        "  if i >= 1.0:\n",
        "    num = len(df[df[\"MARITAL\"] == i])\n",
        "    print(f\"The number of people who answered {i} for 'MARITAL' is {num}.\")\n",
        "  else:\n",
        "    continue"
      ],
      "metadata": {
        "colab": {
          "base_uri": "https://localhost:8080/"
        },
        "id": "qJz43F7EEWka",
        "outputId": "fc78aaf1-ca9c-42d8-a927-503f891f72a0"
      },
      "execution_count": null,
      "outputs": [
        {
          "output_type": "stream",
          "name": "stdout",
          "text": [
            "The number of people who answered 1.0 for 'MARITAL' is 2674.\n",
            "The number of people who answered 2.0 for 'MARITAL' is 635.\n",
            "The number of people who answered 3.0 for 'MARITAL' is 690.\n",
            "The number of people who answered 4.0 for 'MARITAL' is 89.\n",
            "The number of people who answered 5.0 for 'MARITAL' is 728.\n",
            "The number of people who answered 6.0 for 'MARITAL' is 136.\n",
            "The number of people who answered 9.0 for 'MARITAL' is 29.\n"
          ]
        }
      ]
    },
    {
      "cell_type": "markdown",
      "source": [
        "**Drop Rationale**\n",
        "\n",
        "Since we are only missing nine entries for `'MARITAL'`, we again think it better to drop the missing values instead of trying to guess.  "
      ],
      "metadata": {
        "id": "AKD1umHKFHCl"
      }
    },
    {
      "cell_type": "code",
      "source": [
        "# before dropping\n",
        "print(\"Before dropping:\", len(df))\n",
        "\n",
        "# drop rows with empty values in MARITAL column\n",
        "df = df[(df.MARITAL > 0)]\n",
        "\n",
        "# After dropping\n",
        "print(\"After dropping:\", len(df))\n",
        "print(\"\")\n",
        "\n",
        "# sum missing data\n",
        "df.isna().sum()"
      ],
      "metadata": {
        "colab": {
          "base_uri": "https://localhost:8080/"
        },
        "id": "b59eT6xXFIK4",
        "outputId": "27ed50b5-4ced-4f48-f37a-e83de7ee5fe0"
      },
      "execution_count": null,
      "outputs": [
        {
          "output_type": "stream",
          "name": "stdout",
          "text": [
            "Before dropping: 4990\n",
            "After dropping: 4981\n"
          ]
        },
        {
          "output_type": "execute_result",
          "data": {
            "text/plain": [
              "PERSONID       0\n",
              "DIABETE3       0\n",
              "NUMADULT    1751\n",
              "CHILDREN       2\n",
              "WEIGHT2       40\n",
              "DRVISITS    1430\n",
              "_RACE          0\n",
              "MSCODE      1804\n",
              "FLUSHOT6     228\n",
              "EMPLOY1        9\n",
              "SEX            0\n",
              "MARITAL        0\n",
              "CVDCRHD4       0\n",
              "HLTHCVR1    1675\n",
              "CHCKIDNY       0\n",
              "USEEQUIP     153\n",
              "ADDEPEV2       0\n",
              "RENTHOM1      92\n",
              "EXERANY2       0\n",
              "BLIND        160\n",
              "DECIDE       161\n",
              "HLTHPLN1       0\n",
              "_STATE         0\n",
              "ASTHMA3        0\n",
              "GENHLTH        0\n",
              "_AGEG5YR       0\n",
              "_BMI5CAT     307\n",
              "CHECKUP1       0\n",
              "INCOME2        0\n",
              "_EDUCAG        0\n",
              "SLEPTIM1       0\n",
              "MENTHLTH       0\n",
              "_SMOKER3       0\n",
              "dtype: int64"
            ]
          },
          "metadata": {},
          "execution_count": 9
        }
      ]
    },
    {
      "cell_type": "markdown",
      "source": [
        "#### **Variable:** `'CHILDREN'`"
      ],
      "metadata": {
        "id": "OE3iBekcGHld"
      }
    },
    {
      "cell_type": "markdown",
      "source": [
        "**Numeric variable**\n",
        "\n",
        "\"How many children less than 18 years of age live in your household?\"\n",
        "\n",
        "**Possible Responses:**\n",
        "- 1 to 87 - \"Number of children (Notes: _ _ = Number of children)\"\n",
        "- 88 - \"None\"\n",
        "- 99 - \"Refused\""
      ],
      "metadata": {
        "id": "UQhAqppfGULT"
      }
    },
    {
      "cell_type": "code",
      "source": [
        "# CHILDREN counts\n",
        "for i in set(df[\"CHILDREN\"]):\n",
        "  if i >= 1.0:\n",
        "    num = len(df[df[\"CHILDREN\"] == i])\n",
        "    print(f\"The number of people who answered {i} for 'CHILDREN' is {num}.\")\n",
        "  else:\n",
        "    continue"
      ],
      "metadata": {
        "colab": {
          "base_uri": "https://localhost:8080/"
        },
        "id": "NKp3POhDGers",
        "outputId": "d098ea85-e5af-4f56-8de8-10377986dda3"
      },
      "execution_count": null,
      "outputs": [
        {
          "output_type": "stream",
          "name": "stdout",
          "text": [
            "The number of people who answered 1.0 for 'CHILDREN' is 527.\n",
            "The number of people who answered 2.0 for 'CHILDREN' is 476.\n",
            "The number of people who answered 3.0 for 'CHILDREN' is 186.\n",
            "The number of people who answered 4.0 for 'CHILDREN' is 64.\n",
            "The number of people who answered 99.0 for 'CHILDREN' is 22.\n",
            "The number of people who answered 5.0 for 'CHILDREN' is 21.\n",
            "The number of people who answered 6.0 for 'CHILDREN' is 15.\n",
            "The number of people who answered 7.0 for 'CHILDREN' is 3.\n",
            "The number of people who answered 8.0 for 'CHILDREN' is 2.\n",
            "The number of people who answered 88.0 for 'CHILDREN' is 3663.\n"
          ]
        }
      ]
    },
    {
      "cell_type": "markdown",
      "source": [
        "**Drop Rationale**\n",
        "\n",
        "Since we are only missing 2 entries for `'CHILDREN'`, we again think it better to drop the missing values instead of trying to guess.  "
      ],
      "metadata": {
        "id": "QTvfNOpcHCys"
      }
    },
    {
      "cell_type": "code",
      "source": [
        "# before dropping\n",
        "print(\"Before dropping:\", len(df))\n",
        "\n",
        "# drop rows with empty values in CHILDREN column\n",
        "df = df[(df.CHILDREN > 0)]\n",
        "\n",
        "# After dropping\n",
        "print(\"After dropping:\", len(df))\n",
        "print(\"\")\n",
        "\n",
        "# sum missing data\n",
        "df.isna().sum()"
      ],
      "metadata": {
        "colab": {
          "base_uri": "https://localhost:8080/"
        },
        "id": "JfucnEqfHOp1",
        "outputId": "f9e99cd3-05ac-4548-c8a8-19e66f796593"
      },
      "execution_count": null,
      "outputs": [
        {
          "output_type": "stream",
          "name": "stdout",
          "text": [
            "Before dropping: 4981\n",
            "After dropping: 4979\n",
            "\n"
          ]
        },
        {
          "output_type": "execute_result",
          "data": {
            "text/plain": [
              "PERSONID       0\n",
              "DIABETE3       0\n",
              "NUMADULT    1751\n",
              "CHILDREN       0\n",
              "WEIGHT2       39\n",
              "DRVISITS    1428\n",
              "_RACE          0\n",
              "MSCODE      1804\n",
              "FLUSHOT6     227\n",
              "EMPLOY1        8\n",
              "SEX            0\n",
              "MARITAL        0\n",
              "CVDCRHD4       0\n",
              "HLTHCVR1    1673\n",
              "CHCKIDNY       0\n",
              "USEEQUIP     152\n",
              "ADDEPEV2       0\n",
              "RENTHOM1      91\n",
              "EXERANY2       0\n",
              "BLIND        159\n",
              "DECIDE       160\n",
              "HLTHPLN1       0\n",
              "_STATE         0\n",
              "ASTHMA3        0\n",
              "GENHLTH        0\n",
              "_AGEG5YR       0\n",
              "_BMI5CAT     305\n",
              "CHECKUP1       0\n",
              "INCOME2        0\n",
              "_EDUCAG        0\n",
              "SLEPTIM1       0\n",
              "MENTHLTH       0\n",
              "_SMOKER3       0\n",
              "dtype: int64"
            ]
          },
          "metadata": {},
          "execution_count": 10
        }
      ]
    },
    {
      "cell_type": "markdown",
      "source": [
        "#### **Variable:** `'EMPLOY1'`"
      ],
      "metadata": {
        "id": "S89MpKZ1KmZB"
      }
    },
    {
      "cell_type": "markdown",
      "source": [
        "**Categorical variable**\n",
        "\n",
        "\"Are you currently…?\" [Question about employment]\n",
        "\n",
        "**Possible Responses:**\n",
        "- 1 - Employed for wages\n",
        "- 2 - Self-employed\n",
        "- 3 - Out of work for 1 year or more\n",
        "- 4 - Out of work for less than 1 year\n",
        "- 5 - A homemaker\n",
        "- 6 - A student\n",
        "- 7 - Retired\n",
        "- 8 - Unable to work\n",
        "- 9 - Refused"
      ],
      "metadata": {
        "id": "ukVW_j1YK-GF"
      }
    },
    {
      "cell_type": "code",
      "source": [
        "# EMPLOY1 counts\n",
        "for i in set(df[\"EMPLOY1\"]):\n",
        "  if i >= 1.0:\n",
        "    num = len(df[df[\"EMPLOY1\"] == i])\n",
        "    print(f\"The number of people who answered {i} for 'EMPLOY1' is {num}.\")\n",
        "  else:\n",
        "    continue"
      ],
      "metadata": {
        "colab": {
          "base_uri": "https://localhost:8080/"
        },
        "id": "7_hRPjssK1s0",
        "outputId": "cd58765a-5e9a-420f-c349-5da0dc87af26"
      },
      "execution_count": null,
      "outputs": [
        {
          "output_type": "stream",
          "name": "stdout",
          "text": [
            "The number of people who answered 1.0 for 'EMPLOY1' is 2013.\n",
            "The number of people who answered 2.0 for 'EMPLOY1' is 414.\n",
            "The number of people who answered 3.0 for 'EMPLOY1' is 128.\n",
            "The number of people who answered 4.0 for 'EMPLOY1' is 103.\n",
            "The number of people who answered 5.0 for 'EMPLOY1' is 306.\n",
            "The number of people who answered 6.0 for 'EMPLOY1' is 99.\n",
            "The number of people who answered 7.0 for 'EMPLOY1' is 1542.\n",
            "The number of people who answered 8.0 for 'EMPLOY1' is 343.\n",
            "The number of people who answered 9.0 for 'EMPLOY1' is 23.\n"
          ]
        }
      ]
    },
    {
      "cell_type": "markdown",
      "source": [
        "**Drop Rationale**\n",
        "\n",
        "Since we are only missing 8 entries for `'EMPLOY1'`, we again think it better to drop the missing values instead of trying to guess.  "
      ],
      "metadata": {
        "id": "RtdufLcTMXua"
      }
    },
    {
      "cell_type": "code",
      "source": [
        "# before dropping\n",
        "print(\"Before dropping:\", len(df))\n",
        "\n",
        "# drop rows with empty values in EMPLOY1 column\n",
        "df = df[(df.EMPLOY1 > 0)]\n",
        "\n",
        "# After dropping\n",
        "print(\"After dropping:\", len(df))\n",
        "print(\"\")\n",
        "\n",
        "# sum missing data\n",
        "df.isna().sum()"
      ],
      "metadata": {
        "colab": {
          "base_uri": "https://localhost:8080/"
        },
        "id": "2jDLo8tqMY5_",
        "outputId": "d7de697e-e110-44af-ff5f-3ebf8f249889"
      },
      "execution_count": null,
      "outputs": [
        {
          "output_type": "stream",
          "name": "stdout",
          "text": [
            "Before dropping: 4971\n",
            "After dropping: 4971\n",
            "\n"
          ]
        },
        {
          "output_type": "execute_result",
          "data": {
            "text/plain": [
              "PERSONID       0\n",
              "DIABETE3       0\n",
              "NUMADULT    1747\n",
              "CHILDREN       0\n",
              "WEIGHT2       31\n",
              "DRVISITS    1427\n",
              "_RACE          0\n",
              "MSCODE      1800\n",
              "FLUSHOT6     219\n",
              "EMPLOY1        0\n",
              "SEX            0\n",
              "MARITAL        0\n",
              "CVDCRHD4       0\n",
              "HLTHCVR1    1671\n",
              "CHCKIDNY       0\n",
              "USEEQUIP     144\n",
              "ADDEPEV2       0\n",
              "RENTHOM1       0\n",
              "EXERANY2       0\n",
              "BLIND        151\n",
              "DECIDE       152\n",
              "HLTHPLN1       0\n",
              "_STATE         0\n",
              "ASTHMA3        0\n",
              "GENHLTH        0\n",
              "_AGEG5YR       0\n",
              "_BMI5CAT     297\n",
              "CHECKUP1       0\n",
              "INCOME2        0\n",
              "_EDUCAG        0\n",
              "SLEPTIM1       0\n",
              "MENTHLTH       0\n",
              "_SMOKER3       0\n",
              "dtype: int64"
            ]
          },
          "metadata": {},
          "execution_count": 31
        }
      ]
    },
    {
      "cell_type": "markdown",
      "source": [
        "#### **Variable:** `'WEIGHT2'`"
      ],
      "metadata": {
        "id": "SfIDKvN9NhAR"
      }
    },
    {
      "cell_type": "markdown",
      "source": [
        "**Numeric variable**\n",
        "\n",
        "\"About how much do you weigh without shoes? (If respondent answers in metrics put a 9 in the first column)[Round fractions up.]\"\n",
        "\n",
        "**Possible Responses:**\n",
        "- 50 - 0999 - Weight (pounds)\n",
        "\n",
        "- 7777 - Don't know/Not sure\n",
        "\n",
        "- 9000 - 9998 - Weight (kilograms)\n",
        "Notes: The initial '9' indicates this was a metric value.\n",
        "\n",
        "- 9999 - Refused"
      ],
      "metadata": {
        "id": "VsdZj0FmNyy8"
      }
    },
    {
      "cell_type": "code",
      "source": [
        "# WEIGHT2 counts\n",
        "for i in set(df[\"WEIGHT2\"]):\n",
        "  if i >= 1.0:\n",
        "    num = len(df[df[\"WEIGHT2\"] == i])\n",
        "    print(f\"The number of people who answered {i} for 'WEIGHT2' is {num}.\")\n",
        "  else:\n",
        "    continue"
      ],
      "metadata": {
        "colab": {
          "base_uri": "https://localhost:8080/"
        },
        "id": "93tlv56pPCZk",
        "outputId": "948ce94c-3052-4925-991b-71c2b74dc876"
      },
      "execution_count": null,
      "outputs": [
        {
          "output_type": "stream",
          "name": "stdout",
          "text": [
            "The number of people who answered 580.0 for 'WEIGHT2' is 1.\n",
            "The number of people who answered 75.0 for 'WEIGHT2' is 1.\n",
            "The number of people who answered 219.0 for 'WEIGHT2' is 4.\n",
            "The number of people who answered 84.0 for 'WEIGHT2' is 1.\n",
            "The number of people who answered 86.0 for 'WEIGHT2' is 1.\n",
            "The number of people who answered 87.0 for 'WEIGHT2' is 1.\n",
            "The number of people who answered 88.0 for 'WEIGHT2' is 1.\n",
            "The number of people who answered 89.0 for 'WEIGHT2' is 1.\n",
            "The number of people who answered 90.0 for 'WEIGHT2' is 2.\n",
            "The number of people who answered 92.0 for 'WEIGHT2' is 2.\n",
            "The number of people who answered 93.0 for 'WEIGHT2' is 3.\n",
            "The number of people who answered 94.0 for 'WEIGHT2' is 1.\n",
            "The number of people who answered 95.0 for 'WEIGHT2' is 1.\n",
            "The number of people who answered 96.0 for 'WEIGHT2' is 3.\n",
            "The number of people who answered 7777.0 for 'WEIGHT2' is 62.\n",
            "The number of people who answered 98.0 for 'WEIGHT2' is 2.\n",
            "The number of people who answered 99.0 for 'WEIGHT2' is 3.\n",
            "The number of people who answered 100.0 for 'WEIGHT2' is 22.\n",
            "The number of people who answered 102.0 for 'WEIGHT2' is 3.\n",
            "The number of people who answered 103.0 for 'WEIGHT2' is 3.\n",
            "The number of people who answered 104.0 for 'WEIGHT2' is 6.\n",
            "The number of people who answered 105.0 for 'WEIGHT2' is 18.\n",
            "The number of people who answered 106.0 for 'WEIGHT2' is 3.\n",
            "The number of people who answered 107.0 for 'WEIGHT2' is 5.\n",
            "The number of people who answered 108.0 for 'WEIGHT2' is 11.\n",
            "The number of people who answered 109.0 for 'WEIGHT2' is 3.\n",
            "The number of people who answered 110.0 for 'WEIGHT2' is 43.\n",
            "The number of people who answered 111.0 for 'WEIGHT2' is 6.\n",
            "The number of people who answered 112.0 for 'WEIGHT2' is 11.\n",
            "The number of people who answered 113.0 for 'WEIGHT2' is 4.\n",
            "The number of people who answered 114.0 for 'WEIGHT2' is 9.\n",
            "The number of people who answered 115.0 for 'WEIGHT2' is 43.\n",
            "The number of people who answered 116.0 for 'WEIGHT2' is 6.\n",
            "The number of people who answered 117.0 for 'WEIGHT2' is 8.\n",
            "The number of people who answered 118.0 for 'WEIGHT2' is 10.\n",
            "The number of people who answered 119.0 for 'WEIGHT2' is 7.\n",
            "The number of people who answered 120.0 for 'WEIGHT2' is 79.\n",
            "The number of people who answered 121.0 for 'WEIGHT2' is 4.\n",
            "The number of people who answered 122.0 for 'WEIGHT2' is 20.\n",
            "The number of people who answered 123.0 for 'WEIGHT2' is 20.\n",
            "The number of people who answered 124.0 for 'WEIGHT2' is 16.\n",
            "The number of people who answered 125.0 for 'WEIGHT2' is 85.\n",
            "The number of people who answered 126.0 for 'WEIGHT2' is 15.\n",
            "The number of people who answered 127.0 for 'WEIGHT2' is 13.\n",
            "The number of people who answered 128.0 for 'WEIGHT2' is 18.\n",
            "The number of people who answered 129.0 for 'WEIGHT2' is 11.\n",
            "The number of people who answered 130.0 for 'WEIGHT2' is 135.\n",
            "The number of people who answered 131.0 for 'WEIGHT2' is 7.\n",
            "The number of people who answered 132.0 for 'WEIGHT2' is 24.\n",
            "The number of people who answered 133.0 for 'WEIGHT2' is 9.\n",
            "The number of people who answered 134.0 for 'WEIGHT2' is 16.\n",
            "The number of people who answered 135.0 for 'WEIGHT2' is 120.\n",
            "The number of people who answered 136.0 for 'WEIGHT2' is 8.\n",
            "The number of people who answered 137.0 for 'WEIGHT2' is 25.\n",
            "The number of people who answered 138.0 for 'WEIGHT2' is 41.\n",
            "The number of people who answered 139.0 for 'WEIGHT2' is 11.\n",
            "The number of people who answered 140.0 for 'WEIGHT2' is 154.\n",
            "The number of people who answered 141.0 for 'WEIGHT2' is 6.\n",
            "The number of people who answered 142.0 for 'WEIGHT2' is 28.\n",
            "The number of people who answered 143.0 for 'WEIGHT2' is 13.\n",
            "The number of people who answered 144.0 for 'WEIGHT2' is 12.\n",
            "The number of people who answered 145.0 for 'WEIGHT2' is 105.\n",
            "The number of people who answered 146.0 for 'WEIGHT2' is 9.\n",
            "The number of people who answered 147.0 for 'WEIGHT2' is 12.\n",
            "The number of people who answered 148.0 for 'WEIGHT2' is 24.\n",
            "The number of people who answered 149.0 for 'WEIGHT2' is 9.\n",
            "The number of people who answered 150.0 for 'WEIGHT2' is 209.\n",
            "The number of people who answered 151.0 for 'WEIGHT2' is 4.\n",
            "The number of people who answered 152.0 for 'WEIGHT2' is 20.\n",
            "The number of people who answered 153.0 for 'WEIGHT2' is 14.\n",
            "The number of people who answered 154.0 for 'WEIGHT2' is 12.\n",
            "The number of people who answered 155.0 for 'WEIGHT2' is 98.\n",
            "The number of people who answered 156.0 for 'WEIGHT2' is 14.\n",
            "The number of people who answered 157.0 for 'WEIGHT2' is 11.\n",
            "The number of people who answered 158.0 for 'WEIGHT2' is 28.\n",
            "The number of people who answered 159.0 for 'WEIGHT2' is 8.\n",
            "The number of people who answered 160.0 for 'WEIGHT2' is 221.\n",
            "The number of people who answered 161.0 for 'WEIGHT2' is 9.\n",
            "The number of people who answered 162.0 for 'WEIGHT2' is 30.\n",
            "The number of people who answered 163.0 for 'WEIGHT2' is 14.\n",
            "The number of people who answered 164.0 for 'WEIGHT2' is 17.\n",
            "The number of people who answered 165.0 for 'WEIGHT2' is 133.\n",
            "The number of people who answered 166.0 for 'WEIGHT2' is 7.\n",
            "The number of people who answered 167.0 for 'WEIGHT2' is 20.\n",
            "The number of people who answered 168.0 for 'WEIGHT2' is 26.\n",
            "The number of people who answered 169.0 for 'WEIGHT2' is 18.\n",
            "The number of people who answered 170.0 for 'WEIGHT2' is 187.\n",
            "The number of people who answered 171.0 for 'WEIGHT2' is 7.\n",
            "The number of people who answered 172.0 for 'WEIGHT2' is 26.\n",
            "The number of people who answered 173.0 for 'WEIGHT2' is 10.\n",
            "The number of people who answered 174.0 for 'WEIGHT2' is 6.\n",
            "The number of people who answered 175.0 for 'WEIGHT2' is 133.\n",
            "The number of people who answered 176.0 for 'WEIGHT2' is 10.\n",
            "The number of people who answered 177.0 for 'WEIGHT2' is 15.\n",
            "The number of people who answered 178.0 for 'WEIGHT2' is 23.\n",
            "The number of people who answered 179.0 for 'WEIGHT2' is 9.\n",
            "The number of people who answered 180.0 for 'WEIGHT2' is 196.\n",
            "The number of people who answered 181.0 for 'WEIGHT2' is 4.\n",
            "The number of people who answered 182.0 for 'WEIGHT2' is 17.\n",
            "The number of people who answered 184.0 for 'WEIGHT2' is 11.\n",
            "The number of people who answered 185.0 for 'WEIGHT2' is 106.\n",
            "The number of people who answered 186.0 for 'WEIGHT2' is 12.\n",
            "The number of people who answered 187.0 for 'WEIGHT2' is 13.\n",
            "The number of people who answered 188.0 for 'WEIGHT2' is 13.\n",
            "The number of people who answered 189.0 for 'WEIGHT2' is 12.\n",
            "The number of people who answered 190.0 for 'WEIGHT2' is 180.\n",
            "The number of people who answered 191.0 for 'WEIGHT2' is 2.\n",
            "The number of people who answered 192.0 for 'WEIGHT2' is 19.\n",
            "The number of people who answered 193.0 for 'WEIGHT2' is 10.\n",
            "The number of people who answered 194.0 for 'WEIGHT2' is 12.\n",
            "The number of people who answered 195.0 for 'WEIGHT2' is 85.\n",
            "The number of people who answered 196.0 for 'WEIGHT2' is 15.\n",
            "The number of people who answered 197.0 for 'WEIGHT2' is 11.\n",
            "The number of people who answered 198.0 for 'WEIGHT2' is 27.\n",
            "The number of people who answered 199.0 for 'WEIGHT2' is 10.\n",
            "The number of people who answered 200.0 for 'WEIGHT2' is 238.\n",
            "The number of people who answered 201.0 for 'WEIGHT2' is 6.\n",
            "The number of people who answered 202.0 for 'WEIGHT2' is 8.\n",
            "The number of people who answered 203.0 for 'WEIGHT2' is 4.\n",
            "The number of people who answered 204.0 for 'WEIGHT2' is 7.\n",
            "The number of people who answered 205.0 for 'WEIGHT2' is 58.\n",
            "The number of people who answered 206.0 for 'WEIGHT2' is 8.\n",
            "The number of people who answered 207.0 for 'WEIGHT2' is 6.\n",
            "The number of people who answered 208.0 for 'WEIGHT2' is 10.\n",
            "The number of people who answered 209.0 for 'WEIGHT2' is 2.\n",
            "The number of people who answered 210.0 for 'WEIGHT2' is 111.\n",
            "The number of people who answered 211.0 for 'WEIGHT2' is 3.\n",
            "The number of people who answered 212.0 for 'WEIGHT2' is 11.\n",
            "The number of people who answered 213.0 for 'WEIGHT2' is 6.\n",
            "The number of people who answered 214.0 for 'WEIGHT2' is 4.\n",
            "The number of people who answered 215.0 for 'WEIGHT2' is 46.\n",
            "The number of people who answered 216.0 for 'WEIGHT2' is 4.\n",
            "The number of people who answered 218.0 for 'WEIGHT2' is 11.\n",
            "The number of people who answered 217.0 for 'WEIGHT2' is 3.\n",
            "The number of people who answered 220.0 for 'WEIGHT2' is 134.\n",
            "The number of people who answered 221.0 for 'WEIGHT2' is 4.\n",
            "The number of people who answered 222.0 for 'WEIGHT2' is 7.\n",
            "The number of people who answered 223.0 for 'WEIGHT2' is 1.\n",
            "The number of people who answered 224.0 for 'WEIGHT2' is 2.\n",
            "The number of people who answered 225.0 for 'WEIGHT2' is 48.\n",
            "The number of people who answered 226.0 for 'WEIGHT2' is 7.\n",
            "The number of people who answered 227.0 for 'WEIGHT2' is 4.\n",
            "The number of people who answered 228.0 for 'WEIGHT2' is 7.\n",
            "The number of people who answered 230.0 for 'WEIGHT2' is 81.\n",
            "The number of people who answered 231.0 for 'WEIGHT2' is 2.\n",
            "The number of people who answered 232.0 for 'WEIGHT2' is 5.\n",
            "The number of people who answered 233.0 for 'WEIGHT2' is 2.\n",
            "The number of people who answered 234.0 for 'WEIGHT2' is 3.\n",
            "The number of people who answered 235.0 for 'WEIGHT2' is 34.\n",
            "The number of people who answered 236.0 for 'WEIGHT2' is 3.\n",
            "The number of people who answered 237.0 for 'WEIGHT2' is 2.\n",
            "The number of people who answered 238.0 for 'WEIGHT2' is 2.\n",
            "The number of people who answered 239.0 for 'WEIGHT2' is 2.\n",
            "The number of people who answered 240.0 for 'WEIGHT2' is 61.\n",
            "The number of people who answered 241.0 for 'WEIGHT2' is 1.\n",
            "The number of people who answered 242.0 for 'WEIGHT2' is 3.\n",
            "The number of people who answered 243.0 for 'WEIGHT2' is 2.\n",
            "The number of people who answered 244.0 for 'WEIGHT2' is 1.\n",
            "The number of people who answered 245.0 for 'WEIGHT2' is 23.\n",
            "The number of people who answered 246.0 for 'WEIGHT2' is 2.\n",
            "The number of people who answered 247.0 for 'WEIGHT2' is 2.\n",
            "The number of people who answered 248.0 for 'WEIGHT2' is 4.\n",
            "The number of people who answered 249.0 for 'WEIGHT2' is 3.\n",
            "The number of people who answered 250.0 for 'WEIGHT2' is 65.\n",
            "The number of people who answered 252.0 for 'WEIGHT2' is 2.\n",
            "The number of people who answered 253.0 for 'WEIGHT2' is 1.\n",
            "The number of people who answered 255.0 for 'WEIGHT2' is 12.\n",
            "The number of people who answered 256.0 for 'WEIGHT2' is 3.\n",
            "The number of people who answered 258.0 for 'WEIGHT2' is 3.\n",
            "The number of people who answered 260.0 for 'WEIGHT2' is 37.\n",
            "The number of people who answered 262.0 for 'WEIGHT2' is 5.\n",
            "The number of people who answered 263.0 for 'WEIGHT2' is 2.\n",
            "The number of people who answered 265.0 for 'WEIGHT2' is 13.\n",
            "The number of people who answered 267.0 for 'WEIGHT2' is 1.\n",
            "The number of people who answered 268.0 for 'WEIGHT2' is 2.\n",
            "The number of people who answered 270.0 for 'WEIGHT2' is 18.\n",
            "The number of people who answered 9999.0 for 'WEIGHT2' is 151.\n",
            "The number of people who answered 272.0 for 'WEIGHT2' is 1.\n",
            "The number of people who answered 275.0 for 'WEIGHT2' is 10.\n",
            "The number of people who answered 276.0 for 'WEIGHT2' is 3.\n",
            "The number of people who answered 278.0 for 'WEIGHT2' is 1.\n",
            "The number of people who answered 279.0 for 'WEIGHT2' is 1.\n",
            "The number of people who answered 280.0 for 'WEIGHT2' is 25.\n",
            "The number of people who answered 282.0 for 'WEIGHT2' is 1.\n",
            "The number of people who answered 283.0 for 'WEIGHT2' is 2.\n",
            "The number of people who answered 229.0 for 'WEIGHT2' is 1.\n",
            "The number of people who answered 285.0 for 'WEIGHT2' is 10.\n",
            "The number of people who answered 286.0 for 'WEIGHT2' is 1.\n",
            "The number of people who answered 287.0 for 'WEIGHT2' is 1.\n",
            "The number of people who answered 290.0 for 'WEIGHT2' is 19.\n",
            "The number of people who answered 291.0 for 'WEIGHT2' is 1.\n",
            "The number of people who answered 292.0 for 'WEIGHT2' is 2.\n",
            "The number of people who answered 295.0 for 'WEIGHT2' is 5.\n",
            "The number of people who answered 297.0 for 'WEIGHT2' is 3.\n",
            "The number of people who answered 298.0 for 'WEIGHT2' is 1.\n",
            "The number of people who answered 299.0 for 'WEIGHT2' is 2.\n",
            "The number of people who answered 300.0 for 'WEIGHT2' is 26.\n",
            "The number of people who answered 302.0 for 'WEIGHT2' is 1.\n",
            "The number of people who answered 303.0 for 'WEIGHT2' is 2.\n",
            "The number of people who answered 305.0 for 'WEIGHT2' is 2.\n",
            "The number of people who answered 310.0 for 'WEIGHT2' is 2.\n",
            "The number of people who answered 311.0 for 'WEIGHT2' is 1.\n",
            "The number of people who answered 317.0 for 'WEIGHT2' is 1.\n",
            "The number of people who answered 320.0 for 'WEIGHT2' is 5.\n",
            "The number of people who answered 325.0 for 'WEIGHT2' is 2.\n",
            "The number of people who answered 330.0 for 'WEIGHT2' is 3.\n",
            "The number of people who answered 333.0 for 'WEIGHT2' is 1.\n",
            "The number of people who answered 335.0 for 'WEIGHT2' is 2.\n",
            "The number of people who answered 339.0 for 'WEIGHT2' is 1.\n",
            "The number of people who answered 340.0 for 'WEIGHT2' is 5.\n",
            "The number of people who answered 350.0 for 'WEIGHT2' is 5.\n",
            "The number of people who answered 9064.0 for 'WEIGHT2' is 1.\n",
            "The number of people who answered 9067.0 for 'WEIGHT2' is 1.\n",
            "The number of people who answered 9072.0 for 'WEIGHT2' is 1.\n",
            "The number of people who answered 369.0 for 'WEIGHT2' is 1.\n",
            "The number of people who answered 375.0 for 'WEIGHT2' is 1.\n",
            "The number of people who answered 9080.0 for 'WEIGHT2' is 1.\n",
            "The number of people who answered 380.0 for 'WEIGHT2' is 1.\n",
            "The number of people who answered 9085.0 for 'WEIGHT2' is 1.\n",
            "The number of people who answered 388.0 for 'WEIGHT2' is 1.\n",
            "The number of people who answered 390.0 for 'WEIGHT2' is 1.\n",
            "The number of people who answered 400.0 for 'WEIGHT2' is 1.\n",
            "The number of people who answered 407.0 for 'WEIGHT2' is 1.\n",
            "The number of people who answered 183.0 for 'WEIGHT2' is 3.\n",
            "The number of people who answered 9120.0 for 'WEIGHT2' is 1.\n",
            "The number of people who answered 420.0 for 'WEIGHT2' is 1.\n",
            "The number of people who answered 9140.0 for 'WEIGHT2' is 1.\n",
            "The number of people who answered 450.0 for 'WEIGHT2' is 1.\n",
            "The number of people who answered 464.0 for 'WEIGHT2' is 1.\n",
            "The number of people who answered 101.0 for 'WEIGHT2' is 4.\n"
          ]
        }
      ]
    },
    {
      "cell_type": "markdown",
      "source": [
        "`'WEIGHT2'` is a bit of a mess, we're going to have to rescale it in the variable prep section.  But for now, we're not going to drop the unknown weight values as once `'WEIGHT2'` is rescaled we'll be able to fill the unknown values with the median.  "
      ],
      "metadata": {
        "id": "4RNRNjGAPVBT"
      }
    },
    {
      "cell_type": "markdown",
      "source": [
        "#### **Variable:** `'RENTHOM1'`"
      ],
      "metadata": {
        "id": "yxuJXyo1R1Wc"
      }
    },
    {
      "cell_type": "markdown",
      "source": [
        "**Categorical variable**\n",
        "\n",
        "\"Do you own or rent your home? (Home is defined as the place where you live most of the time/the majority of the year.)\"\n",
        "\n",
        "**Possible Responses:**\n",
        "- 1 - Own\n",
        "- 2 - Rent\n",
        "- 3 - Other arrangement\n",
        "- 7 - Don't know/Not Sure\n",
        "- 9 - Refused"
      ],
      "metadata": {
        "id": "hkHxupZcSED4"
      }
    },
    {
      "cell_type": "code",
      "source": [
        "# RENTHOM1 counts\n",
        "for i in set(df[\"RENTHOM1\"]):\n",
        "  if i >= 1.0:\n",
        "    num = len(df[df[\"RENTHOM1\"] == i])\n",
        "    print(f\"The number of people who answered {i} for 'RENTHOM1' is {num}.\")\n",
        "  else:\n",
        "    continue"
      ],
      "metadata": {
        "id": "H1j1lk8jV-68"
      },
      "execution_count": null,
      "outputs": []
    },
    {
      "cell_type": "markdown",
      "source": [
        "**Fill Rationale**\n",
        "\n",
        "We are going to fill the missing entries of `'RENTHOM1'` with the median value for `'RENTHOM1` of other entries that are in the same `'INCOME2'` bracket.  The idea here is that renting vs homeownership often is tied to personal wealth, so we will fill our missing data with that relationship in mind.  "
      ],
      "metadata": {
        "id": "OqcjyPhVW_FK"
      }
    },
    {
      "cell_type": "code",
      "source": [
        "# Filling code\n",
        "df['RENTHOM1'] = df['RENTHOM1'].fillna(df.groupby('INCOME2')['RENTHOM1'].transform('median'))\n",
        "\n",
        "# sum missing data\n",
        "df.isna().sum()"
      ],
      "metadata": {
        "colab": {
          "base_uri": "https://localhost:8080/"
        },
        "id": "I9lMBXHtXtyQ",
        "outputId": "af266f1e-4439-4e08-c9d5-e1ad7c63edcb"
      },
      "execution_count": null,
      "outputs": [
        {
          "output_type": "execute_result",
          "data": {
            "text/plain": [
              "PERSONID       0\n",
              "DIABETE3       0\n",
              "NUMADULT    1747\n",
              "CHILDREN       0\n",
              "WEIGHT2       31\n",
              "DRVISITS    1427\n",
              "_RACE          0\n",
              "MSCODE      1800\n",
              "FLUSHOT6     219\n",
              "EMPLOY1        0\n",
              "SEX            0\n",
              "MARITAL        0\n",
              "CVDCRHD4       0\n",
              "HLTHCVR1    1671\n",
              "CHCKIDNY       0\n",
              "USEEQUIP     144\n",
              "ADDEPEV2       0\n",
              "RENTHOM1       0\n",
              "EXERANY2       0\n",
              "BLIND        151\n",
              "DECIDE       152\n",
              "HLTHPLN1       0\n",
              "_STATE         0\n",
              "ASTHMA3        0\n",
              "GENHLTH        0\n",
              "_AGEG5YR       0\n",
              "_BMI5CAT     297\n",
              "CHECKUP1       0\n",
              "INCOME2        0\n",
              "_EDUCAG        0\n",
              "SLEPTIM1       0\n",
              "MENTHLTH       0\n",
              "_SMOKER3       0\n",
              "dtype: int64"
            ]
          },
          "metadata": {},
          "execution_count": 23
        }
      ]
    },
    {
      "cell_type": "markdown",
      "source": [
        "#### **Variable:** `'BLIND'`"
      ],
      "metadata": {
        "id": "_43njTOvvrg7"
      }
    },
    {
      "cell_type": "markdown",
      "source": [
        "**Categorical variable**\n",
        "\n",
        "\"Are you blind or do you have serious difficulty seeing, even when wearing glasses?\"\n",
        "\n",
        "**Possible responses:**\n",
        "- 1 - Yes\n",
        "- 2 - No\n",
        "- 7 - Don't know/Not Sure\n",
        "- 9 - Refused"
      ],
      "metadata": {
        "id": "M_wvTw1z1Gdy"
      }
    },
    {
      "cell_type": "code",
      "source": [
        "# BLIND counts\n",
        "for i in set(df[\"BLIND\"]):\n",
        "  if i >= 1.0:\n",
        "    num = len(df[df[\"BLIND\"] == i])\n",
        "    print(f\"The number of people who answered {i} for 'BLIND' is {num}.\")\n",
        "  else:\n",
        "    continue"
      ],
      "metadata": {
        "colab": {
          "base_uri": "https://localhost:8080/"
        },
        "id": "p9seX2ad1iGU",
        "outputId": "aaf80c03-47b2-4d61-f26e-0658415cb661"
      },
      "execution_count": null,
      "outputs": [
        {
          "output_type": "stream",
          "name": "stdout",
          "text": [
            "The number of people who answered 1.0 for 'BLIND' is 247.\n",
            "The number of people who answered 2.0 for 'BLIND' is 4556.\n",
            "The number of people who answered 7.0 for 'BLIND' is 9.\n",
            "The number of people who answered 9.0 for 'BLIND' is 8.\n"
          ]
        }
      ]
    },
    {
      "cell_type": "markdown",
      "source": [
        "**Drop Rationale**\n",
        "\n",
        "Since we are only missing 151 entries for `'BLIND'` and we still have a DataFrame with 4900+ rows, we again think it better to drop the missing values instead of trying to guess.  We were slightly torn about this, but there didn't seem to be a reliable enough marker to justify marking some of these yes, and some no.  With more time to work on this, we might have tried marking those without a diabetes diagnosis as not blind."
      ],
      "metadata": {
        "id": "SM6PB0wB2UBN"
      }
    },
    {
      "cell_type": "code",
      "source": [
        "# before dropping\n",
        "print(\"Before dropping:\", len(df))\n",
        "\n",
        "# drop rows with empty values in BLIND column\n",
        "df = df[(df.BLIND > 0)]\n",
        "\n",
        "# After dropping\n",
        "print(\"After dropping:\", len(df))\n",
        "print(\"\")\n",
        "\n",
        "# sum missing data\n",
        "df.isna().sum()"
      ],
      "metadata": {
        "colab": {
          "base_uri": "https://localhost:8080/"
        },
        "id": "Xvv-X6WR2SKc",
        "outputId": "a59960aa-53ac-449b-b316-c9877b7fb40b"
      },
      "execution_count": null,
      "outputs": [
        {
          "output_type": "stream",
          "name": "stdout",
          "text": [
            "Before dropping: 4971\n",
            "After dropping: 4820\n",
            "\n"
          ]
        },
        {
          "output_type": "execute_result",
          "data": {
            "text/plain": [
              "PERSONID       0\n",
              "DIABETE3       0\n",
              "NUMADULT    1684\n",
              "CHILDREN       0\n",
              "WEIGHT2        0\n",
              "DRVISITS    1384\n",
              "_RACE          0\n",
              "MSCODE      1737\n",
              "FLUSHOT6      68\n",
              "EMPLOY1        0\n",
              "SEX            0\n",
              "MARITAL        0\n",
              "CVDCRHD4       0\n",
              "HLTHCVR1    1614\n",
              "CHCKIDNY       0\n",
              "USEEQUIP       0\n",
              "ADDEPEV2       0\n",
              "RENTHOM1       0\n",
              "EXERANY2       0\n",
              "BLIND          0\n",
              "DECIDE         1\n",
              "HLTHPLN1       0\n",
              "_STATE         0\n",
              "ASTHMA3        0\n",
              "GENHLTH        0\n",
              "_AGEG5YR       0\n",
              "_BMI5CAT     241\n",
              "CHECKUP1       0\n",
              "INCOME2        0\n",
              "_EDUCAG        0\n",
              "SLEPTIM1       0\n",
              "MENTHLTH       0\n",
              "_SMOKER3       0\n",
              "dtype: int64"
            ]
          },
          "metadata": {},
          "execution_count": 32
        }
      ]
    },
    {
      "cell_type": "markdown",
      "source": [
        "Conveniently, dropping all the missing entries for `'BLIND'` also eliminated the rows for all the missing entries of `'USEEQUIP'` and rows of nearly all the missing entries of `'DECIDE'`."
      ],
      "metadata": {
        "id": "Zxs_NHuy854Z"
      }
    },
    {
      "cell_type": "markdown",
      "source": [
        "#### **Variable:** `'DECIDE'`"
      ],
      "metadata": {
        "id": "G7GE0Xvnv18I"
      }
    },
    {
      "cell_type": "markdown",
      "source": [
        "**Categorical variable**\n",
        "\n",
        "\"Because of a physical, mental, or emotional condition, do you have serious difficulty concentrating, remembering, or making decisions?\"\n",
        "\n",
        "**Possible responses:**\n",
        "- 1 - Yes\n",
        "- 2 - No\n",
        "- 7 - Don't know/Not Sure\n",
        "- 9 - Refused"
      ],
      "metadata": {
        "id": "CceMY_9kv0TT"
      }
    },
    {
      "cell_type": "code",
      "source": [
        "# DECIDE counts\n",
        "for i in set(df[\"DECIDE\"]):\n",
        "  if i >= 1.0:\n",
        "    num = len(df[df[\"DECIDE\"] == i])\n",
        "    print(f\"The number of people who answered {i} for 'DECIDE' is {num}.\")\n",
        "  else:\n",
        "    continue"
      ],
      "metadata": {
        "colab": {
          "base_uri": "https://localhost:8080/"
        },
        "id": "gvnBn_34-5Yx",
        "outputId": "24131afd-ead0-4166-b21b-e523b1531901"
      },
      "execution_count": null,
      "outputs": [
        {
          "output_type": "stream",
          "name": "stdout",
          "text": [
            "The number of people who answered 1.0 for 'DECIDE' is 466.\n",
            "The number of people who answered 2.0 for 'DECIDE' is 4322.\n",
            "The number of people who answered 7.0 for 'DECIDE' is 23.\n",
            "The number of people who answered 9.0 for 'DECIDE' is 8.\n"
          ]
        }
      ]
    },
    {
      "cell_type": "markdown",
      "source": [
        "**Drop Rationale**\n",
        "\n",
        "Since we are only missing one entry for `'DECIDE'` we are going to drop the row containing it."
      ],
      "metadata": {
        "id": "cnU2yN3g_gHd"
      }
    },
    {
      "cell_type": "code",
      "source": [
        "# before dropping\n",
        "print(\"Before dropping:\", len(df))\n",
        "\n",
        "# drop rows with empty values in DECIDE column\n",
        "df = df[(df.DECIDE > 0)]\n",
        "\n",
        "# After dropping\n",
        "print(\"After dropping:\", len(df))\n",
        "print(\"\")\n",
        "\n",
        "# sum missing data\n",
        "df.isna().sum()"
      ],
      "metadata": {
        "colab": {
          "base_uri": "https://localhost:8080/"
        },
        "id": "QZZEtHDQ_tsy",
        "outputId": "b6a04742-b9b8-48a6-e6da-f495009231f6"
      },
      "execution_count": null,
      "outputs": [
        {
          "output_type": "stream",
          "name": "stdout",
          "text": [
            "Before dropping: 4820\n",
            "After dropping: 4819\n",
            "\n"
          ]
        },
        {
          "output_type": "execute_result",
          "data": {
            "text/plain": [
              "PERSONID       0\n",
              "DIABETE3       0\n",
              "NUMADULT    1684\n",
              "CHILDREN       0\n",
              "WEIGHT2        0\n",
              "DRVISITS    1384\n",
              "_RACE          0\n",
              "MSCODE      1737\n",
              "FLUSHOT6      67\n",
              "EMPLOY1        0\n",
              "SEX            0\n",
              "MARITAL        0\n",
              "CVDCRHD4       0\n",
              "HLTHCVR1    1614\n",
              "CHCKIDNY       0\n",
              "USEEQUIP       0\n",
              "ADDEPEV2       0\n",
              "RENTHOM1       0\n",
              "EXERANY2       0\n",
              "BLIND          0\n",
              "DECIDE         0\n",
              "HLTHPLN1       0\n",
              "_STATE         0\n",
              "ASTHMA3        0\n",
              "GENHLTH        0\n",
              "_AGEG5YR       0\n",
              "_BMI5CAT     240\n",
              "CHECKUP1       0\n",
              "INCOME2        0\n",
              "_EDUCAG        0\n",
              "SLEPTIM1       0\n",
              "MENTHLTH       0\n",
              "_SMOKER3       0\n",
              "dtype: int64"
            ]
          },
          "metadata": {},
          "execution_count": 34
        }
      ]
    },
    {
      "cell_type": "markdown",
      "source": [
        "#### **Variable:** `'FLUSHOT6'`"
      ],
      "metadata": {
        "id": "cRVLlfaNwLqK"
      }
    },
    {
      "cell_type": "markdown",
      "source": [
        "**Categorical variable**\n",
        "\n",
        "\"During the past 12 months, have you had either a flu shot or a flu vaccine that was sprayed in your nose? (A new flu shot came out in 2011 that injects vaccine into the skin with a very small needle. It is called Fluzone Intradermal vaccine. This is also considered a flu shot.)\"\n",
        "\n",
        "**Possible responses:**\n",
        "- 1 - Yes\n",
        "- 2 - No\n",
        "- 7 - Don't know/Not Sure\n",
        "- 9 - Refused"
      ],
      "metadata": {
        "id": "YPNiRh4YwSEo"
      }
    },
    {
      "cell_type": "code",
      "source": [
        "# FLUSHOT6 counts\n",
        "for i in set(df[\"FLUSHOT6\"]):\n",
        "  if i >= 1.0:\n",
        "    num = len(df[df[\"FLUSHOT6\"] == i])\n",
        "    print(f\"The number of people who answered {i} for 'FLUSHOT6' is {num}.\")\n",
        "  else:\n",
        "    continue"
      ],
      "metadata": {
        "colab": {
          "base_uri": "https://localhost:8080/"
        },
        "id": "4-aAz2tZA-tO",
        "outputId": "82f6c3c1-2e69-4f32-cecc-153c4ec7aa34"
      },
      "execution_count": null,
      "outputs": [
        {
          "output_type": "stream",
          "name": "stdout",
          "text": [
            "The number of people who answered 1.0 for 'FLUSHOT6' is 2226.\n",
            "The number of people who answered 2.0 for 'FLUSHOT6' is 2499.\n",
            "The number of people who answered 7.0 for 'FLUSHOT6' is 11.\n",
            "The number of people who answered 9.0 for 'FLUSHOT6' is 16.\n"
          ]
        }
      ]
    },
    {
      "cell_type": "markdown",
      "source": [
        "**Drop Rationale**\n",
        "\n",
        "Since we are only missing 67 entries for `'FLUSHOT6'` and the split is very even, we are going to drop rows containing said missing entries."
      ],
      "metadata": {
        "id": "uHutusNUBUUi"
      }
    },
    {
      "cell_type": "code",
      "source": [
        "# before dropping\n",
        "print(\"Before dropping:\", len(df))\n",
        "\n",
        "# drop rows with empty values in FLUSHOT6 column\n",
        "df = df[(df.FLUSHOT6 > 0)]\n",
        "\n",
        "# After dropping\n",
        "print(\"After dropping:\", len(df))\n",
        "print(\"\")\n",
        "\n",
        "# sum missing data\n",
        "df.isna().sum()"
      ],
      "metadata": {
        "colab": {
          "base_uri": "https://localhost:8080/"
        },
        "id": "kuoEt4WiB6RQ",
        "outputId": "be885dbe-ab82-4c6d-e897-0542e791d941"
      },
      "execution_count": null,
      "outputs": [
        {
          "output_type": "stream",
          "name": "stdout",
          "text": [
            "Before dropping: 4819\n",
            "After dropping: 4752\n",
            "\n"
          ]
        },
        {
          "output_type": "execute_result",
          "data": {
            "text/plain": [
              "PERSONID       0\n",
              "DIABETE3       0\n",
              "NUMADULT    1657\n",
              "CHILDREN       0\n",
              "WEIGHT2        0\n",
              "DRVISITS    1369\n",
              "_RACE          0\n",
              "MSCODE      1710\n",
              "FLUSHOT6       0\n",
              "EMPLOY1        0\n",
              "SEX            0\n",
              "MARITAL        0\n",
              "CVDCRHD4       0\n",
              "HLTHCVR1    1596\n",
              "CHCKIDNY       0\n",
              "USEEQUIP       0\n",
              "ADDEPEV2       0\n",
              "RENTHOM1       0\n",
              "EXERANY2       0\n",
              "BLIND          0\n",
              "DECIDE         0\n",
              "HLTHPLN1       0\n",
              "_STATE         0\n",
              "ASTHMA3        0\n",
              "GENHLTH        0\n",
              "_AGEG5YR       0\n",
              "_BMI5CAT     231\n",
              "CHECKUP1       0\n",
              "INCOME2        0\n",
              "_EDUCAG        0\n",
              "SLEPTIM1       0\n",
              "MENTHLTH       0\n",
              "_SMOKER3       0\n",
              "dtype: int64"
            ]
          },
          "metadata": {},
          "execution_count": 36
        }
      ]
    },
    {
      "cell_type": "markdown",
      "source": [
        "#### **Variable:** `'_BMI5CAT'`"
      ],
      "metadata": {
        "id": "smrcRbYOwTvK"
      }
    },
    {
      "cell_type": "markdown",
      "source": [
        "**Categorical variable**\n",
        "\n",
        "\"Four-categories of Body Mass Index (BMI)\"\n",
        "\n",
        "**Possible responses:**\n",
        "- 1 - \"Underweight (Notes: `'_BMI5'` < 18.50)\"\n",
        "- 2 - \"Normal Weight (Notes: 18.50 <= `'_BMI5'` < 25.00)\"\n",
        "- 3 - \"Overweight (Notes: 25.00 <= `'_BMI5'` < 30.00)\"\n",
        "- 4 - \"Obese (Notes: 30.00 <= `'_BMI5'` <= 99.99)\""
      ],
      "metadata": {
        "id": "q-epZDOLwdec"
      }
    },
    {
      "cell_type": "code",
      "source": [
        "# _BMI5CAT counts\n",
        "for i in set(df[\"_BMI5CAT\"]):\n",
        "  if i >= 1.0:\n",
        "    num = len(df[df[\"_BMI5CAT\"] == i])\n",
        "    print(f\"The number of people who answered {i} for '_BMI5CAT' is {num}.\")\n",
        "  else:\n",
        "    continue"
      ],
      "metadata": {
        "colab": {
          "base_uri": "https://localhost:8080/"
        },
        "id": "Z5gOVC36DTHX",
        "outputId": "fcab910e-4c2b-46e6-c719-5bd302a8ae83"
      },
      "execution_count": null,
      "outputs": [
        {
          "output_type": "stream",
          "name": "stdout",
          "text": [
            "The number of people who answered 1.0 for '_BMI5CAT' is 84.\n",
            "The number of people who answered 2.0 for '_BMI5CAT' is 1471.\n",
            "The number of people who answered 3.0 for '_BMI5CAT' is 1808.\n",
            "The number of people who answered 4.0 for '_BMI5CAT' is 1334.\n"
          ]
        }
      ]
    },
    {
      "cell_type": "markdown",
      "source": [
        "**Fill Rationale**\n",
        "\n",
        "We are going to fill the missing entries of `'_BMI5CAT'` with the median value for `'_BMI5CAT` of other entries that are in the same `'EXERANY2'` bracket.  The idea here is that a BMI usually has some decent correlation with activity level.  "
      ],
      "metadata": {
        "id": "FKBZpEo-D_he"
      }
    },
    {
      "cell_type": "code",
      "source": [
        "# Filling code\n",
        "df['_BMI5CAT'] = df['_BMI5CAT'].fillna(df.groupby('EXERANY2')['_BMI5CAT'].transform('median'))\n",
        "\n",
        "# sum missing data\n",
        "df.isna().sum()"
      ],
      "metadata": {
        "colab": {
          "base_uri": "https://localhost:8080/"
        },
        "id": "FnHZduoBFQW8",
        "outputId": "59086775-c8c2-48dc-837a-b861870f91fa"
      },
      "execution_count": null,
      "outputs": [
        {
          "output_type": "execute_result",
          "data": {
            "text/plain": [
              "PERSONID       0\n",
              "DIABETE3       0\n",
              "NUMADULT    1657\n",
              "CHILDREN       0\n",
              "WEIGHT2        0\n",
              "DRVISITS    1369\n",
              "_RACE          0\n",
              "MSCODE      1710\n",
              "FLUSHOT6       0\n",
              "EMPLOY1        0\n",
              "SEX            0\n",
              "MARITAL        0\n",
              "CVDCRHD4       0\n",
              "HLTHCVR1    1596\n",
              "CHCKIDNY       0\n",
              "USEEQUIP       0\n",
              "ADDEPEV2       0\n",
              "RENTHOM1       0\n",
              "EXERANY2       0\n",
              "BLIND          0\n",
              "DECIDE         0\n",
              "HLTHPLN1       0\n",
              "_STATE         0\n",
              "ASTHMA3        0\n",
              "GENHLTH        0\n",
              "_AGEG5YR       0\n",
              "_BMI5CAT       0\n",
              "CHECKUP1       0\n",
              "INCOME2        0\n",
              "_EDUCAG        0\n",
              "SLEPTIM1       0\n",
              "MENTHLTH       0\n",
              "_SMOKER3       0\n",
              "dtype: int64"
            ]
          },
          "metadata": {},
          "execution_count": 39
        }
      ]
    },
    {
      "cell_type": "markdown",
      "source": [
        "#### **Variable:** `'DRVISITS'`"
      ],
      "metadata": {
        "id": "81-6vrwEwhMN"
      }
    },
    {
      "cell_type": "markdown",
      "source": [
        "**Numeric variable**\n",
        "\n",
        "\"How many times have you been to a doctor, nurse, or other health professional in the past 12 months?\"\n",
        "\n",
        "**Possible responses:**\n",
        "- 1 - 76 - Number of times\n",
        "- 88 - None\n",
        "- 77 - Dont know/Not Sure"
      ],
      "metadata": {
        "id": "sQqCBfbOwwyC"
      }
    },
    {
      "cell_type": "code",
      "source": [
        "# DRVISITS counts\n",
        "for i in set(df[\"DRVISITS\"]):\n",
        "  if i >= 1.0:\n",
        "    num = len(df[df[\"DRVISITS\"] == i])\n",
        "    print(f\"The number of people who answered {i} for 'DRVISITS' is {num}.\")\n",
        "  else:\n",
        "    continue"
      ],
      "metadata": {
        "colab": {
          "base_uri": "https://localhost:8080/"
        },
        "id": "4CXo1uBAGdPP",
        "outputId": "7d0b34f0-30b0-44d8-8ea2-40b35c0bb201"
      },
      "execution_count": null,
      "outputs": [
        {
          "output_type": "stream",
          "name": "stdout",
          "text": [
            "The number of people who answered 1.0 for 'DRVISITS' is 533.\n",
            "The number of people who answered 2.0 for 'DRVISITS' is 566.\n",
            "The number of people who answered 3.0 for 'DRVISITS' is 416.\n",
            "The number of people who answered 4.0 for 'DRVISITS' is 382.\n",
            "The number of people who answered 5.0 for 'DRVISITS' is 193.\n",
            "The number of people who answered 6.0 for 'DRVISITS' is 241.\n",
            "The number of people who answered 7.0 for 'DRVISITS' is 60.\n",
            "The number of people who answered 8.0 for 'DRVISITS' is 82.\n",
            "The number of people who answered 9.0 for 'DRVISITS' is 18.\n",
            "The number of people who answered 10.0 for 'DRVISITS' is 109.\n",
            "The number of people who answered 11.0 for 'DRVISITS' is 3.\n",
            "The number of people who answered 12.0 for 'DRVISITS' is 116.\n",
            "The number of people who answered 13.0 for 'DRVISITS' is 6.\n",
            "The number of people who answered 14.0 for 'DRVISITS' is 15.\n",
            "The number of people who answered 15.0 for 'DRVISITS' is 44.\n",
            "The number of people who answered 16.0 for 'DRVISITS' is 7.\n",
            "The number of people who answered 17.0 for 'DRVISITS' is 4.\n",
            "The number of people who answered 18.0 for 'DRVISITS' is 7.\n",
            "The number of people who answered 19.0 for 'DRVISITS' is 2.\n",
            "The number of people who answered 20.0 for 'DRVISITS' is 53.\n",
            "The number of people who answered 21.0 for 'DRVISITS' is 1.\n",
            "The number of people who answered 22.0 for 'DRVISITS' is 1.\n",
            "The number of people who answered 23.0 for 'DRVISITS' is 1.\n",
            "The number of people who answered 24.0 for 'DRVISITS' is 12.\n",
            "The number of people who answered 25.0 for 'DRVISITS' is 13.\n",
            "The number of people who answered 26.0 for 'DRVISITS' is 1.\n",
            "The number of people who answered 30.0 for 'DRVISITS' is 19.\n",
            "The number of people who answered 35.0 for 'DRVISITS' is 1.\n",
            "The number of people who answered 36.0 for 'DRVISITS' is 5.\n",
            "The number of people who answered 40.0 for 'DRVISITS' is 16.\n",
            "The number of people who answered 45.0 for 'DRVISITS' is 2.\n",
            "The number of people who answered 48.0 for 'DRVISITS' is 3.\n",
            "The number of people who answered 50.0 for 'DRVISITS' is 15.\n",
            "The number of people who answered 52.0 for 'DRVISITS' is 2.\n",
            "The number of people who answered 55.0 for 'DRVISITS' is 1.\n",
            "The number of people who answered 56.0 for 'DRVISITS' is 1.\n",
            "The number of people who answered 60.0 for 'DRVISITS' is 3.\n",
            "The number of people who answered 62.0 for 'DRVISITS' is 1.\n",
            "The number of people who answered 63.0 for 'DRVISITS' is 1.\n",
            "The number of people who answered 65.0 for 'DRVISITS' is 1.\n",
            "The number of people who answered 70.0 for 'DRVISITS' is 2.\n",
            "The number of people who answered 72.0 for 'DRVISITS' is 1.\n",
            "The number of people who answered 75.0 for 'DRVISITS' is 1.\n",
            "The number of people who answered 76.0 for 'DRVISITS' is 6.\n",
            "The number of people who answered 77.0 for 'DRVISITS' is 87.\n",
            "The number of people who answered 88.0 for 'DRVISITS' is 324.\n",
            "The number of people who answered 99.0 for 'DRVISITS' is 5.\n"
          ]
        }
      ]
    },
    {
      "cell_type": "markdown",
      "source": [
        "With so many missing entries (1369) it might not be the best idea to try to fill the missing data.  Let's take a quick look at the current significance of this variable before we decide.  "
      ],
      "metadata": {
        "id": "VOO-rX6LHNSd"
      }
    },
    {
      "cell_type": "code",
      "source": [
        "# correlation values\n",
        "df.corr()['DIABETE3'].sort_values()"
      ],
      "metadata": {
        "colab": {
          "base_uri": "https://localhost:8080/"
        },
        "id": "NRBL5Zj0KtvV",
        "outputId": "e18551cf-b38a-4690-d2bd-88c0a0d2b8f6"
      },
      "execution_count": null,
      "outputs": [
        {
          "output_type": "execute_result",
          "data": {
            "text/plain": [
              "GENHLTH    -0.265577\n",
              "EMPLOY1    -0.195409\n",
              "_AGEG5YR   -0.192142\n",
              "_BMI5CAT   -0.180517\n",
              "CHILDREN   -0.132449\n",
              "EXERANY2   -0.088540\n",
              "MENTHLTH   -0.031584\n",
              "_RACE      -0.027696\n",
              "SLEPTIM1   -0.017301\n",
              "MSCODE      0.001479\n",
              "WEIGHT2     0.002188\n",
              "_SMOKER3    0.002457\n",
              "_STATE      0.004273\n",
              "PERSONID    0.006757\n",
              "INCOME2     0.006873\n",
              "MARITAL     0.010688\n",
              "HLTHCVR1    0.010691\n",
              "RENTHOM1    0.014747\n",
              "SEX         0.017426\n",
              "HLTHPLN1    0.022675\n",
              "BLIND       0.025660\n",
              "ASTHMA3     0.028947\n",
              "DRVISITS    0.032837\n",
              "CHCKIDNY    0.034055\n",
              "DECIDE      0.037337\n",
              "FLUSHOT6    0.038575\n",
              "CVDCRHD4    0.040371\n",
              "ADDEPEV2    0.063550\n",
              "NUMADULT    0.066261\n",
              "_EDUCAG     0.070386\n",
              "CHECKUP1    0.089349\n",
              "USEEQUIP    0.125620\n",
              "DIABETE3    1.000000\n",
              "Name: DIABETE3, dtype: float64"
            ]
          },
          "metadata": {},
          "execution_count": 41
        }
      ]
    },
    {
      "cell_type": "markdown",
      "source": [
        "**Dump the column rationale**\n",
        "\n",
        "Unless we are going to use a model that is robust against missing values, we should dump this column.  With a correlation to the `'DIABETE3'` variable of just `0.032837`, there's not much potential to adding a bunch of extrapolated data to this one column.  \n",
        "\n",
        "We will revisit the idea of dropping this column when we chose our model.  "
      ],
      "metadata": {
        "id": "k2mRlabVLNpO"
      }
    },
    {
      "cell_type": "markdown",
      "source": [
        "#### **Variable:** `'HLTHCVR1'`"
      ],
      "metadata": {
        "id": "Itc8Jupfwzd0"
      }
    },
    {
      "cell_type": "markdown",
      "source": [
        "**Categorical variable**\n",
        "\n",
        "\"What is the primary source of your health care coverage? Is it…\"\n",
        "\n",
        "**Possible responses:**\n",
        "- 1 - A plan purchased through an employer or union -\n",
        "Notes: includes plans purchased through another person's employer\n",
        "- 2 - A plan that you or another family member buys on your own\n",
        "- 3 - Medicare\n",
        "- 4 - Medicaid or other state program\n",
        "- 5 - TRICARE (formerly CHAMPUS), VA, or Military\n",
        "- 6 - Alaska Native, Indian Health Service, Tribal Health Services\n",
        "- 7 - Some other source\n",
        "- 8 - None (no coverage)\n",
        "- 77 - Don't know/Not Sure\n",
        "- 99 - Refused"
      ],
      "metadata": {
        "id": "Yi45Hmcxw-5u"
      }
    },
    {
      "cell_type": "code",
      "source": [
        "# HLTHCVR1 counts\n",
        "for i in set(df[\"HLTHCVR1\"]):\n",
        "  if i >= 1.0:\n",
        "    num = len(df[df[\"HLTHCVR1\"] == i])\n",
        "    print(f\"The number of people who answered {i} for 'HLTHCVR1' is {num}.\")\n",
        "  else:\n",
        "    continue"
      ],
      "metadata": {
        "colab": {
          "base_uri": "https://localhost:8080/"
        },
        "id": "lOBvKQnyN5_I",
        "outputId": "bdbd9f4b-0df0-401b-b2b6-2fc3f088dbd7"
      },
      "execution_count": null,
      "outputs": [
        {
          "output_type": "stream",
          "name": "stdout",
          "text": [
            "The number of people who answered 1.0 for 'HLTHCVR1' is 1451.\n",
            "The number of people who answered 2.0 for 'HLTHCVR1' is 328.\n",
            "The number of people who answered 3.0 for 'HLTHCVR1' is 925.\n",
            "The number of people who answered 4.0 for 'HLTHCVR1' is 213.\n",
            "The number of people who answered 5.0 for 'HLTHCVR1' is 90.\n",
            "The number of people who answered 6.0 for 'HLTHCVR1' is 8.\n",
            "The number of people who answered 7.0 for 'HLTHCVR1' is 79.\n",
            "The number of people who answered 8.0 for 'HLTHCVR1' is 9.\n",
            "The number of people who answered 77.0 for 'HLTHCVR1' is 40.\n",
            "The number of people who answered 99.0 for 'HLTHCVR1' is 13.\n"
          ]
        }
      ]
    },
    {
      "cell_type": "markdown",
      "source": [
        "**Dump the column rationale**\n",
        "\n",
        "We are missing 1596 entries for `'HLTHCVR1'`.\n",
        "\n",
        "Unless we are going to use a model that is robust against missing values, we should dump this column.  With a correlation to the `'DIABETE3'` variable of just `0.010691` (as seen in the above `'DRVISITS'` section), there's not much potential in adding a bunch of extrapolated data to this one column.  \n",
        "\n",
        "Additionally in this case, `'HLTHPLN1'` is a very similar yes/no variable that probably captures at least some of the effect that `'HLTHCVR1'` captures.\n",
        "\n",
        "We will revisit the idea of dropping this column when we chose our model.  "
      ],
      "metadata": {
        "id": "c2NqE5fOOo1p"
      }
    },
    {
      "cell_type": "markdown",
      "source": [
        "#### **Variable:** `'MSCODE'`"
      ],
      "metadata": {
        "id": "qyrygU1lxEEN"
      }
    },
    {
      "cell_type": "markdown",
      "source": [
        "**Categorical variable**\n",
        "\n",
        "\"Metropolitan Status Code\"\n",
        "\n",
        "**Possible responses:**\n",
        "- 1 - In the center city of an MSA\n",
        "- 2 - Outside the center city of an MSA but inside the county containing the center city\n",
        "- 3 - Inside a suburban county of the MSA\n",
        "- 5 - Not in an MSA"
      ],
      "metadata": {
        "id": "5bVGxMjwxIar"
      }
    },
    {
      "cell_type": "code",
      "source": [
        "# MSCODE counts\n",
        "for i in set(df[\"MSCODE\"]):\n",
        "  if i >= 1.0:\n",
        "    num = len(df[df[\"MSCODE\"] == i])\n",
        "    print(f\"The number of people who answered {i} for 'MSCODE' is {num}.\")\n",
        "  else:\n",
        "    continue"
      ],
      "metadata": {
        "colab": {
          "base_uri": "https://localhost:8080/"
        },
        "id": "0ObF8fCuQazU",
        "outputId": "1e02c12d-434c-48e8-a706-5ebbb1465bdd"
      },
      "execution_count": null,
      "outputs": [
        {
          "output_type": "stream",
          "name": "stdout",
          "text": [
            "The number of people who answered 1.0 for 'MSCODE' is 989.\n",
            "The number of people who answered 2.0 for 'MSCODE' is 520.\n",
            "The number of people who answered 3.0 for 'MSCODE' is 471.\n",
            "The number of people who answered 5.0 for 'MSCODE' is 1062.\n"
          ]
        }
      ]
    },
    {
      "cell_type": "markdown",
      "source": [
        "**Dump the column rationale**\n",
        "\n",
        "We are missing 1710 entries for `'MSCODE'`.\n",
        "\n",
        "Unless we are going to use a model that is robust against missing values, we should dump this column.  With a correlation to the `'DIABETE3'` variable of just `0.001479` (as seen in the `'DRVISITS'` section), there's not much potential in adding a bunch of extrapolated data to this one column.  \n",
        "\n",
        "We will revisit the idea of dropping this column when we chose our model."
      ],
      "metadata": {
        "id": "8lFfhjYlQ5Eq"
      }
    },
    {
      "cell_type": "markdown",
      "source": [
        "#### **Variable:** `'NUMADULT'`"
      ],
      "metadata": {
        "id": "5S-pMIIenY2Q"
      }
    },
    {
      "cell_type": "markdown",
      "source": [
        "**Numeric variable**\n",
        "\n",
        "\"Number of Adults in Household\"\n",
        "\n",
        "**Variable Responses:**\n",
        "\n",
        "- 1 to 99 - Number of adults in the household"
      ],
      "metadata": {
        "id": "Sx3TGA72n5PD"
      }
    },
    {
      "cell_type": "code",
      "source": [
        "# NUMADULT counts\n",
        "for i in set(df[\"NUMADULT\"]):\n",
        "  if i >= 1.0:\n",
        "    num = len(df[df[\"NUMADULT\"] == i])\n",
        "    print(f\"The number of people who answered {i} for 'NUMADULT' is {num}.\")\n",
        "  else:\n",
        "    continue"
      ],
      "metadata": {
        "colab": {
          "base_uri": "https://localhost:8080/"
        },
        "id": "8qxGx_MToc9m",
        "outputId": "d9b3c107-1ae2-4b7a-f6aa-33ce7766f11f"
      },
      "execution_count": null,
      "outputs": [
        {
          "output_type": "stream",
          "name": "stdout",
          "text": [
            "The number of people who answered 1.0 for 'NUMADULT' is 1201.\n",
            "The number of people who answered 2.0 for 'NUMADULT' is 1648.\n",
            "The number of people who answered 3.0 for 'NUMADULT' is 264.\n",
            "The number of people who answered 4.0 for 'NUMADULT' is 94.\n",
            "The number of people who answered 5.0 for 'NUMADULT' is 21.\n",
            "The number of people who answered 7.0 for 'NUMADULT' is 2.\n",
            "The number of people who answered 6.0 for 'NUMADULT' is 6.\n"
          ]
        }
      ]
    },
    {
      "cell_type": "markdown",
      "source": [
        "**Dump the column rationale**\n",
        "\n",
        "We are missing 1657 entries for `'NUMADULT'`.\n",
        "\n",
        "Unless we are going to use a model that is robust against missing values, we should dump this column. With a correlation to the `'DIABETE3'` variable of just `0.066261` (as seen in the `'DRVISITS'` section), there's not much potential to adding a bunch of extrapolated data to this one column.\n",
        "\n",
        "We will revisit the idea of dropping this column when we chose our model.\n"
      ],
      "metadata": {
        "id": "DzX_lemwSZU-"
      }
    },
    {
      "cell_type": "markdown",
      "source": [
        "#### Saving a copy of our trimmed down DataFrame"
      ],
      "metadata": {
        "id": "yzcRY50wUiPs"
      }
    },
    {
      "cell_type": "code",
      "source": [
        "# Save the complete DataFrame to a new CSV file for easy access henceforth\n",
        "df.to_csv(\"drive/My Drive/Diabetes Risk Factors/trimmed_diabetes_data.csv\", index=False)"
      ],
      "metadata": {
        "id": "-50T_oKtUtI4"
      },
      "execution_count": null,
      "outputs": []
    },
    {
      "cell_type": "markdown",
      "source": [
        "### Rescaling/Adjusting Variables"
      ],
      "metadata": {
        "id": "LkmLhPe2TeMu"
      }
    },
    {
      "cell_type": "markdown",
      "source": [
        "In the interest of time and space, we are only going to mention those variables we intend to adjust and a brief description of why."
      ],
      "metadata": {
        "id": "TfIiNvARTukf"
      }
    },
    {
      "cell_type": "code",
      "source": [
        "# Import tools into Colab\n",
        "import pandas as pd\n",
        "import seaborn as sns\n",
        "import numpy as np\n",
        "from matplotlib import pyplot as plt\n",
        "\n",
        "# Read the \"trimmed_diabetes_data.csv\" to a working DataFrame and verify it\n",
        "df = pd.read_csv(\"drive/My Drive/Diabetes Risk Factors/trimmed_diabetes_data.csv\")\n",
        "\n",
        "print(df.info())"
      ],
      "metadata": {
        "colab": {
          "base_uri": "https://localhost:8080/"
        },
        "id": "X2pgWQ1nWAXU",
        "outputId": "3d3bcf05-e5a7-4846-be67-e1c609a94b6e"
      },
      "execution_count": null,
      "outputs": [
        {
          "output_type": "stream",
          "name": "stdout",
          "text": [
            "<class 'pandas.core.frame.DataFrame'>\n",
            "RangeIndex: 4752 entries, 0 to 4751\n",
            "Data columns (total 33 columns):\n",
            " #   Column    Non-Null Count  Dtype  \n",
            "---  ------    --------------  -----  \n",
            " 0   PERSONID  4752 non-null   int64  \n",
            " 1   DIABETE3  4752 non-null   float64\n",
            " 2   NUMADULT  3095 non-null   float64\n",
            " 3   CHILDREN  4752 non-null   float64\n",
            " 4   WEIGHT2   4752 non-null   float64\n",
            " 5   DRVISITS  3383 non-null   float64\n",
            " 6   _RACE     4752 non-null   float64\n",
            " 7   MSCODE    3042 non-null   float64\n",
            " 8   FLUSHOT6  4752 non-null   float64\n",
            " 9   EMPLOY1   4752 non-null   float64\n",
            " 10  SEX       4752 non-null   float64\n",
            " 11  MARITAL   4752 non-null   float64\n",
            " 12  CVDCRHD4  4752 non-null   float64\n",
            " 13  HLTHCVR1  3156 non-null   float64\n",
            " 14  CHCKIDNY  4752 non-null   float64\n",
            " 15  USEEQUIP  4752 non-null   float64\n",
            " 16  ADDEPEV2  4752 non-null   float64\n",
            " 17  RENTHOM1  4752 non-null   float64\n",
            " 18  EXERANY2  4752 non-null   float64\n",
            " 19  BLIND     4752 non-null   float64\n",
            " 20  DECIDE    4752 non-null   float64\n",
            " 21  HLTHPLN1  4752 non-null   float64\n",
            " 22  _STATE    4752 non-null   float64\n",
            " 23  ASTHMA3   4752 non-null   float64\n",
            " 24  GENHLTH   4752 non-null   float64\n",
            " 25  _AGEG5YR  4752 non-null   float64\n",
            " 26  _BMI5CAT  4752 non-null   float64\n",
            " 27  CHECKUP1  4752 non-null   float64\n",
            " 28  INCOME2   4752 non-null   float64\n",
            " 29  _EDUCAG   4752 non-null   float64\n",
            " 30  SLEPTIM1  4752 non-null   float64\n",
            " 31  MENTHLTH  4752 non-null   float64\n",
            " 32  _SMOKER3  4752 non-null   float64\n",
            "dtypes: float64(32), int64(1)\n",
            "memory usage: 1.2 MB\n",
            "None\n"
          ]
        }
      ]
    },
    {
      "cell_type": "markdown",
      "source": [
        "#### **Variable:** `'CHILDREN'`"
      ],
      "metadata": {
        "id": "5AG3rqeia3MU"
      }
    },
    {
      "cell_type": "markdown",
      "source": [
        "**Numeric variable**\n",
        "\n",
        "\"How many children less than 18 years of age live in your household?\"\n",
        "\n",
        "**Possible responses:**\n",
        "- 1 to 87 - \"Number of children (Notes: _ _ = Number of children)\"\n",
        "- 88 - \"None\"\n",
        "- 99 - \"Refused\"\n",
        "\n",
        "We are going to convert all `'88.0'` entries into `'0.0'` entries.\n",
        "\n",
        "**New responses:**\n",
        "- 0 to 87 - \"Number of children (Notes: _ _ = Number of children)\"\n",
        "- 99 - \"Refused\""
      ],
      "metadata": {
        "id": "fXwVkOGebE5B"
      }
    },
    {
      "cell_type": "code",
      "source": [
        "# CHILDREN counts\n",
        "for i in set(df[\"CHILDREN\"]):\n",
        "  if i >= 0.0:\n",
        "    num = len(df[df[\"CHILDREN\"] == i])\n",
        "    print(f\"The number of people who answered {i} for 'CHILDREN' is {num}.\")\n",
        "  else:\n",
        "    continue"
      ],
      "metadata": {
        "colab": {
          "base_uri": "https://localhost:8080/"
        },
        "id": "QF83zKsnxxq1",
        "outputId": "567fbf1d-51ad-43b6-f420-d0192ac81096"
      },
      "execution_count": null,
      "outputs": [
        {
          "output_type": "stream",
          "name": "stdout",
          "text": [
            "The number of people who answered 1.0 for 'CHILDREN' is 505.\n",
            "The number of people who answered 2.0 for 'CHILDREN' is 452.\n",
            "The number of people who answered 3.0 for 'CHILDREN' is 177.\n",
            "The number of people who answered 4.0 for 'CHILDREN' is 60.\n",
            "The number of people who answered 99.0 for 'CHILDREN' is 18.\n",
            "The number of people who answered 5.0 for 'CHILDREN' is 21.\n",
            "The number of people who answered 6.0 for 'CHILDREN' is 15.\n",
            "The number of people who answered 7.0 for 'CHILDREN' is 3.\n",
            "The number of people who answered 8.0 for 'CHILDREN' is 1.\n",
            "The number of people who answered 88.0 for 'CHILDREN' is 3500.\n"
          ]
        }
      ]
    },
    {
      "cell_type": "code",
      "source": [
        "# transform the CHILDREN variable\n",
        "li1 = df[\"CHILDREN\"]\n",
        "li2 = []\n",
        "\n",
        "for i in range(len(li1)):\n",
        "  if li1[i] > 80 and li1[i] < 90:\n",
        "    li2.append(0.0)\n",
        "  else:\n",
        "    li2.append(li1[i])\n",
        "\n",
        "df.drop(\"CHILDREN\", axis=1, inplace=True)\n",
        "df[\"CHILDREN\"] = li2"
      ],
      "metadata": {
        "id": "LRN3j8ZBdni1"
      },
      "execution_count": null,
      "outputs": []
    },
    {
      "cell_type": "code",
      "source": [
        "# CHILDREN counts\n",
        "for i in set(df[\"CHILDREN\"]):\n",
        "  if i >= 0.0:\n",
        "    num = len(df[df[\"CHILDREN\"] == i])\n",
        "    print(f\"The number of people who answered {i} for 'CHILDREN' is {num}.\")\n",
        "  else:\n",
        "    continue"
      ],
      "metadata": {
        "colab": {
          "base_uri": "https://localhost:8080/"
        },
        "id": "diMVawitx1oD",
        "outputId": "5de5d86b-f262-498e-dff5-e87ebc573897"
      },
      "execution_count": null,
      "outputs": [
        {
          "output_type": "stream",
          "name": "stdout",
          "text": [
            "The number of people who answered 0.0 for 'CHILDREN' is 3500.\n",
            "The number of people who answered 1.0 for 'CHILDREN' is 505.\n",
            "The number of people who answered 2.0 for 'CHILDREN' is 452.\n",
            "The number of people who answered 3.0 for 'CHILDREN' is 177.\n",
            "The number of people who answered 4.0 for 'CHILDREN' is 60.\n",
            "The number of people who answered 99.0 for 'CHILDREN' is 18.\n",
            "The number of people who answered 5.0 for 'CHILDREN' is 21.\n",
            "The number of people who answered 6.0 for 'CHILDREN' is 15.\n",
            "The number of people who answered 7.0 for 'CHILDREN' is 3.\n",
            "The number of people who answered 8.0 for 'CHILDREN' is 1.\n"
          ]
        }
      ]
    },
    {
      "cell_type": "markdown",
      "source": [
        "Looks good!"
      ],
      "metadata": {
        "id": "4Ay4_wrj17lF"
      }
    },
    {
      "cell_type": "markdown",
      "source": [
        "#### **Variable:** `'WEIGHT2'`"
      ],
      "metadata": {
        "id": "Da1d9rAqbX9c"
      }
    },
    {
      "cell_type": "markdown",
      "source": [
        "**Numeric variable**\n",
        "\n",
        "\"About how much do you weigh without shoes? (If respondent answers in metrics put a 9 in the first column)[Round fractions up.]\"\n",
        "\n",
        "**Possible Responses:**\n",
        "- 50 - 0999 - Weight (pounds)\n",
        "\n",
        "- 7777 - Don't know/Not sure\n",
        "\n",
        "- 9000 - 9998 - Weight (kilograms)\n",
        "Notes: The initial '9' indicates this was a metric value.\n",
        "\n",
        "- 9999 - Refused"
      ],
      "metadata": {
        "id": "GqoCtRl8bdzi"
      }
    },
    {
      "cell_type": "code",
      "source": [
        "# WEIGHT2 counts\n",
        "for i in set(df[\"WEIGHT2\"]):\n",
        "  if i >= 1.0:\n",
        "    num = len(df[df[\"WEIGHT2\"] == i])\n",
        "    print(f\"The number of people who answered {i} for 'WEIGHT2' is {num}.\")\n",
        "  else:\n",
        "    continue"
      ],
      "metadata": {
        "colab": {
          "base_uri": "https://localhost:8080/"
        },
        "id": "6bI5WRdefaoG",
        "outputId": "84f1cef7-abac-4cac-e152-5abd48361e25"
      },
      "execution_count": null,
      "outputs": [
        {
          "output_type": "stream",
          "name": "stdout",
          "text": [
            "The number of people who answered 580.0 for 'WEIGHT2' is 1.\n",
            "The number of people who answered 75.0 for 'WEIGHT2' is 1.\n",
            "The number of people who answered 84.0 for 'WEIGHT2' is 1.\n",
            "The number of people who answered 86.0 for 'WEIGHT2' is 1.\n",
            "The number of people who answered 87.0 for 'WEIGHT2' is 1.\n",
            "The number of people who answered 88.0 for 'WEIGHT2' is 1.\n",
            "The number of people who answered 89.0 for 'WEIGHT2' is 1.\n",
            "The number of people who answered 90.0 for 'WEIGHT2' is 2.\n",
            "The number of people who answered 92.0 for 'WEIGHT2' is 2.\n",
            "The number of people who answered 93.0 for 'WEIGHT2' is 3.\n",
            "The number of people who answered 94.0 for 'WEIGHT2' is 1.\n",
            "The number of people who answered 95.0 for 'WEIGHT2' is 1.\n",
            "The number of people who answered 96.0 for 'WEIGHT2' is 3.\n",
            "The number of people who answered 7777.0 for 'WEIGHT2' is 53.\n",
            "The number of people who answered 98.0 for 'WEIGHT2' is 1.\n",
            "The number of people who answered 99.0 for 'WEIGHT2' is 3.\n",
            "The number of people who answered 100.0 for 'WEIGHT2' is 22.\n",
            "The number of people who answered 101.0 for 'WEIGHT2' is 4.\n",
            "The number of people who answered 102.0 for 'WEIGHT2' is 3.\n",
            "The number of people who answered 103.0 for 'WEIGHT2' is 3.\n",
            "The number of people who answered 104.0 for 'WEIGHT2' is 5.\n",
            "The number of people who answered 105.0 for 'WEIGHT2' is 17.\n",
            "The number of people who answered 106.0 for 'WEIGHT2' is 3.\n",
            "The number of people who answered 107.0 for 'WEIGHT2' is 5.\n",
            "The number of people who answered 108.0 for 'WEIGHT2' is 10.\n",
            "The number of people who answered 109.0 for 'WEIGHT2' is 2.\n",
            "The number of people who answered 110.0 for 'WEIGHT2' is 43.\n",
            "The number of people who answered 111.0 for 'WEIGHT2' is 5.\n",
            "The number of people who answered 112.0 for 'WEIGHT2' is 11.\n",
            "The number of people who answered 113.0 for 'WEIGHT2' is 4.\n",
            "The number of people who answered 114.0 for 'WEIGHT2' is 8.\n",
            "The number of people who answered 115.0 for 'WEIGHT2' is 38.\n",
            "The number of people who answered 116.0 for 'WEIGHT2' is 5.\n",
            "The number of people who answered 117.0 for 'WEIGHT2' is 8.\n",
            "The number of people who answered 118.0 for 'WEIGHT2' is 10.\n",
            "The number of people who answered 119.0 for 'WEIGHT2' is 7.\n",
            "The number of people who answered 120.0 for 'WEIGHT2' is 78.\n",
            "The number of people who answered 121.0 for 'WEIGHT2' is 3.\n",
            "The number of people who answered 122.0 for 'WEIGHT2' is 20.\n",
            "The number of people who answered 123.0 for 'WEIGHT2' is 20.\n",
            "The number of people who answered 124.0 for 'WEIGHT2' is 16.\n",
            "The number of people who answered 125.0 for 'WEIGHT2' is 85.\n",
            "The number of people who answered 126.0 for 'WEIGHT2' is 15.\n",
            "The number of people who answered 127.0 for 'WEIGHT2' is 12.\n",
            "The number of people who answered 128.0 for 'WEIGHT2' is 18.\n",
            "The number of people who answered 129.0 for 'WEIGHT2' is 11.\n",
            "The number of people who answered 130.0 for 'WEIGHT2' is 130.\n",
            "The number of people who answered 131.0 for 'WEIGHT2' is 7.\n",
            "The number of people who answered 132.0 for 'WEIGHT2' is 24.\n",
            "The number of people who answered 133.0 for 'WEIGHT2' is 9.\n",
            "The number of people who answered 134.0 for 'WEIGHT2' is 15.\n",
            "The number of people who answered 135.0 for 'WEIGHT2' is 119.\n",
            "The number of people who answered 136.0 for 'WEIGHT2' is 8.\n",
            "The number of people who answered 137.0 for 'WEIGHT2' is 25.\n",
            "The number of people who answered 138.0 for 'WEIGHT2' is 40.\n",
            "The number of people who answered 139.0 for 'WEIGHT2' is 11.\n",
            "The number of people who answered 140.0 for 'WEIGHT2' is 144.\n",
            "The number of people who answered 141.0 for 'WEIGHT2' is 6.\n",
            "The number of people who answered 142.0 for 'WEIGHT2' is 28.\n",
            "The number of people who answered 143.0 for 'WEIGHT2' is 13.\n",
            "The number of people who answered 144.0 for 'WEIGHT2' is 12.\n",
            "The number of people who answered 145.0 for 'WEIGHT2' is 103.\n",
            "The number of people who answered 146.0 for 'WEIGHT2' is 7.\n",
            "The number of people who answered 147.0 for 'WEIGHT2' is 12.\n",
            "The number of people who answered 148.0 for 'WEIGHT2' is 23.\n",
            "The number of people who answered 149.0 for 'WEIGHT2' is 9.\n",
            "The number of people who answered 150.0 for 'WEIGHT2' is 201.\n",
            "The number of people who answered 151.0 for 'WEIGHT2' is 4.\n",
            "The number of people who answered 152.0 for 'WEIGHT2' is 20.\n",
            "The number of people who answered 153.0 for 'WEIGHT2' is 13.\n",
            "The number of people who answered 154.0 for 'WEIGHT2' is 12.\n",
            "The number of people who answered 155.0 for 'WEIGHT2' is 95.\n",
            "The number of people who answered 156.0 for 'WEIGHT2' is 14.\n",
            "The number of people who answered 157.0 for 'WEIGHT2' is 11.\n",
            "The number of people who answered 158.0 for 'WEIGHT2' is 28.\n",
            "The number of people who answered 159.0 for 'WEIGHT2' is 7.\n",
            "The number of people who answered 160.0 for 'WEIGHT2' is 213.\n",
            "The number of people who answered 161.0 for 'WEIGHT2' is 8.\n",
            "The number of people who answered 162.0 for 'WEIGHT2' is 29.\n",
            "The number of people who answered 163.0 for 'WEIGHT2' is 14.\n",
            "The number of people who answered 164.0 for 'WEIGHT2' is 16.\n",
            "The number of people who answered 165.0 for 'WEIGHT2' is 127.\n",
            "The number of people who answered 166.0 for 'WEIGHT2' is 7.\n",
            "The number of people who answered 167.0 for 'WEIGHT2' is 19.\n",
            "The number of people who answered 168.0 for 'WEIGHT2' is 25.\n",
            "The number of people who answered 169.0 for 'WEIGHT2' is 18.\n",
            "The number of people who answered 170.0 for 'WEIGHT2' is 184.\n",
            "The number of people who answered 171.0 for 'WEIGHT2' is 6.\n",
            "The number of people who answered 172.0 for 'WEIGHT2' is 26.\n",
            "The number of people who answered 173.0 for 'WEIGHT2' is 10.\n",
            "The number of people who answered 174.0 for 'WEIGHT2' is 5.\n",
            "The number of people who answered 175.0 for 'WEIGHT2' is 128.\n",
            "The number of people who answered 176.0 for 'WEIGHT2' is 10.\n",
            "The number of people who answered 177.0 for 'WEIGHT2' is 15.\n",
            "The number of people who answered 178.0 for 'WEIGHT2' is 22.\n",
            "The number of people who answered 179.0 for 'WEIGHT2' is 9.\n",
            "The number of people who answered 180.0 for 'WEIGHT2' is 191.\n",
            "The number of people who answered 181.0 for 'WEIGHT2' is 4.\n",
            "The number of people who answered 182.0 for 'WEIGHT2' is 17.\n",
            "The number of people who answered 183.0 for 'WEIGHT2' is 2.\n",
            "The number of people who answered 184.0 for 'WEIGHT2' is 11.\n",
            "The number of people who answered 185.0 for 'WEIGHT2' is 101.\n",
            "The number of people who answered 186.0 for 'WEIGHT2' is 11.\n",
            "The number of people who answered 187.0 for 'WEIGHT2' is 13.\n",
            "The number of people who answered 188.0 for 'WEIGHT2' is 13.\n",
            "The number of people who answered 189.0 for 'WEIGHT2' is 12.\n",
            "The number of people who answered 190.0 for 'WEIGHT2' is 172.\n",
            "The number of people who answered 191.0 for 'WEIGHT2' is 1.\n",
            "The number of people who answered 192.0 for 'WEIGHT2' is 19.\n",
            "The number of people who answered 193.0 for 'WEIGHT2' is 9.\n",
            "The number of people who answered 194.0 for 'WEIGHT2' is 12.\n",
            "The number of people who answered 195.0 for 'WEIGHT2' is 80.\n",
            "The number of people who answered 196.0 for 'WEIGHT2' is 15.\n",
            "The number of people who answered 197.0 for 'WEIGHT2' is 11.\n",
            "The number of people who answered 198.0 for 'WEIGHT2' is 25.\n",
            "The number of people who answered 199.0 for 'WEIGHT2' is 10.\n",
            "The number of people who answered 200.0 for 'WEIGHT2' is 224.\n",
            "The number of people who answered 201.0 for 'WEIGHT2' is 6.\n",
            "The number of people who answered 202.0 for 'WEIGHT2' is 8.\n",
            "The number of people who answered 203.0 for 'WEIGHT2' is 4.\n",
            "The number of people who answered 204.0 for 'WEIGHT2' is 7.\n",
            "The number of people who answered 205.0 for 'WEIGHT2' is 58.\n",
            "The number of people who answered 206.0 for 'WEIGHT2' is 8.\n",
            "The number of people who answered 207.0 for 'WEIGHT2' is 6.\n",
            "The number of people who answered 208.0 for 'WEIGHT2' is 10.\n",
            "The number of people who answered 209.0 for 'WEIGHT2' is 2.\n",
            "The number of people who answered 210.0 for 'WEIGHT2' is 110.\n",
            "The number of people who answered 211.0 for 'WEIGHT2' is 2.\n",
            "The number of people who answered 212.0 for 'WEIGHT2' is 10.\n",
            "The number of people who answered 213.0 for 'WEIGHT2' is 6.\n",
            "The number of people who answered 214.0 for 'WEIGHT2' is 3.\n",
            "The number of people who answered 215.0 for 'WEIGHT2' is 45.\n",
            "The number of people who answered 216.0 for 'WEIGHT2' is 4.\n",
            "The number of people who answered 217.0 for 'WEIGHT2' is 3.\n",
            "The number of people who answered 218.0 for 'WEIGHT2' is 10.\n",
            "The number of people who answered 219.0 for 'WEIGHT2' is 4.\n",
            "The number of people who answered 220.0 for 'WEIGHT2' is 129.\n",
            "The number of people who answered 221.0 for 'WEIGHT2' is 4.\n",
            "The number of people who answered 222.0 for 'WEIGHT2' is 7.\n",
            "The number of people who answered 223.0 for 'WEIGHT2' is 1.\n",
            "The number of people who answered 224.0 for 'WEIGHT2' is 2.\n",
            "The number of people who answered 225.0 for 'WEIGHT2' is 47.\n",
            "The number of people who answered 226.0 for 'WEIGHT2' is 7.\n",
            "The number of people who answered 227.0 for 'WEIGHT2' is 4.\n",
            "The number of people who answered 228.0 for 'WEIGHT2' is 7.\n",
            "The number of people who answered 229.0 for 'WEIGHT2' is 1.\n",
            "The number of people who answered 230.0 for 'WEIGHT2' is 79.\n",
            "The number of people who answered 231.0 for 'WEIGHT2' is 2.\n",
            "The number of people who answered 232.0 for 'WEIGHT2' is 5.\n",
            "The number of people who answered 233.0 for 'WEIGHT2' is 2.\n",
            "The number of people who answered 234.0 for 'WEIGHT2' is 3.\n",
            "The number of people who answered 235.0 for 'WEIGHT2' is 31.\n",
            "The number of people who answered 236.0 for 'WEIGHT2' is 3.\n",
            "The number of people who answered 237.0 for 'WEIGHT2' is 1.\n",
            "The number of people who answered 238.0 for 'WEIGHT2' is 2.\n",
            "The number of people who answered 239.0 for 'WEIGHT2' is 2.\n",
            "The number of people who answered 240.0 for 'WEIGHT2' is 61.\n",
            "The number of people who answered 241.0 for 'WEIGHT2' is 1.\n",
            "The number of people who answered 242.0 for 'WEIGHT2' is 3.\n",
            "The number of people who answered 243.0 for 'WEIGHT2' is 2.\n",
            "The number of people who answered 244.0 for 'WEIGHT2' is 1.\n",
            "The number of people who answered 245.0 for 'WEIGHT2' is 21.\n",
            "The number of people who answered 246.0 for 'WEIGHT2' is 2.\n",
            "The number of people who answered 247.0 for 'WEIGHT2' is 2.\n",
            "The number of people who answered 248.0 for 'WEIGHT2' is 4.\n",
            "The number of people who answered 249.0 for 'WEIGHT2' is 3.\n",
            "The number of people who answered 250.0 for 'WEIGHT2' is 61.\n",
            "The number of people who answered 252.0 for 'WEIGHT2' is 2.\n",
            "The number of people who answered 253.0 for 'WEIGHT2' is 1.\n",
            "The number of people who answered 255.0 for 'WEIGHT2' is 11.\n",
            "The number of people who answered 256.0 for 'WEIGHT2' is 3.\n",
            "The number of people who answered 258.0 for 'WEIGHT2' is 3.\n",
            "The number of people who answered 260.0 for 'WEIGHT2' is 35.\n",
            "The number of people who answered 262.0 for 'WEIGHT2' is 5.\n",
            "The number of people who answered 263.0 for 'WEIGHT2' is 2.\n",
            "The number of people who answered 265.0 for 'WEIGHT2' is 13.\n",
            "The number of people who answered 267.0 for 'WEIGHT2' is 1.\n",
            "The number of people who answered 268.0 for 'WEIGHT2' is 2.\n",
            "The number of people who answered 270.0 for 'WEIGHT2' is 17.\n",
            "The number of people who answered 9999.0 for 'WEIGHT2' is 131.\n",
            "The number of people who answered 272.0 for 'WEIGHT2' is 1.\n",
            "The number of people who answered 275.0 for 'WEIGHT2' is 10.\n",
            "The number of people who answered 276.0 for 'WEIGHT2' is 3.\n",
            "The number of people who answered 278.0 for 'WEIGHT2' is 1.\n",
            "The number of people who answered 279.0 for 'WEIGHT2' is 1.\n",
            "The number of people who answered 280.0 for 'WEIGHT2' is 24.\n",
            "The number of people who answered 282.0 for 'WEIGHT2' is 1.\n",
            "The number of people who answered 283.0 for 'WEIGHT2' is 2.\n",
            "The number of people who answered 285.0 for 'WEIGHT2' is 10.\n",
            "The number of people who answered 286.0 for 'WEIGHT2' is 1.\n",
            "The number of people who answered 287.0 for 'WEIGHT2' is 1.\n",
            "The number of people who answered 290.0 for 'WEIGHT2' is 18.\n",
            "The number of people who answered 291.0 for 'WEIGHT2' is 1.\n",
            "The number of people who answered 292.0 for 'WEIGHT2' is 2.\n",
            "The number of people who answered 295.0 for 'WEIGHT2' is 5.\n",
            "The number of people who answered 297.0 for 'WEIGHT2' is 3.\n",
            "The number of people who answered 298.0 for 'WEIGHT2' is 1.\n",
            "The number of people who answered 299.0 for 'WEIGHT2' is 2.\n",
            "The number of people who answered 300.0 for 'WEIGHT2' is 25.\n",
            "The number of people who answered 302.0 for 'WEIGHT2' is 1.\n",
            "The number of people who answered 303.0 for 'WEIGHT2' is 2.\n",
            "The number of people who answered 305.0 for 'WEIGHT2' is 2.\n",
            "The number of people who answered 310.0 for 'WEIGHT2' is 2.\n",
            "The number of people who answered 311.0 for 'WEIGHT2' is 1.\n",
            "The number of people who answered 317.0 for 'WEIGHT2' is 1.\n",
            "The number of people who answered 320.0 for 'WEIGHT2' is 5.\n",
            "The number of people who answered 325.0 for 'WEIGHT2' is 2.\n",
            "The number of people who answered 330.0 for 'WEIGHT2' is 3.\n",
            "The number of people who answered 333.0 for 'WEIGHT2' is 1.\n",
            "The number of people who answered 335.0 for 'WEIGHT2' is 1.\n",
            "The number of people who answered 339.0 for 'WEIGHT2' is 1.\n",
            "The number of people who answered 340.0 for 'WEIGHT2' is 5.\n",
            "The number of people who answered 350.0 for 'WEIGHT2' is 4.\n",
            "The number of people who answered 9064.0 for 'WEIGHT2' is 1.\n",
            "The number of people who answered 9067.0 for 'WEIGHT2' is 1.\n",
            "The number of people who answered 9072.0 for 'WEIGHT2' is 1.\n",
            "The number of people who answered 369.0 for 'WEIGHT2' is 1.\n",
            "The number of people who answered 375.0 for 'WEIGHT2' is 1.\n",
            "The number of people who answered 380.0 for 'WEIGHT2' is 1.\n",
            "The number of people who answered 9085.0 for 'WEIGHT2' is 1.\n",
            "The number of people who answered 388.0 for 'WEIGHT2' is 1.\n",
            "The number of people who answered 390.0 for 'WEIGHT2' is 1.\n",
            "The number of people who answered 400.0 for 'WEIGHT2' is 1.\n",
            "The number of people who answered 407.0 for 'WEIGHT2' is 1.\n",
            "The number of people who answered 9120.0 for 'WEIGHT2' is 1.\n",
            "The number of people who answered 420.0 for 'WEIGHT2' is 1.\n",
            "The number of people who answered 9140.0 for 'WEIGHT2' is 1.\n",
            "The number of people who answered 450.0 for 'WEIGHT2' is 1.\n",
            "The number of people who answered 464.0 for 'WEIGHT2' is 1.\n"
          ]
        }
      ]
    },
    {
      "cell_type": "markdown",
      "source": [
        "The `'WEIGHT2'` variable is a mess, with some weights being in kilos, some in pounds, and a strong tendency to fall on a multiple of five.  We are going to turn it all into pounds, then put it into bins of size 10 until 300lbs, size 20 until 400, then size 50 until 500.  The rescaled variable will be laid out as so.  \n",
        "\n",
        "**Possible Responses:**\n",
        "- 1 - 70 <= Weight (lbs) < 80\n",
        "- 2 - 80 <= Weight (lbs) < 90\n",
        "- 3 - 90 <= Weight (lbs) < 100\n",
        "- 4 - 100 <= Weight (lbs) < 110\n",
        "- 5 - 110 <= Weight (lbs) < 120\n",
        "- 6 - 120 <= Weight (lbs) < 130\n",
        "- 7 - 130 <= Weight (lbs) < 140\n",
        "- 8 - 140 <= Weight (lbs) < 150\n",
        "- 9 - 150 <= Weight (lbs) < 160\n",
        "- 10 - 160 <= Weight (lbs) < 170\n",
        "- 11 - 170 <= Weight (lbs) < 180\n",
        "- 12 - 180 <= Weight (lbs) < 190\n",
        "- 13 - 190 <= Weight (lbs) < 200\n",
        "- 14 - 200 <= Weight (lbs) < 210\n",
        "- 15 - 210 <= Weight (lbs) < 220\n",
        "- 16 - 220 <= Weight (lbs) < 230\n",
        "- 17 - 230 <= Weight (lbs) < 240\n",
        "- 18 - 240 <= Weight (lbs) < 250\n",
        "- 19 - 250 <= Weight (lbs) < 260\n",
        "- 20 - 260 <= Weight (lbs) < 270\n",
        "- 21 - 270 <= Weight (lbs) < 280\n",
        "- 22 - 280 <= Weight (lbs) < 290\n",
        "- 23 - 290 <= Weight (lbs) < 300\n",
        "- 24 - 300 <= Weight (lbs) < 320\n",
        "- 25 - 330 <= Weight (lbs) < 340\n",
        "- 26 - 340 <= Weight (lbs) < 360\n",
        "- 27 - 360 <= Weight (lbs) < 380\n",
        "- 28 - 380 <= Weight (lbs) < 400\n",
        "- 29 - 400 <= Weight (lbs) < 450\n",
        "- 30 - 450 <= Weight (lbs) < 500\n",
        "- 31 - Weight (lbs) >= 500\n",
        "- 50 - Don't know/Not sure\n",
        "- 55 - Refused"
      ],
      "metadata": {
        "id": "7eaCNXLXgOxq"
      }
    },
    {
      "cell_type": "markdown",
      "source": [
        "**Kilos to Pounds**"
      ],
      "metadata": {
        "id": "thlCzBhrogqU"
      }
    },
    {
      "cell_type": "code",
      "source": [
        "import math\n",
        "\n",
        "# transform the WEIGHT2 variable\n",
        "li1 = df[\"WEIGHT2\"]\n",
        "li2 = []\n",
        "\n",
        "for i in range(len(li1)):\n",
        "  if li1[i] >= 9000 and li1[i] <= 9998:\n",
        "    rounded = math.ceil(float(str(li1[i])[1:])*2.204623)\n",
        "    li2.append(float(rounded))\n",
        "  else:\n",
        "    li2.append(li1[i])\n",
        "\n",
        "df.drop(\"WEIGHT2\", axis=1, inplace=True)\n",
        "df[\"WEIGHT2\"] = li2"
      ],
      "metadata": {
        "id": "UDSEWCq7gLr7"
      },
      "execution_count": null,
      "outputs": []
    },
    {
      "cell_type": "code",
      "source": [
        "# WEIGHT2 counts\n",
        "for i in set(df[\"WEIGHT2\"]):\n",
        "  if i >= 1.0:\n",
        "    num = len(df[df[\"WEIGHT2\"] == i])\n",
        "    print(f\"The number of people who answered {i} for 'WEIGHT2' is {num}.\")\n",
        "  else:\n",
        "    continue"
      ],
      "metadata": {
        "colab": {
          "base_uri": "https://localhost:8080/"
        },
        "id": "XnRaRGdg2XjX",
        "outputId": "bd22aee3-4e2a-4fb3-f58c-f5b37e862cc7"
      },
      "execution_count": null,
      "outputs": [
        {
          "output_type": "stream",
          "name": "stdout",
          "text": [
            "The number of people who answered 580.0 for 'WEIGHT2' is 1.\n",
            "The number of people who answered 75.0 for 'WEIGHT2' is 1.\n",
            "The number of people who answered 84.0 for 'WEIGHT2' is 1.\n",
            "The number of people who answered 86.0 for 'WEIGHT2' is 1.\n",
            "The number of people who answered 87.0 for 'WEIGHT2' is 1.\n",
            "The number of people who answered 88.0 for 'WEIGHT2' is 1.\n",
            "The number of people who answered 89.0 for 'WEIGHT2' is 1.\n",
            "The number of people who answered 90.0 for 'WEIGHT2' is 2.\n",
            "The number of people who answered 92.0 for 'WEIGHT2' is 2.\n",
            "The number of people who answered 93.0 for 'WEIGHT2' is 3.\n",
            "The number of people who answered 94.0 for 'WEIGHT2' is 1.\n",
            "The number of people who answered 95.0 for 'WEIGHT2' is 1.\n",
            "The number of people who answered 96.0 for 'WEIGHT2' is 3.\n",
            "The number of people who answered 7777.0 for 'WEIGHT2' is 53.\n",
            "The number of people who answered 98.0 for 'WEIGHT2' is 1.\n",
            "The number of people who answered 99.0 for 'WEIGHT2' is 3.\n",
            "The number of people who answered 100.0 for 'WEIGHT2' is 22.\n",
            "The number of people who answered 101.0 for 'WEIGHT2' is 4.\n",
            "The number of people who answered 102.0 for 'WEIGHT2' is 3.\n",
            "The number of people who answered 103.0 for 'WEIGHT2' is 3.\n",
            "The number of people who answered 104.0 for 'WEIGHT2' is 5.\n",
            "The number of people who answered 105.0 for 'WEIGHT2' is 17.\n",
            "The number of people who answered 106.0 for 'WEIGHT2' is 3.\n",
            "The number of people who answered 107.0 for 'WEIGHT2' is 5.\n",
            "The number of people who answered 108.0 for 'WEIGHT2' is 10.\n",
            "The number of people who answered 109.0 for 'WEIGHT2' is 2.\n",
            "The number of people who answered 110.0 for 'WEIGHT2' is 43.\n",
            "The number of people who answered 111.0 for 'WEIGHT2' is 5.\n",
            "The number of people who answered 112.0 for 'WEIGHT2' is 11.\n",
            "The number of people who answered 113.0 for 'WEIGHT2' is 4.\n",
            "The number of people who answered 114.0 for 'WEIGHT2' is 8.\n",
            "The number of people who answered 115.0 for 'WEIGHT2' is 38.\n",
            "The number of people who answered 116.0 for 'WEIGHT2' is 5.\n",
            "The number of people who answered 117.0 for 'WEIGHT2' is 8.\n",
            "The number of people who answered 118.0 for 'WEIGHT2' is 10.\n",
            "The number of people who answered 119.0 for 'WEIGHT2' is 7.\n",
            "The number of people who answered 120.0 for 'WEIGHT2' is 78.\n",
            "The number of people who answered 121.0 for 'WEIGHT2' is 3.\n",
            "The number of people who answered 122.0 for 'WEIGHT2' is 20.\n",
            "The number of people who answered 123.0 for 'WEIGHT2' is 20.\n",
            "The number of people who answered 124.0 for 'WEIGHT2' is 16.\n",
            "The number of people who answered 125.0 for 'WEIGHT2' is 85.\n",
            "The number of people who answered 126.0 for 'WEIGHT2' is 15.\n",
            "The number of people who answered 127.0 for 'WEIGHT2' is 12.\n",
            "The number of people who answered 128.0 for 'WEIGHT2' is 18.\n",
            "The number of people who answered 129.0 for 'WEIGHT2' is 11.\n",
            "The number of people who answered 130.0 for 'WEIGHT2' is 130.\n",
            "The number of people who answered 131.0 for 'WEIGHT2' is 7.\n",
            "The number of people who answered 132.0 for 'WEIGHT2' is 24.\n",
            "The number of people who answered 133.0 for 'WEIGHT2' is 9.\n",
            "The number of people who answered 134.0 for 'WEIGHT2' is 15.\n",
            "The number of people who answered 135.0 for 'WEIGHT2' is 119.\n",
            "The number of people who answered 136.0 for 'WEIGHT2' is 8.\n",
            "The number of people who answered 137.0 for 'WEIGHT2' is 25.\n",
            "The number of people who answered 138.0 for 'WEIGHT2' is 40.\n",
            "The number of people who answered 139.0 for 'WEIGHT2' is 11.\n",
            "The number of people who answered 140.0 for 'WEIGHT2' is 144.\n",
            "The number of people who answered 141.0 for 'WEIGHT2' is 6.\n",
            "The number of people who answered 142.0 for 'WEIGHT2' is 29.\n",
            "The number of people who answered 143.0 for 'WEIGHT2' is 13.\n",
            "The number of people who answered 144.0 for 'WEIGHT2' is 12.\n",
            "The number of people who answered 145.0 for 'WEIGHT2' is 103.\n",
            "The number of people who answered 146.0 for 'WEIGHT2' is 7.\n",
            "The number of people who answered 147.0 for 'WEIGHT2' is 12.\n",
            "The number of people who answered 148.0 for 'WEIGHT2' is 24.\n",
            "The number of people who answered 149.0 for 'WEIGHT2' is 9.\n",
            "The number of people who answered 150.0 for 'WEIGHT2' is 201.\n",
            "The number of people who answered 151.0 for 'WEIGHT2' is 4.\n",
            "The number of people who answered 152.0 for 'WEIGHT2' is 20.\n",
            "The number of people who answered 153.0 for 'WEIGHT2' is 13.\n",
            "The number of people who answered 154.0 for 'WEIGHT2' is 12.\n",
            "The number of people who answered 155.0 for 'WEIGHT2' is 95.\n",
            "The number of people who answered 156.0 for 'WEIGHT2' is 14.\n",
            "The number of people who answered 157.0 for 'WEIGHT2' is 11.\n",
            "The number of people who answered 158.0 for 'WEIGHT2' is 28.\n",
            "The number of people who answered 159.0 for 'WEIGHT2' is 8.\n",
            "The number of people who answered 160.0 for 'WEIGHT2' is 213.\n",
            "The number of people who answered 161.0 for 'WEIGHT2' is 8.\n",
            "The number of people who answered 162.0 for 'WEIGHT2' is 29.\n",
            "The number of people who answered 163.0 for 'WEIGHT2' is 14.\n",
            "The number of people who answered 164.0 for 'WEIGHT2' is 16.\n",
            "The number of people who answered 165.0 for 'WEIGHT2' is 127.\n",
            "The number of people who answered 166.0 for 'WEIGHT2' is 7.\n",
            "The number of people who answered 167.0 for 'WEIGHT2' is 19.\n",
            "The number of people who answered 168.0 for 'WEIGHT2' is 25.\n",
            "The number of people who answered 169.0 for 'WEIGHT2' is 18.\n",
            "The number of people who answered 170.0 for 'WEIGHT2' is 184.\n",
            "The number of people who answered 171.0 for 'WEIGHT2' is 6.\n",
            "The number of people who answered 172.0 for 'WEIGHT2' is 26.\n",
            "The number of people who answered 173.0 for 'WEIGHT2' is 10.\n",
            "The number of people who answered 174.0 for 'WEIGHT2' is 5.\n",
            "The number of people who answered 175.0 for 'WEIGHT2' is 128.\n",
            "The number of people who answered 176.0 for 'WEIGHT2' is 10.\n",
            "The number of people who answered 177.0 for 'WEIGHT2' is 15.\n",
            "The number of people who answered 178.0 for 'WEIGHT2' is 22.\n",
            "The number of people who answered 179.0 for 'WEIGHT2' is 9.\n",
            "The number of people who answered 180.0 for 'WEIGHT2' is 191.\n",
            "The number of people who answered 181.0 for 'WEIGHT2' is 4.\n",
            "The number of people who answered 182.0 for 'WEIGHT2' is 17.\n",
            "The number of people who answered 183.0 for 'WEIGHT2' is 2.\n",
            "The number of people who answered 184.0 for 'WEIGHT2' is 11.\n",
            "The number of people who answered 185.0 for 'WEIGHT2' is 101.\n",
            "The number of people who answered 186.0 for 'WEIGHT2' is 11.\n",
            "The number of people who answered 187.0 for 'WEIGHT2' is 13.\n",
            "The number of people who answered 188.0 for 'WEIGHT2' is 14.\n",
            "The number of people who answered 189.0 for 'WEIGHT2' is 12.\n",
            "The number of people who answered 190.0 for 'WEIGHT2' is 172.\n",
            "The number of people who answered 191.0 for 'WEIGHT2' is 1.\n",
            "The number of people who answered 192.0 for 'WEIGHT2' is 19.\n",
            "The number of people who answered 193.0 for 'WEIGHT2' is 9.\n",
            "The number of people who answered 194.0 for 'WEIGHT2' is 12.\n",
            "The number of people who answered 195.0 for 'WEIGHT2' is 80.\n",
            "The number of people who answered 196.0 for 'WEIGHT2' is 15.\n",
            "The number of people who answered 197.0 for 'WEIGHT2' is 11.\n",
            "The number of people who answered 198.0 for 'WEIGHT2' is 25.\n",
            "The number of people who answered 199.0 for 'WEIGHT2' is 10.\n",
            "The number of people who answered 200.0 for 'WEIGHT2' is 224.\n",
            "The number of people who answered 201.0 for 'WEIGHT2' is 6.\n",
            "The number of people who answered 202.0 for 'WEIGHT2' is 8.\n",
            "The number of people who answered 203.0 for 'WEIGHT2' is 4.\n",
            "The number of people who answered 204.0 for 'WEIGHT2' is 7.\n",
            "The number of people who answered 205.0 for 'WEIGHT2' is 58.\n",
            "The number of people who answered 206.0 for 'WEIGHT2' is 8.\n",
            "The number of people who answered 207.0 for 'WEIGHT2' is 6.\n",
            "The number of people who answered 208.0 for 'WEIGHT2' is 10.\n",
            "The number of people who answered 209.0 for 'WEIGHT2' is 2.\n",
            "The number of people who answered 210.0 for 'WEIGHT2' is 110.\n",
            "The number of people who answered 211.0 for 'WEIGHT2' is 2.\n",
            "The number of people who answered 212.0 for 'WEIGHT2' is 10.\n",
            "The number of people who answered 213.0 for 'WEIGHT2' is 6.\n",
            "The number of people who answered 214.0 for 'WEIGHT2' is 3.\n",
            "The number of people who answered 215.0 for 'WEIGHT2' is 45.\n",
            "The number of people who answered 216.0 for 'WEIGHT2' is 4.\n",
            "The number of people who answered 217.0 for 'WEIGHT2' is 3.\n",
            "The number of people who answered 218.0 for 'WEIGHT2' is 10.\n",
            "The number of people who answered 219.0 for 'WEIGHT2' is 4.\n",
            "The number of people who answered 220.0 for 'WEIGHT2' is 129.\n",
            "The number of people who answered 221.0 for 'WEIGHT2' is 4.\n",
            "The number of people who answered 222.0 for 'WEIGHT2' is 7.\n",
            "The number of people who answered 223.0 for 'WEIGHT2' is 1.\n",
            "The number of people who answered 224.0 for 'WEIGHT2' is 2.\n",
            "The number of people who answered 225.0 for 'WEIGHT2' is 47.\n",
            "The number of people who answered 226.0 for 'WEIGHT2' is 7.\n",
            "The number of people who answered 227.0 for 'WEIGHT2' is 4.\n",
            "The number of people who answered 228.0 for 'WEIGHT2' is 7.\n",
            "The number of people who answered 229.0 for 'WEIGHT2' is 1.\n",
            "The number of people who answered 230.0 for 'WEIGHT2' is 79.\n",
            "The number of people who answered 231.0 for 'WEIGHT2' is 2.\n",
            "The number of people who answered 232.0 for 'WEIGHT2' is 5.\n",
            "The number of people who answered 233.0 for 'WEIGHT2' is 2.\n",
            "The number of people who answered 234.0 for 'WEIGHT2' is 3.\n",
            "The number of people who answered 235.0 for 'WEIGHT2' is 31.\n",
            "The number of people who answered 236.0 for 'WEIGHT2' is 3.\n",
            "The number of people who answered 237.0 for 'WEIGHT2' is 1.\n",
            "The number of people who answered 238.0 for 'WEIGHT2' is 2.\n",
            "The number of people who answered 239.0 for 'WEIGHT2' is 2.\n",
            "The number of people who answered 240.0 for 'WEIGHT2' is 61.\n",
            "The number of people who answered 241.0 for 'WEIGHT2' is 1.\n",
            "The number of people who answered 242.0 for 'WEIGHT2' is 3.\n",
            "The number of people who answered 243.0 for 'WEIGHT2' is 2.\n",
            "The number of people who answered 244.0 for 'WEIGHT2' is 1.\n",
            "The number of people who answered 245.0 for 'WEIGHT2' is 21.\n",
            "The number of people who answered 246.0 for 'WEIGHT2' is 2.\n",
            "The number of people who answered 247.0 for 'WEIGHT2' is 2.\n",
            "The number of people who answered 248.0 for 'WEIGHT2' is 4.\n",
            "The number of people who answered 249.0 for 'WEIGHT2' is 3.\n",
            "The number of people who answered 250.0 for 'WEIGHT2' is 61.\n",
            "The number of people who answered 252.0 for 'WEIGHT2' is 2.\n",
            "The number of people who answered 253.0 for 'WEIGHT2' is 1.\n",
            "The number of people who answered 255.0 for 'WEIGHT2' is 11.\n",
            "The number of people who answered 256.0 for 'WEIGHT2' is 3.\n",
            "The number of people who answered 258.0 for 'WEIGHT2' is 3.\n",
            "The number of people who answered 260.0 for 'WEIGHT2' is 35.\n",
            "The number of people who answered 262.0 for 'WEIGHT2' is 5.\n",
            "The number of people who answered 263.0 for 'WEIGHT2' is 2.\n",
            "The number of people who answered 265.0 for 'WEIGHT2' is 14.\n",
            "The number of people who answered 267.0 for 'WEIGHT2' is 1.\n",
            "The number of people who answered 268.0 for 'WEIGHT2' is 2.\n",
            "The number of people who answered 270.0 for 'WEIGHT2' is 17.\n",
            "The number of people who answered 9999.0 for 'WEIGHT2' is 131.\n",
            "The number of people who answered 272.0 for 'WEIGHT2' is 1.\n",
            "The number of people who answered 275.0 for 'WEIGHT2' is 10.\n",
            "The number of people who answered 276.0 for 'WEIGHT2' is 3.\n",
            "The number of people who answered 278.0 for 'WEIGHT2' is 1.\n",
            "The number of people who answered 279.0 for 'WEIGHT2' is 1.\n",
            "The number of people who answered 280.0 for 'WEIGHT2' is 24.\n",
            "The number of people who answered 282.0 for 'WEIGHT2' is 1.\n",
            "The number of people who answered 283.0 for 'WEIGHT2' is 2.\n",
            "The number of people who answered 285.0 for 'WEIGHT2' is 10.\n",
            "The number of people who answered 286.0 for 'WEIGHT2' is 1.\n",
            "The number of people who answered 287.0 for 'WEIGHT2' is 1.\n",
            "The number of people who answered 290.0 for 'WEIGHT2' is 18.\n",
            "The number of people who answered 291.0 for 'WEIGHT2' is 1.\n",
            "The number of people who answered 292.0 for 'WEIGHT2' is 2.\n",
            "The number of people who answered 295.0 for 'WEIGHT2' is 5.\n",
            "The number of people who answered 297.0 for 'WEIGHT2' is 3.\n",
            "The number of people who answered 298.0 for 'WEIGHT2' is 1.\n",
            "The number of people who answered 299.0 for 'WEIGHT2' is 2.\n",
            "The number of people who answered 300.0 for 'WEIGHT2' is 25.\n",
            "The number of people who answered 302.0 for 'WEIGHT2' is 1.\n",
            "The number of people who answered 303.0 for 'WEIGHT2' is 2.\n",
            "The number of people who answered 305.0 for 'WEIGHT2' is 2.\n",
            "The number of people who answered 309.0 for 'WEIGHT2' is 1.\n",
            "The number of people who answered 310.0 for 'WEIGHT2' is 2.\n",
            "The number of people who answered 311.0 for 'WEIGHT2' is 1.\n",
            "The number of people who answered 317.0 for 'WEIGHT2' is 1.\n",
            "The number of people who answered 320.0 for 'WEIGHT2' is 5.\n",
            "The number of people who answered 325.0 for 'WEIGHT2' is 2.\n",
            "The number of people who answered 330.0 for 'WEIGHT2' is 3.\n",
            "The number of people who answered 333.0 for 'WEIGHT2' is 1.\n",
            "The number of people who answered 335.0 for 'WEIGHT2' is 1.\n",
            "The number of people who answered 339.0 for 'WEIGHT2' is 1.\n",
            "The number of people who answered 340.0 for 'WEIGHT2' is 5.\n",
            "The number of people who answered 350.0 for 'WEIGHT2' is 4.\n",
            "The number of people who answered 369.0 for 'WEIGHT2' is 1.\n",
            "The number of people who answered 375.0 for 'WEIGHT2' is 1.\n",
            "The number of people who answered 380.0 for 'WEIGHT2' is 1.\n",
            "The number of people who answered 388.0 for 'WEIGHT2' is 1.\n",
            "The number of people who answered 390.0 for 'WEIGHT2' is 1.\n",
            "The number of people who answered 400.0 for 'WEIGHT2' is 1.\n",
            "The number of people who answered 407.0 for 'WEIGHT2' is 1.\n",
            "The number of people who answered 420.0 for 'WEIGHT2' is 1.\n",
            "The number of people who answered 450.0 for 'WEIGHT2' is 1.\n",
            "The number of people who answered 464.0 for 'WEIGHT2' is 1.\n"
          ]
        }
      ]
    },
    {
      "cell_type": "markdown",
      "source": [
        "Success!"
      ],
      "metadata": {
        "id": "KmABR53E36fc"
      }
    },
    {
      "cell_type": "markdown",
      "source": [
        "**Pounds to Bin Categories**"
      ],
      "metadata": {
        "id": "_ujj3Nd5orUz"
      }
    },
    {
      "cell_type": "code",
      "source": [
        "# transform the WEIGHT2 variable\n",
        "li1 = df[\"WEIGHT2\"]\n",
        "li2 = []\n",
        "\n",
        "for i in range(len(li1)):\n",
        "  if li1[i] <= 1000:\n",
        "    if li1[i] >= 70 and li1[i] < 80:\n",
        "      li2.append(1)\n",
        "    elif li1[i] >= 80 and li1[i] < 90:\n",
        "      li2.append(2)\n",
        "    elif li1[i] >= 90 and li1[i] < 100:\n",
        "      li2.append(3)\n",
        "    elif li1[i] >= 100 and li1[i] < 110:\n",
        "      li2.append(4)\n",
        "    elif li1[i] >= 110 and li1[i] < 120:\n",
        "      li2.append(5)\n",
        "    elif li1[i] >= 120 and li1[i] < 130:\n",
        "      li2.append(6)\n",
        "    elif li1[i] >= 130 and li1[i] < 140:\n",
        "      li2.append(7)\n",
        "    elif li1[i] >= 140 and li1[i] < 150:\n",
        "      li2.append(8)\n",
        "    elif li1[i] >= 150 and li1[i] < 160:\n",
        "      li2.append(9)\n",
        "    elif li1[i] >= 160 and li1[i] < 170:\n",
        "      li2.append(10)\n",
        "    elif li1[i] >= 170 and li1[i] < 180:\n",
        "      li2.append(11)\n",
        "    elif li1[i] >= 180 and li1[i] < 190:\n",
        "      li2.append(12)\n",
        "    elif li1[i] >= 190 and li1[i] < 200:\n",
        "      li2.append(13)\n",
        "    elif li1[i] >= 200 and li1[i] < 210:\n",
        "      li2.append(14)\n",
        "    elif li1[i] >= 210 and li1[i] < 220:\n",
        "      li2.append(15)\n",
        "    elif li1[i] >= 220 and li1[i] < 230:\n",
        "      li2.append(16)\n",
        "    elif li1[i] >= 230 and li1[i] < 240:\n",
        "      li2.append(17)\n",
        "    elif li1[i] >= 240 and li1[i] < 250:\n",
        "      li2.append(18)\n",
        "    elif li1[i] >= 250 and li1[i] < 260:\n",
        "      li2.append(19)\n",
        "    elif li1[i] >= 260 and li1[i] < 270:\n",
        "      li2.append(20)\n",
        "    elif li1[i] >= 270 and li1[i] < 280:\n",
        "      li2.append(21)\n",
        "    elif li1[i] >= 280 and li1[i] < 290:\n",
        "      li2.append(22)\n",
        "    elif li1[i] >= 290 and li1[i] < 300:\n",
        "      li2.append(23)\n",
        "    elif li1[i] >= 300 and li1[i] < 320:\n",
        "      li2.append(24)\n",
        "    elif li1[i] >= 320 and li1[i] < 340:\n",
        "      li2.append(25)\n",
        "    elif li1[i] >= 340 and li1[i] < 360:\n",
        "      li2.append(26)\n",
        "    elif li1[i] >= 360 and li1[i] < 380:\n",
        "      li2.append(27)\n",
        "    elif li1[i] >= 380 and li1[i] < 400:\n",
        "      li2.append(28)\n",
        "    elif li1[i] >= 400 and li1[i] < 450:\n",
        "      li2.append(29)\n",
        "    elif li1[i] >= 450 and li1[i] < 500:\n",
        "      li2.append(30)\n",
        "    elif li1[i] >= 500:\n",
        "      li2.append(31)\n",
        "  else:\n",
        "    li2.append(li1[i])\n",
        "\n",
        "df.drop(\"WEIGHT2\", axis=1, inplace=True)\n",
        "df[\"WEIGHT2\"] = li2"
      ],
      "metadata": {
        "id": "p3f2X6pwpG71"
      },
      "execution_count": null,
      "outputs": []
    },
    {
      "cell_type": "code",
      "source": [
        "# WEIGHT2 counts\n",
        "for i in set(df[\"WEIGHT2\"]):\n",
        "  if i >= 1.0:\n",
        "    num = len(df[df[\"WEIGHT2\"] == i])\n",
        "    print(f\"The number of people who answered {i} for 'WEIGHT2' is {num}.\")\n",
        "  else:\n",
        "    continue"
      ],
      "metadata": {
        "colab": {
          "base_uri": "https://localhost:8080/"
        },
        "id": "C3R8LpyE4Qx9",
        "outputId": "24f25fb1-88b3-41ae-f42b-23c8bae3d2d3"
      },
      "execution_count": null,
      "outputs": [
        {
          "output_type": "stream",
          "name": "stdout",
          "text": [
            "The number of people who answered 1.0 for 'WEIGHT2' is 1.\n",
            "The number of people who answered 2.0 for 'WEIGHT2' is 5.\n",
            "The number of people who answered 3.0 for 'WEIGHT2' is 16.\n",
            "The number of people who answered 4.0 for 'WEIGHT2' is 74.\n",
            "The number of people who answered 5.0 for 'WEIGHT2' is 139.\n",
            "The number of people who answered 6.0 for 'WEIGHT2' is 278.\n",
            "The number of people who answered 7.0 for 'WEIGHT2' is 388.\n",
            "The number of people who answered 8.0 for 'WEIGHT2' is 359.\n",
            "The number of people who answered 9.0 for 'WEIGHT2' is 406.\n",
            "The number of people who answered 10.0 for 'WEIGHT2' is 476.\n",
            "The number of people who answered 11.0 for 'WEIGHT2' is 415.\n",
            "The number of people who answered 12.0 for 'WEIGHT2' is 376.\n",
            "The number of people who answered 13.0 for 'WEIGHT2' is 354.\n",
            "The number of people who answered 14.0 for 'WEIGHT2' is 333.\n",
            "The number of people who answered 9999.0 for 'WEIGHT2' is 131.\n",
            "The number of people who answered 16.0 for 'WEIGHT2' is 209.\n",
            "The number of people who answered 17.0 for 'WEIGHT2' is 130.\n",
            "The number of people who answered 15.0 for 'WEIGHT2' is 197.\n",
            "The number of people who answered 19.0 for 'WEIGHT2' is 81.\n",
            "The number of people who answered 20.0 for 'WEIGHT2' is 59.\n",
            "The number of people who answered 18.0 for 'WEIGHT2' is 100.\n",
            "The number of people who answered 22.0 for 'WEIGHT2' is 39.\n",
            "The number of people who answered 23.0 for 'WEIGHT2' is 32.\n",
            "The number of people who answered 24.0 for 'WEIGHT2' is 35.\n",
            "The number of people who answered 21.0 for 'WEIGHT2' is 33.\n",
            "The number of people who answered 25.0 for 'WEIGHT2' is 13.\n",
            "The number of people who answered 27.0 for 'WEIGHT2' is 2.\n",
            "The number of people who answered 26.0 for 'WEIGHT2' is 9.\n",
            "The number of people who answered 29.0 for 'WEIGHT2' is 3.\n",
            "The number of people who answered 30.0 for 'WEIGHT2' is 2.\n",
            "The number of people who answered 28.0 for 'WEIGHT2' is 3.\n",
            "The number of people who answered 31.0 for 'WEIGHT2' is 1.\n",
            "The number of people who answered 7777.0 for 'WEIGHT2' is 53.\n"
          ]
        }
      ]
    },
    {
      "cell_type": "markdown",
      "source": [
        "Nice!"
      ],
      "metadata": {
        "id": "qA9VQlTz4k4s"
      }
    },
    {
      "cell_type": "markdown",
      "source": [
        "**Don't Know/Refused**"
      ],
      "metadata": {
        "id": "4SOwKdHatUhs"
      }
    },
    {
      "cell_type": "code",
      "source": [
        "# transform the WEIGHT2 variable\n",
        "li1 = df[\"WEIGHT2\"]\n",
        "li2 = []\n",
        "\n",
        "for i in range(len(li1)):\n",
        "  if li1[i] > 7000 and li1[i] < 9000:\n",
        "    li2.append(50)\n",
        "  elif li1[i] == 9999.0:\n",
        "    li2.append(55)\n",
        "  else:\n",
        "    li2.append(li1[i])\n",
        "\n",
        "df.drop(\"WEIGHT2\", axis=1, inplace=True)\n",
        "df[\"WEIGHT2\"] = li2"
      ],
      "metadata": {
        "id": "ToifGxFxtb4B"
      },
      "execution_count": null,
      "outputs": []
    },
    {
      "cell_type": "markdown",
      "source": [
        "**Final Counts to Double-Check**"
      ],
      "metadata": {
        "id": "ZYdjumdrud2-"
      }
    },
    {
      "cell_type": "code",
      "source": [
        "# WEIGHT2 counts\n",
        "for i in set(df[\"WEIGHT2\"]):\n",
        "  if i >= 1.0:\n",
        "    num = len(df[df[\"WEIGHT2\"] == i])\n",
        "    print(f\"The number of people who answered {i} for 'WEIGHT2' is {num}.\")\n",
        "  else:\n",
        "    continue"
      ],
      "metadata": {
        "colab": {
          "base_uri": "https://localhost:8080/"
        },
        "id": "yZymH9ZHukFP",
        "outputId": "7e9693d1-2aff-4806-990e-2738e8cb1b5a"
      },
      "execution_count": null,
      "outputs": [
        {
          "output_type": "stream",
          "name": "stdout",
          "text": [
            "The number of people who answered 1.0 for 'WEIGHT2' is 1.\n",
            "The number of people who answered 2.0 for 'WEIGHT2' is 5.\n",
            "The number of people who answered 3.0 for 'WEIGHT2' is 16.\n",
            "The number of people who answered 4.0 for 'WEIGHT2' is 74.\n",
            "The number of people who answered 5.0 for 'WEIGHT2' is 139.\n",
            "The number of people who answered 6.0 for 'WEIGHT2' is 278.\n",
            "The number of people who answered 7.0 for 'WEIGHT2' is 388.\n",
            "The number of people who answered 8.0 for 'WEIGHT2' is 359.\n",
            "The number of people who answered 9.0 for 'WEIGHT2' is 406.\n",
            "The number of people who answered 10.0 for 'WEIGHT2' is 476.\n",
            "The number of people who answered 11.0 for 'WEIGHT2' is 415.\n",
            "The number of people who answered 12.0 for 'WEIGHT2' is 376.\n",
            "The number of people who answered 13.0 for 'WEIGHT2' is 354.\n",
            "The number of people who answered 14.0 for 'WEIGHT2' is 333.\n",
            "The number of people who answered 15.0 for 'WEIGHT2' is 197.\n",
            "The number of people who answered 16.0 for 'WEIGHT2' is 209.\n",
            "The number of people who answered 17.0 for 'WEIGHT2' is 130.\n",
            "The number of people who answered 18.0 for 'WEIGHT2' is 100.\n",
            "The number of people who answered 19.0 for 'WEIGHT2' is 81.\n",
            "The number of people who answered 20.0 for 'WEIGHT2' is 59.\n",
            "The number of people who answered 21.0 for 'WEIGHT2' is 33.\n",
            "The number of people who answered 22.0 for 'WEIGHT2' is 39.\n",
            "The number of people who answered 23.0 for 'WEIGHT2' is 32.\n",
            "The number of people who answered 24.0 for 'WEIGHT2' is 35.\n",
            "The number of people who answered 25.0 for 'WEIGHT2' is 13.\n",
            "The number of people who answered 26.0 for 'WEIGHT2' is 9.\n",
            "The number of people who answered 27.0 for 'WEIGHT2' is 2.\n",
            "The number of people who answered 28.0 for 'WEIGHT2' is 3.\n",
            "The number of people who answered 29.0 for 'WEIGHT2' is 3.\n",
            "The number of people who answered 30.0 for 'WEIGHT2' is 2.\n",
            "The number of people who answered 31.0 for 'WEIGHT2' is 1.\n",
            "The number of people who answered 50.0 for 'WEIGHT2' is 53.\n",
            "The number of people who answered 55.0 for 'WEIGHT2' is 131.\n"
          ]
        }
      ]
    },
    {
      "cell_type": "markdown",
      "source": [
        "Looks good!"
      ],
      "metadata": {
        "id": "cPk7G-uFutSY"
      }
    },
    {
      "cell_type": "markdown",
      "source": [
        "#### **Variable:** `'MENTHLTH'`"
      ],
      "metadata": {
        "id": "9I9WEZOlbfnE"
      }
    },
    {
      "cell_type": "markdown",
      "source": [
        "**Numeric variable**\n",
        "\n",
        "\"Now thinking about your mental health, which includes stress, depression, and problems with emotions, for how many days during the past 30 days was your mental health not good?\"\n",
        "\n",
        "**Possible responses:**\n",
        "- 1 to 30 - \"Number of days\"\n",
        "- 77 - \"Don't know/Not sure\"\n",
        "- 88 - \"None\"\n",
        "- 99 - \"Refused\"\n",
        "\n",
        "We are going to convert all `'88.0'` entries into `'0.0'` entries and drop those responses that give us no data.\n",
        "\n",
        "**New responses:**\n",
        "- 0 to 30 - \"Number of days\" (includes \"None\")\n"
      ],
      "metadata": {
        "id": "lmKCakOgboMA"
      }
    },
    {
      "cell_type": "code",
      "source": [
        "# MENTHLTH counts\n",
        "for i in set(df[\"MENTHLTH\"]):\n",
        "  if i >= 0.0:\n",
        "    num = len(df[df[\"MENTHLTH\"] == i])\n",
        "    print(f\"The number of people who answered {i} for 'MENTHLTH' is {num}.\")\n",
        "  else:\n",
        "    continue"
      ],
      "metadata": {
        "colab": {
          "base_uri": "https://localhost:8080/"
        },
        "id": "RD9PYnqa46qo",
        "outputId": "9072c189-2666-4db7-a6e8-05022026fa25"
      },
      "execution_count": null,
      "outputs": [
        {
          "output_type": "stream",
          "name": "stdout",
          "text": [
            "The number of people who answered 1.0 for 'MENTHLTH' is 145.\n",
            "The number of people who answered 2.0 for 'MENTHLTH' is 206.\n",
            "The number of people who answered 3.0 for 'MENTHLTH' is 139.\n",
            "The number of people who answered 4.0 for 'MENTHLTH' is 67.\n",
            "The number of people who answered 5.0 for 'MENTHLTH' is 164.\n",
            "The number of people who answered 6.0 for 'MENTHLTH' is 14.\n",
            "The number of people who answered 7.0 for 'MENTHLTH' is 60.\n",
            "The number of people who answered 8.0 for 'MENTHLTH' is 15.\n",
            "The number of people who answered 10.0 for 'MENTHLTH' is 111.\n",
            "The number of people who answered 11.0 for 'MENTHLTH' is 1.\n",
            "The number of people who answered 12.0 for 'MENTHLTH' is 10.\n",
            "The number of people who answered 13.0 for 'MENTHLTH' is 1.\n",
            "The number of people who answered 14.0 for 'MENTHLTH' is 25.\n",
            "The number of people who answered 15.0 for 'MENTHLTH' is 101.\n",
            "The number of people who answered 16.0 for 'MENTHLTH' is 1.\n",
            "The number of people who answered 18.0 for 'MENTHLTH' is 3.\n",
            "The number of people who answered 20.0 for 'MENTHLTH' is 54.\n",
            "The number of people who answered 21.0 for 'MENTHLTH' is 7.\n",
            "The number of people who answered 22.0 for 'MENTHLTH' is 2.\n",
            "The number of people who answered 24.0 for 'MENTHLTH' is 1.\n",
            "The number of people who answered 25.0 for 'MENTHLTH' is 19.\n",
            "The number of people who answered 26.0 for 'MENTHLTH' is 3.\n",
            "The number of people who answered 28.0 for 'MENTHLTH' is 3.\n",
            "The number of people who answered 29.0 for 'MENTHLTH' is 4.\n",
            "The number of people who answered 30.0 for 'MENTHLTH' is 238.\n",
            "The number of people who answered 77.0 for 'MENTHLTH' is 60.\n",
            "The number of people who answered 88.0 for 'MENTHLTH' is 3272.\n",
            "The number of people who answered 99.0 for 'MENTHLTH' is 26.\n"
          ]
        }
      ]
    },
    {
      "cell_type": "code",
      "source": [
        "# transform the MENTHLTH variable\n",
        "li1 = df[\"MENTHLTH\"]\n",
        "li2 = []\n",
        "\n",
        "for i in range(len(li1)):\n",
        "  if li1[i] == 88.0:\n",
        "    li2.append(0.0)\n",
        "  else:\n",
        "    li2.append(li1[i])\n",
        "\n",
        "df.drop(\"MENTHLTH\", axis=1, inplace=True)\n",
        "df[\"MENTHLTH\"] = li2"
      ],
      "metadata": {
        "id": "l6M6TSEpwBvC"
      },
      "execution_count": null,
      "outputs": []
    },
    {
      "cell_type": "code",
      "source": [
        "# MENTHLTH counts\n",
        "for i in set(df[\"MENTHLTH\"]):\n",
        "  if i >= 0.0:\n",
        "    num = len(df[df[\"MENTHLTH\"] == i])\n",
        "    print(f\"The number of people who answered {i} for 'MENTHLTH' is {num}.\")\n",
        "  else:\n",
        "    continue"
      ],
      "metadata": {
        "colab": {
          "base_uri": "https://localhost:8080/"
        },
        "id": "oFp9MoJQ5TdR",
        "outputId": "d179e768-756d-45e6-f0ec-b42a7c059bfb"
      },
      "execution_count": null,
      "outputs": [
        {
          "output_type": "stream",
          "name": "stdout",
          "text": [
            "The number of people who answered 0.0 for 'MENTHLTH' is 3272.\n",
            "The number of people who answered 1.0 for 'MENTHLTH' is 145.\n",
            "The number of people who answered 2.0 for 'MENTHLTH' is 206.\n",
            "The number of people who answered 3.0 for 'MENTHLTH' is 139.\n",
            "The number of people who answered 4.0 for 'MENTHLTH' is 67.\n",
            "The number of people who answered 5.0 for 'MENTHLTH' is 164.\n",
            "The number of people who answered 6.0 for 'MENTHLTH' is 14.\n",
            "The number of people who answered 7.0 for 'MENTHLTH' is 60.\n",
            "The number of people who answered 8.0 for 'MENTHLTH' is 15.\n",
            "The number of people who answered 10.0 for 'MENTHLTH' is 111.\n",
            "The number of people who answered 11.0 for 'MENTHLTH' is 1.\n",
            "The number of people who answered 12.0 for 'MENTHLTH' is 10.\n",
            "The number of people who answered 13.0 for 'MENTHLTH' is 1.\n",
            "The number of people who answered 14.0 for 'MENTHLTH' is 25.\n",
            "The number of people who answered 15.0 for 'MENTHLTH' is 101.\n",
            "The number of people who answered 16.0 for 'MENTHLTH' is 1.\n",
            "The number of people who answered 18.0 for 'MENTHLTH' is 3.\n",
            "The number of people who answered 20.0 for 'MENTHLTH' is 54.\n",
            "The number of people who answered 21.0 for 'MENTHLTH' is 7.\n",
            "The number of people who answered 22.0 for 'MENTHLTH' is 2.\n",
            "The number of people who answered 24.0 for 'MENTHLTH' is 1.\n",
            "The number of people who answered 25.0 for 'MENTHLTH' is 19.\n",
            "The number of people who answered 26.0 for 'MENTHLTH' is 3.\n",
            "The number of people who answered 28.0 for 'MENTHLTH' is 3.\n",
            "The number of people who answered 29.0 for 'MENTHLTH' is 4.\n",
            "The number of people who answered 30.0 for 'MENTHLTH' is 238.\n",
            "The number of people who answered 77.0 for 'MENTHLTH' is 60.\n",
            "The number of people who answered 99.0 for 'MENTHLTH' is 26.\n"
          ]
        }
      ]
    },
    {
      "cell_type": "code",
      "source": [
        "# before dropping\n",
        "print(\"Before dropping:\", len(df))\n",
        "\n",
        "# drop rows with empty values in MENTHLTH column\n",
        "df = df[~(df.MENTHLTH >= 77.0)]\n",
        "\n",
        "# After dropping\n",
        "print(\"After dropping:\", len(df))\n",
        "print(\"\")\n",
        "\n",
        "# sum missing data\n",
        "df.isna().sum()"
      ],
      "metadata": {
        "colab": {
          "base_uri": "https://localhost:8080/"
        },
        "id": "cjjUxqMVs0nF",
        "outputId": "0020f1d4-167f-4425-c484-6748621ca03a"
      },
      "execution_count": null,
      "outputs": [
        {
          "output_type": "stream",
          "name": "stdout",
          "text": [
            "Before dropping: 4752\n",
            "After dropping: 4666\n",
            "\n"
          ]
        },
        {
          "output_type": "execute_result",
          "data": {
            "text/plain": [
              "PERSONID       0\n",
              "DIABETE3       0\n",
              "NUMADULT    1628\n",
              "DRVISITS    1340\n",
              "_RACE          0\n",
              "MSCODE      1681\n",
              "FLUSHOT6       0\n",
              "EMPLOY1        0\n",
              "SEX            0\n",
              "MARITAL        0\n",
              "CVDCRHD4       0\n",
              "HLTHCVR1    1561\n",
              "CHCKIDNY       0\n",
              "USEEQUIP       0\n",
              "ADDEPEV2       0\n",
              "RENTHOM1       0\n",
              "EXERANY2       0\n",
              "BLIND          0\n",
              "DECIDE         0\n",
              "HLTHPLN1       0\n",
              "_STATE         0\n",
              "ASTHMA3        0\n",
              "GENHLTH        0\n",
              "_AGEG5YR       0\n",
              "_BMI5CAT       0\n",
              "CHECKUP1       0\n",
              "INCOME2        0\n",
              "_EDUCAG        0\n",
              "SLEPTIM1       0\n",
              "_SMOKER3       0\n",
              "CHILDREN       0\n",
              "WEIGHT2        0\n",
              "MENTHLTH       0\n",
              "dtype: int64"
            ]
          },
          "metadata": {},
          "execution_count": 15
        }
      ]
    },
    {
      "cell_type": "markdown",
      "source": [
        "#### **Variable:** `'GENHLTH'`"
      ],
      "metadata": {
        "id": "_fTVAGRQrwaG"
      }
    },
    {
      "cell_type": "markdown",
      "source": [
        "\"Would you say that in general your health is:\" [Question about general health]\n",
        "\n",
        "**Possible Responses:**\n",
        "- 1 - Excellent\n",
        "- 2 - Very good\n",
        "- 3 - Good\n",
        "- 4 - Fair\n",
        "- 5 - Poor\n",
        "- 7 - Don't know/Not Sure\n",
        "- 9 - Refused\n",
        "\n",
        "We are going to drop the 'Don't know/Not Sure' and 'Refused' rows.  \n",
        "\n",
        "**New responses:**\n",
        "- 1 - Excellent\n",
        "- 2 - Very good\n",
        "- 3 - Good\n",
        "- 4 - Fair\n",
        "- 5 - Poor"
      ],
      "metadata": {
        "id": "vcKADmRcsJAQ"
      }
    },
    {
      "cell_type": "code",
      "source": [
        "# before dropping\n",
        "print(\"Before dropping:\", len(df))\n",
        "\n",
        "# drop rows with empty values in GENHLTH column\n",
        "df = df[~(df.GENHLTH >= 7.0)]\n",
        "\n",
        "# After dropping\n",
        "print(\"After dropping:\", len(df))\n",
        "print(\"\")\n",
        "\n",
        "# sum missing data\n",
        "df.isna().sum()"
      ],
      "metadata": {
        "colab": {
          "base_uri": "https://localhost:8080/"
        },
        "id": "nV27WsE6tIoL",
        "outputId": "220e315e-f181-40b3-e053-f20c15246a1f"
      },
      "execution_count": null,
      "outputs": [
        {
          "output_type": "stream",
          "name": "stdout",
          "text": [
            "Before dropping: 4666\n",
            "After dropping: 4659\n",
            "\n"
          ]
        },
        {
          "output_type": "execute_result",
          "data": {
            "text/plain": [
              "PERSONID       0\n",
              "DIABETE3       0\n",
              "NUMADULT    1625\n",
              "DRVISITS    1338\n",
              "_RACE          0\n",
              "MSCODE      1678\n",
              "FLUSHOT6       0\n",
              "EMPLOY1        0\n",
              "SEX            0\n",
              "MARITAL        0\n",
              "CVDCRHD4       0\n",
              "HLTHCVR1    1559\n",
              "CHCKIDNY       0\n",
              "USEEQUIP       0\n",
              "ADDEPEV2       0\n",
              "RENTHOM1       0\n",
              "EXERANY2       0\n",
              "BLIND          0\n",
              "DECIDE         0\n",
              "HLTHPLN1       0\n",
              "_STATE         0\n",
              "ASTHMA3        0\n",
              "GENHLTH        0\n",
              "_AGEG5YR       0\n",
              "_BMI5CAT       0\n",
              "CHECKUP1       0\n",
              "INCOME2        0\n",
              "_EDUCAG        0\n",
              "SLEPTIM1       0\n",
              "_SMOKER3       0\n",
              "CHILDREN       0\n",
              "WEIGHT2        0\n",
              "MENTHLTH       0\n",
              "dtype: int64"
            ]
          },
          "metadata": {},
          "execution_count": 16
        }
      ]
    },
    {
      "cell_type": "markdown",
      "source": [
        "#### Saving a copy of our modified DataFrame"
      ],
      "metadata": {
        "id": "H5ILOcRewh2W"
      }
    },
    {
      "cell_type": "code",
      "source": [
        "# Save the modified DataFrame to a new CSV file for easy access henceforth\n",
        "df.to_csv(\"drive/My Drive/Diabetes Risk Factors/mod_trimmed_diabetes_data.csv\", index=False)"
      ],
      "metadata": {
        "id": "gzOj01Lww7Lx"
      },
      "execution_count": null,
      "outputs": []
    },
    {
      "cell_type": "markdown",
      "source": [
        "## Modeling"
      ],
      "metadata": {
        "id": "_boXyM-vajxX"
      }
    },
    {
      "cell_type": "markdown",
      "source": [
        "According to the instructions, we want to \"build a model to identify risk factors for diabetes\".  This isn't a very specific directive (which seems purposeful).  We have been trying to decide what kind of analysis to run this whole time, but that is very difficult to do without first deciding how to interpret the assignment.\n",
        "\n",
        "Let's take a quick look at `'DIABETE3'` again below.  "
      ],
      "metadata": {
        "id": "_kVf9OSUBa2a"
      }
    },
    {
      "cell_type": "code",
      "source": [
        "# Import tools into Colab\n",
        "import pandas as pd\n",
        "import seaborn as sns\n",
        "import numpy as np\n",
        "from matplotlib import pyplot as plt\n",
        "\n",
        "# Read the \"trimmed_diabetes_data.csv\" to a working DataFrame and verify it\n",
        "df = pd.read_csv(\"drive/My Drive/Diabetes Risk Factors/mod_trimmed_diabetes_data.csv\")\n",
        "\n",
        "print(df.info())"
      ],
      "metadata": {
        "id": "bZvPFmuuqFpm",
        "colab": {
          "base_uri": "https://localhost:8080/"
        },
        "outputId": "939a5edf-469d-4ed8-8fa8-327d03f1ae5c"
      },
      "execution_count": null,
      "outputs": [
        {
          "output_type": "stream",
          "name": "stdout",
          "text": [
            "<class 'pandas.core.frame.DataFrame'>\n",
            "RangeIndex: 4659 entries, 0 to 4658\n",
            "Data columns (total 33 columns):\n",
            " #   Column    Non-Null Count  Dtype  \n",
            "---  ------    --------------  -----  \n",
            " 0   PERSONID  4659 non-null   int64  \n",
            " 1   DIABETE3  4659 non-null   float64\n",
            " 2   NUMADULT  3034 non-null   float64\n",
            " 3   DRVISITS  3321 non-null   float64\n",
            " 4   _RACE     4659 non-null   float64\n",
            " 5   MSCODE    2981 non-null   float64\n",
            " 6   FLUSHOT6  4659 non-null   float64\n",
            " 7   EMPLOY1   4659 non-null   float64\n",
            " 8   SEX       4659 non-null   float64\n",
            " 9   MARITAL   4659 non-null   float64\n",
            " 10  CVDCRHD4  4659 non-null   float64\n",
            " 11  HLTHCVR1  3100 non-null   float64\n",
            " 12  CHCKIDNY  4659 non-null   float64\n",
            " 13  USEEQUIP  4659 non-null   float64\n",
            " 14  ADDEPEV2  4659 non-null   float64\n",
            " 15  RENTHOM1  4659 non-null   float64\n",
            " 16  EXERANY2  4659 non-null   float64\n",
            " 17  BLIND     4659 non-null   float64\n",
            " 18  DECIDE    4659 non-null   float64\n",
            " 19  HLTHPLN1  4659 non-null   float64\n",
            " 20  _STATE    4659 non-null   float64\n",
            " 21  ASTHMA3   4659 non-null   float64\n",
            " 22  GENHLTH   4659 non-null   float64\n",
            " 23  _AGEG5YR  4659 non-null   float64\n",
            " 24  _BMI5CAT  4659 non-null   float64\n",
            " 25  CHECKUP1  4659 non-null   float64\n",
            " 26  INCOME2   4659 non-null   float64\n",
            " 27  _EDUCAG   4659 non-null   float64\n",
            " 28  SLEPTIM1  4659 non-null   float64\n",
            " 29  _SMOKER3  4659 non-null   float64\n",
            " 30  CHILDREN  4659 non-null   float64\n",
            " 31  WEIGHT2   4659 non-null   float64\n",
            " 32  MENTHLTH  4659 non-null   float64\n",
            "dtypes: float64(32), int64(1)\n",
            "memory usage: 1.2 MB\n",
            "None\n"
          ]
        }
      ]
    },
    {
      "cell_type": "code",
      "source": [
        "# DIABETE3 count\n",
        "for i in set(df[\"DIABETE3\"]):\n",
        "    num = len(df[df[\"DIABETE3\"] == i])\n",
        "    print(f\"The number of people who answered {i} for 'DIABETE3' is {num}.\")"
      ],
      "metadata": {
        "colab": {
          "base_uri": "https://localhost:8080/"
        },
        "id": "4KNjLTm3GW7E",
        "outputId": "149052ed-b494-47b8-e3c8-90dd02450c4a"
      },
      "execution_count": null,
      "outputs": [
        {
          "output_type": "stream",
          "name": "stdout",
          "text": [
            "The number of people who answered 1.0 for 'DIABETE3' is 582.\n",
            "The number of people who answered 2.0 for 'DIABETE3' is 36.\n",
            "The number of people who answered 3.0 for 'DIABETE3' is 3969.\n",
            "The number of people who answered 4.0 for 'DIABETE3' is 72.\n"
          ]
        }
      ]
    },
    {
      "cell_type": "markdown",
      "source": [
        "Part of the difficulty in deciding on our interpretation lies in how the `'DIABETE3'` variable is structured.  It is categorical without truly being ordinal.  There is a 'no' response, a 'yes' response, an 'in between' response (pre-diabetic), and an 'occasionally' response (while female during pregnancy).  Does 'identifying risk factors' mean that we should include the 36 entries for 'females while pregnant?  Would that even be a big enough sample for our model?  Frankly, 72 observations of pre-diabetic folks is barely a large enough sample as it is, so dropping the pregnancy responses is tentatively the right call.  \n",
        "\n",
        "We see two potential routes to explore.  In our first potential route, we could ditch both of our less definite responses and run a Logistic Regression (or another classification model).  In our second potential route, we could just ditch the pregnancy responses, treat pre-diabetics as a midpoint between diabetics and non-diabetics, and then run an Ordinal Logistic Regression on our now ordinal data.  \n",
        "\n",
        "We're going to go with a basic Logistic Regression."
      ],
      "metadata": {
        "id": "HaK1rm2ZGVQ_"
      }
    },
    {
      "cell_type": "code",
      "source": [
        "# swap '3.0' to '0.0\n",
        "li1 = df[\"DIABETE3\"]\n",
        "li2 = []\n",
        "\n",
        "for i in range(len(li1)):\n",
        "  if li1[i] == 3.0:\n",
        "    li2.append(0.0)\n",
        "  else:\n",
        "    li2.append(li1[i])\n",
        "\n",
        "df.drop(\"DIABETE3\", axis=1, inplace=True)\n",
        "df[\"DIABETE3\"] = li2\n",
        "\n",
        "# DIABETE3 count\n",
        "for i in set(df[\"DIABETE3\"]):\n",
        "    num = len(df[df[\"DIABETE3\"] == i])\n",
        "    print(f\"The number of people who answered {i} for 'DIABETE3' is {num}.\")\n",
        "\n",
        "# before dropping\n",
        "print(\"\\nBefore dropping:\", len(df))\n",
        "\n",
        "# drop rows with values of '2.0' and '4.0' in DIABETE3\n",
        "df = df[~(df.DIABETE3 == 2.0)]\n",
        "df = df[~(df.DIABETE3 == 4.0)]\n",
        "\n",
        "\n",
        "# After dropping\n",
        "print(\"After dropping:\", len(df))\n",
        "\n",
        "# sum missing data\n",
        "df.isna().sum()\n",
        "print(\"\")\n",
        "\n",
        "# DIABETE3 count\n",
        "for i in set(df[\"DIABETE3\"]):\n",
        "    num = len(df[df[\"DIABETE3\"] == i])\n",
        "    print(f\"The number of people who answered {i} for 'DIABETE3' is {num}.\")"
      ],
      "metadata": {
        "colab": {
          "base_uri": "https://localhost:8080/"
        },
        "id": "w2qcKLxUUgW_",
        "outputId": "691b29ee-2f94-4f46-dd72-834c3d9171bb"
      },
      "execution_count": null,
      "outputs": [
        {
          "output_type": "stream",
          "name": "stdout",
          "text": [
            "The number of people who answered 0.0 for 'DIABETE3' is 3969.\n",
            "The number of people who answered 1.0 for 'DIABETE3' is 582.\n",
            "The number of people who answered 2.0 for 'DIABETE3' is 36.\n",
            "The number of people who answered 4.0 for 'DIABETE3' is 72.\n",
            "\n",
            "Before dropping: 4659\n",
            "After dropping: 4551\n",
            "\n",
            "\n",
            "The number of people who answered 0.0 for 'DIABETE3' is 3969.\n",
            "The number of people who answered 1.0 for 'DIABETE3' is 582.\n"
          ]
        }
      ]
    },
    {
      "cell_type": "markdown",
      "source": [
        "### **Logistic Regression**"
      ],
      "metadata": {
        "id": "CHpVPfM-TYa0"
      }
    },
    {
      "cell_type": "markdown",
      "source": [
        "We are going to do a Logistic Regression and drop the pre-diabetic responses.  Hopefully, the insights garnered from comparing diabetics to non-diabetics will be applicable to the pre-diabetic and diabetic while pregnant folks as well.  "
      ],
      "metadata": {
        "id": "lOtsA8CmTsEj"
      }
    },
    {
      "cell_type": "markdown",
      "source": [
        "#### **Last Tweaks**"
      ],
      "metadata": {
        "id": "DDuJTAoKERoG"
      }
    },
    {
      "cell_type": "markdown",
      "source": [
        "Before we can start our Logistic Regression, we have a few more things to tidy in our data.  We are going to stick with our earlier plan of dropping the rest of the columns with missing data from our data set.  The columns are `'NUMADULT'`, `'DRVISITS'`, `'MSCODE'`, and `'HLTHCVR1'`.  "
      ],
      "metadata": {
        "id": "U2E02IMIYGCa"
      }
    },
    {
      "cell_type": "code",
      "source": [
        "# dropping\n",
        "df.drop(\"NUMADULT\", axis=1, inplace=True)\n",
        "df.drop(\"DRVISITS\", axis=1, inplace=True)\n",
        "df.drop(\"MSCODE\", axis=1, inplace=True)\n",
        "df.drop(\"HLTHCVR1\", axis=1, inplace=True)"
      ],
      "metadata": {
        "id": "iJ8ulkd5YFb2"
      },
      "execution_count": null,
      "outputs": []
    },
    {
      "cell_type": "markdown",
      "source": [
        "We will also drop the non-numeric data from the only strictly numeric variable we are still using, `'CHILDREN'`."
      ],
      "metadata": {
        "id": "I4XT9JvQaX-B"
      }
    },
    {
      "cell_type": "code",
      "source": [
        "# CHILDREN count\n",
        "for i in set(df[\"CHILDREN\"]):\n",
        "    num = len(df[df[\"CHILDREN\"] == i])\n",
        "    print(f\"The number of people who answered {i} for 'CHILDREN' is {num}.\")\n",
        "\n",
        "# before dropping\n",
        "print(\"Before dropping:\", len(df))\n",
        "\n",
        "# drop rows with values of 99.0 in CHILDREN column\n",
        "df = df[~(df.CHILDREN == 99.0)]\n",
        "\n",
        "# After dropping\n",
        "print(\"After dropping:\", len(df))\n",
        "print(\"\")\n",
        "\n",
        "# sum missing data\n",
        "df.isna().sum()"
      ],
      "metadata": {
        "colab": {
          "base_uri": "https://localhost:8080/"
        },
        "id": "L0VM0ichbHua",
        "outputId": "5dfa17e4-d05a-4a76-dccf-ff55a91b0a7c"
      },
      "execution_count": null,
      "outputs": [
        {
          "output_type": "stream",
          "name": "stdout",
          "text": [
            "The number of people who answered 0.0 for 'CHILDREN' is 3354.\n",
            "The number of people who answered 1.0 for 'CHILDREN' is 483.\n",
            "The number of people who answered 2.0 for 'CHILDREN' is 430.\n",
            "The number of people who answered 3.0 for 'CHILDREN' is 173.\n",
            "The number of people who answered 4.0 for 'CHILDREN' is 57.\n",
            "The number of people who answered 99.0 for 'CHILDREN' is 17.\n",
            "The number of people who answered 5.0 for 'CHILDREN' is 19.\n",
            "The number of people who answered 6.0 for 'CHILDREN' is 14.\n",
            "The number of people who answered 7.0 for 'CHILDREN' is 3.\n",
            "The number of people who answered 8.0 for 'CHILDREN' is 1.\n",
            "Before dropping: 4551\n",
            "After dropping: 4534\n",
            "\n"
          ]
        },
        {
          "output_type": "execute_result",
          "data": {
            "text/plain": [
              "PERSONID    0\n",
              "_RACE       0\n",
              "FLUSHOT6    0\n",
              "EMPLOY1     0\n",
              "SEX         0\n",
              "MARITAL     0\n",
              "CVDCRHD4    0\n",
              "CHCKIDNY    0\n",
              "USEEQUIP    0\n",
              "ADDEPEV2    0\n",
              "RENTHOM1    0\n",
              "EXERANY2    0\n",
              "BLIND       0\n",
              "DECIDE      0\n",
              "HLTHPLN1    0\n",
              "_STATE      0\n",
              "ASTHMA3     0\n",
              "GENHLTH     0\n",
              "_AGEG5YR    0\n",
              "_BMI5CAT    0\n",
              "CHECKUP1    0\n",
              "INCOME2     0\n",
              "_EDUCAG     0\n",
              "SLEPTIM1    0\n",
              "_SMOKER3    0\n",
              "CHILDREN    0\n",
              "WEIGHT2     0\n",
              "MENTHLTH    0\n",
              "DIABETE3    0\n",
              "dtype: int64"
            ]
          },
          "metadata": {},
          "execution_count": 5
        }
      ]
    },
    {
      "cell_type": "code",
      "source": [],
      "metadata": {
        "id": "0Efc6qvIdIF_"
      },
      "execution_count": null,
      "outputs": []
    },
    {
      "cell_type": "markdown",
      "source": [
        "Let's look at one last scatterplot."
      ],
      "metadata": {
        "id": "PYF4yHy2c4WB"
      }
    },
    {
      "cell_type": "code",
      "source": [
        "df.columns"
      ],
      "metadata": {
        "colab": {
          "base_uri": "https://localhost:8080/"
        },
        "id": "TbTafclmyH53",
        "outputId": "92d0f896-7672-42cf-f22e-4739190f08ad"
      },
      "execution_count": null,
      "outputs": [
        {
          "output_type": "execute_result",
          "data": {
            "text/plain": [
              "Index(['PERSONID', '_RACE', 'FLUSHOT6', 'EMPLOY1', 'SEX', 'MARITAL',\n",
              "       'CVDCRHD4', 'CHCKIDNY', 'USEEQUIP', 'ADDEPEV2', 'RENTHOM1', 'EXERANY2',\n",
              "       'BLIND', 'DECIDE', 'HLTHPLN1', '_STATE', 'ASTHMA3', 'GENHLTH',\n",
              "       '_AGEG5YR', '_BMI5CAT', 'CHECKUP1', 'INCOME2', '_EDUCAG', 'SLEPTIM1',\n",
              "       '_SMOKER3', 'CHILDREN', 'WEIGHT2', 'MENTHLTH', 'DIABETE3'],\n",
              "      dtype='object')"
            ]
          },
          "metadata": {},
          "execution_count": 6
        }
      ]
    },
    {
      "cell_type": "code",
      "source": [
        "neworder = ['PERSONID', 'DIABETE3', '_RACE', 'FLUSHOT6', 'EMPLOY1', 'SEX', 'MARITAL',\n",
        "       'CVDCRHD4', 'CHCKIDNY', 'USEEQUIP', 'ADDEPEV2', 'RENTHOM1', 'EXERANY2',\n",
        "       'BLIND', 'DECIDE', 'HLTHPLN1', '_STATE', 'ASTHMA3', 'GENHLTH',\n",
        "       '_AGEG5YR', '_BMI5CAT', 'CHECKUP1', 'INCOME2', '_EDUCAG', 'SLEPTIM1',\n",
        "       '_SMOKER3', 'CHILDREN', 'WEIGHT2', 'MENTHLTH']\n",
        "\n",
        "df=df.reindex(columns=neworder)\n",
        "df.columns"
      ],
      "metadata": {
        "colab": {
          "base_uri": "https://localhost:8080/"
        },
        "id": "0xWbowLUzQAP",
        "outputId": "795ba6bb-0a24-44a7-9d4d-f7650c53adca"
      },
      "execution_count": null,
      "outputs": [
        {
          "output_type": "execute_result",
          "data": {
            "text/plain": [
              "Index(['PERSONID', 'DIABETE3', '_RACE', 'FLUSHOT6', 'EMPLOY1', 'SEX',\n",
              "       'MARITAL', 'CVDCRHD4', 'CHCKIDNY', 'USEEQUIP', 'ADDEPEV2', 'RENTHOM1',\n",
              "       'EXERANY2', 'BLIND', 'DECIDE', 'HLTHPLN1', '_STATE', 'ASTHMA3',\n",
              "       'GENHLTH', '_AGEG5YR', '_BMI5CAT', 'CHECKUP1', 'INCOME2', '_EDUCAG',\n",
              "       'SLEPTIM1', '_SMOKER3', 'CHILDREN', 'WEIGHT2', 'MENTHLTH'],\n",
              "      dtype='object')"
            ]
          },
          "metadata": {},
          "execution_count": 7
        }
      ]
    },
    {
      "cell_type": "code",
      "source": [
        "# plot build\n",
        "fig, ax = plt.subplots(6, 5, figsize=(10,10), sharey=True)\n",
        "\n",
        "for i,col in enumerate(df.columns[2:-1]):\n",
        "  if i <= 4:\n",
        "    sns.barplot(x=df[col], y=df[\"DIABETE3\"], ax=ax[0,i])\n",
        "  elif i > 4 and i <=9:\n",
        "    sns.barplot(x=df[col], y=df[\"DIABETE3\"], ax=ax[1,i-5])\n",
        "  elif i > 9 and i <=14:\n",
        "    sns.barplot(x=df[col], y=df[\"DIABETE3\"], ax=ax[2,i-10])\n",
        "  elif i > 14 and i <=19:\n",
        "    sns.barplot(x=df[col], y=df[\"DIABETE3\"], ax=ax[3,i-15])\n",
        "  elif i > 19 and i <=24:\n",
        "    sns.barplot(x=df[col], y=df[\"DIABETE3\"], ax=ax[4,i-20])\n",
        "  else:\n",
        "    sns.barplot(x=df[col], y=df[\"DIABETE3\"], ax=ax[5,i-25])\n",
        "\n",
        "#ax[1,6].axis('off')                  # HIDES AXES ON LAST ROW AND COL\n",
        "\n",
        "fig.suptitle('My Scatter Plots')\n",
        "fig.tight_layout()\n",
        "fig.subplots_adjust(top=0.95)\n",
        "\n",
        "plt.show()\n",
        "plt.clf()\n",
        "plt.close()"
      ],
      "metadata": {
        "colab": {
          "base_uri": "https://localhost:8080/",
          "height": 54
        },
        "id": "bfAGxKlkdKSU",
        "outputId": "77731ffb-2d18-44a7-83f8-e9a560189c7e"
      },
      "execution_count": null,
      "outputs": [
        {
          "output_type": "display_data",
          "data": {
            "text/plain": [
              "<Figure size 1000x1000 with 30 Axes>"
            ],
            "image/png": "[encoded data removed]"
          },
          "metadata": {}
        }
      ]
    },
    {
      "cell_type": "code",
      "source": [
        "# Save the complete DataFrame to a new CSV file for easy access henceforth\n",
        "df.to_csv(\"drive/My Drive/Diabetes Risk Factors/LRM_model_data.csv\", index=False)"
      ],
      "metadata": {
        "id": "rMriyQmDCD92"
      },
      "execution_count": null,
      "outputs": []
    },
    {
      "cell_type": "markdown",
      "source": [
        "#### **Let's set up the Logistic Regression!**"
      ],
      "metadata": {
        "id": "Au6b-N5bcJf9"
      }
    },
    {
      "cell_type": "code",
      "source": [
        "# Import tools into Colab\n",
        "import pandas as pd\n",
        "import seaborn as sns\n",
        "import numpy as np\n",
        "from matplotlib import pyplot as plt\n",
        "\n",
        "# Read the \"complete_diabetes_data.csv\" to a working DataFrame and verify it\n",
        "df = pd.read_csv(\"drive/My Drive/Diabetes Risk Factors/LRM_model_data.csv\")"
      ],
      "metadata": {
        "id": "WJIerw2fBqbj"
      },
      "execution_count": null,
      "outputs": []
    },
    {
      "cell_type": "code",
      "source": [
        "import scipy.stats as stats\n",
        "from sklearn.model_selection import train_test_split, cross_val_score, GridSearchCV\n",
        "from sklearn.linear_model import LogisticRegression\n",
        "from sklearn.metrics import accuracy_score, classification_report, confusion_matrix, recall_score\n",
        "\n",
        "df.drop(\"PERSONID\", axis=1, inplace=True)\n",
        "\n",
        "# Split the data into training and testing sets\n",
        "X_train, X_test, y_train, y_test = train_test_split(df.drop('DIABETE3', axis=1), df['DIABETE3'], test_size=0.2, random_state=42)\n",
        "\n",
        "# Define the parameter grid for the logistic regression model\n",
        "param_grid = {'C': [0.1, 1, 10], 'penalty': ['l1', 'l2']}\n",
        "\n",
        "# Initialize the GridSearchCV object\n",
        "grid_search = GridSearchCV(LogisticRegression(), param_grid, cv=5, n_jobs=-1)\n",
        "\n",
        "# Fit the model to the training data\n",
        "grid_search.fit(X_train, y_train)\n",
        "\n",
        "# Get the best parameters and the corresponding accuracy score\n",
        "best_params = grid_search.best_params_\n",
        "best_acc = grid_search.best_score_\n",
        "\n",
        "# Print the best parameters and the corresponding accuracy score\n",
        "print(\"Best parameters:\", best_params)\n",
        "print(\"Best accuracy score:\", best_acc)\n",
        "\n",
        "# Plot the confusion matrix\n",
        "cm = confusion_matrix(y_test, grid_search.predict(X_test))\n",
        "print(cm)"
      ],
      "metadata": {
        "colab": {
          "base_uri": "https://localhost:8080/"
        },
        "id": "w5n7H0FeE1DO",
        "outputId": "66cf8b35-eed2-4e3c-935e-23d4f9aa0325"
      },
      "execution_count": null,
      "outputs": [
        {
          "output_type": "stream",
          "name": "stdout",
          "text": [
            "Best parameters: {'C': 10, 'penalty': 'l2'}\n",
            "Best accuracy score: 0.8781366011209271\n",
            "[[763  22]\n",
            " [104  18]]\n"
          ]
        },
        {
          "output_type": "stream",
          "name": "stderr",
          "text": [
            "/usr/local/lib/python3.10/dist-packages/sklearn/model_selection/_validation.py:378: FitFailedWarning: \n",
            "15 fits failed out of a total of 30.\n",
            "The score on these train-test partitions for these parameters will be set to nan.\n",
            "If these failures are not expected, you can try to debug them by setting error_score='raise'.\n",
            "\n",
            "Below are more details about the failures:\n",
            "--------------------------------------------------------------------------------\n",
            "15 fits failed with the following error:\n",
            "Traceback (most recent call last):\n",
            "  File \"/usr/local/lib/python3.10/dist-packages/sklearn/model_selection/_validation.py\", line 686, in _fit_and_score\n",
            "    estimator.fit(X_train, y_train, **fit_params)\n",
            "  File \"/usr/local/lib/python3.10/dist-packages/sklearn/linear_model/_logistic.py\", line 1162, in fit\n",
            "    solver = _check_solver(self.solver, self.penalty, self.dual)\n",
            "  File \"/usr/local/lib/python3.10/dist-packages/sklearn/linear_model/_logistic.py\", line 54, in _check_solver\n",
            "    raise ValueError(\n",
            "ValueError: Solver lbfgs supports only 'l2' or 'none' penalties, got l1 penalty.\n",
            "\n",
            "  warnings.warn(some_fits_failed_message, FitFailedWarning)\n",
            "/usr/local/lib/python3.10/dist-packages/sklearn/model_selection/_search.py:952: UserWarning: One or more of the test scores are non-finite: [       nan 0.8775864         nan 0.87648333        nan 0.8781366 ]\n",
            "  warnings.warn(\n",
            "/usr/local/lib/python3.10/dist-packages/sklearn/linear_model/_logistic.py:458: ConvergenceWarning: lbfgs failed to converge (status=1):\n",
            "STOP: TOTAL NO. of ITERATIONS REACHED LIMIT.\n",
            "\n",
            "Increase the number of iterations (max_iter) or scale the data as shown in:\n",
            "    https://scikit-learn.org/stable/modules/preprocessing.html\n",
            "Please also refer to the documentation for alternative solver options:\n",
            "    https://scikit-learn.org/stable/modules/linear_model.html#logistic-regression\n",
            "  n_iter_i = _check_optimize_result(\n"
          ]
        }
      ]
    },
    {
      "cell_type": "markdown",
      "source": [
        "Fit model with best parameters"
      ],
      "metadata": {
        "id": "GWn11FLvd3ja"
      }
    },
    {
      "cell_type": "code",
      "source": [
        "best_model = LogisticRegression(C= 10, penalty='l2')\n",
        "best_model.fit(X_train, y_train)\n",
        "\n",
        "# Predict the classes for the test data\n",
        "y_pred = best_model.predict(X_test)\n",
        "\n",
        "# Evaluate the model using accuracy score, classification report, and confusion matrix\n",
        "accuracy = accuracy_score(y_test, y_pred)\n",
        "recall = recall_score(y_test, y_pred, average='weighted')\n",
        "print(\"Accuracy:\", accuracy)\n",
        "print('Recall:', recall)\n",
        "# print(\"Classification Report:\")\n",
        "# print(classification_report(y_test, y_pred))\n",
        "print(\"Confusion Matrix:\")\n",
        "print(confusion_matrix(y_test, y_pred))"
      ],
      "metadata": {
        "colab": {
          "base_uri": "https://localhost:8080/"
        },
        "id": "9_S4sl_hdEKZ",
        "outputId": "94f99bcc-5623-43bd-b920-1d79044cd7e9"
      },
      "execution_count": null,
      "outputs": [
        {
          "output_type": "stream",
          "name": "stdout",
          "text": [
            "Accuracy: 0.8610804851157663\n",
            "Recall: 0.8610804851157663\n",
            "Confusion Matrix:\n",
            "[[763  22]\n",
            " [104  18]]\n"
          ]
        },
        {
          "output_type": "stream",
          "name": "stderr",
          "text": [
            "/usr/local/lib/python3.10/dist-packages/sklearn/linear_model/_logistic.py:458: ConvergenceWarning: lbfgs failed to converge (status=1):\n",
            "STOP: TOTAL NO. of ITERATIONS REACHED LIMIT.\n",
            "\n",
            "Increase the number of iterations (max_iter) or scale the data as shown in:\n",
            "    https://scikit-learn.org/stable/modules/preprocessing.html\n",
            "Please also refer to the documentation for alternative solver options:\n",
            "    https://scikit-learn.org/stable/modules/linear_model.html#logistic-regression\n",
            "  n_iter_i = _check_optimize_result(\n"
          ]
        }
      ]
    },
    {
      "cell_type": "markdown",
      "source": [
        "Which features play most strongly into diabetes?"
      ],
      "metadata": {
        "id": "5Srf3f_tO9af"
      }
    },
    {
      "cell_type": "code",
      "source": [
        "# features\n",
        "features_dict = dict(zip(X_train.columns, list(best_model.coef_[0])))\n",
        "features_dict"
      ],
      "metadata": {
        "colab": {
          "base_uri": "https://localhost:8080/"
        },
        "id": "QghFUF8YQvyU",
        "outputId": "053da7f5-67f0-45de-e50b-f0ab1be8c987"
      },
      "execution_count": null,
      "outputs": [
        {
          "output_type": "execute_result",
          "data": {
            "text/plain": [
              "{'_RACE': 0.05375907516669117,\n",
              " 'FLUSHOT6': -0.0043670817281044345,\n",
              " 'EMPLOY1': 0.03775587698946592,\n",
              " 'SEX': -0.349754399723058,\n",
              " 'MARITAL': 0.00030000514187183795,\n",
              " 'CVDCRHD4': -0.4226490403745349,\n",
              " 'CHCKIDNY': -0.26809135448823707,\n",
              " 'USEEQUIP': -0.2271835890177115,\n",
              " 'ADDEPEV2': -0.5198894756509375,\n",
              " 'RENTHOM1': -0.09375950522461604,\n",
              " 'EXERANY2': -0.06129270324346257,\n",
              " 'BLIND': -0.4356339478950831,\n",
              " 'DECIDE': -0.08033765458478032,\n",
              " 'HLTHPLN1': -0.4488780658054785,\n",
              " '_STATE': -0.005348134120522003,\n",
              " 'ASTHMA3': -0.3506977718396372,\n",
              " 'GENHLTH': 0.6074175430548513,\n",
              " '_AGEG5YR': 0.13727398483746892,\n",
              " '_BMI5CAT': 0.560044976538366,\n",
              " 'CHECKUP1': -0.2542802286445705,\n",
              " 'INCOME2': -0.0004850641538459797,\n",
              " '_EDUCAG': -0.08346097106143006,\n",
              " 'SLEPTIM1': 0.0004692144802356516,\n",
              " '_SMOKER3': -0.022285770554152654,\n",
              " 'CHILDREN': -0.20635929380351017,\n",
              " 'WEIGHT2': 0.011007889209201129,\n",
              " 'MENTHLTH': -0.026782651395926158}"
            ]
          },
          "metadata": {},
          "execution_count": 4
        }
      ]
    },
    {
      "cell_type": "code",
      "source": [
        "# sort and display in decending order of importance\n",
        "sorted_dict = sorted(features_dict.items(), key=lambda x: abs(x[1]))\n",
        "\n",
        "sorted_dict.reverse()\n",
        "sorted_dict"
      ],
      "metadata": {
        "colab": {
          "base_uri": "https://localhost:8080/"
        },
        "id": "rS4Rs32fi-MH",
        "outputId": "74a75ea2-0f23-4616-9ea1-78ea61abc889"
      },
      "execution_count": null,
      "outputs": [
        {
          "output_type": "execute_result",
          "data": {
            "text/plain": [
              "[('GENHLTH', 0.6074175430548513),\n",
              " ('_BMI5CAT', 0.560044976538366),\n",
              " ('ADDEPEV2', -0.5198894756509375),\n",
              " ('HLTHPLN1', -0.4488780658054785),\n",
              " ('BLIND', -0.4356339478950831),\n",
              " ('CVDCRHD4', -0.4226490403745349),\n",
              " ('ASTHMA3', -0.3506977718396372),\n",
              " ('SEX', -0.349754399723058),\n",
              " ('CHCKIDNY', -0.26809135448823707),\n",
              " ('CHECKUP1', -0.2542802286445705),\n",
              " ('USEEQUIP', -0.2271835890177115),\n",
              " ('CHILDREN', -0.20635929380351017),\n",
              " ('_AGEG5YR', 0.13727398483746892),\n",
              " ('RENTHOM1', -0.09375950522461604),\n",
              " ('_EDUCAG', -0.08346097106143006),\n",
              " ('DECIDE', -0.08033765458478032),\n",
              " ('EXERANY2', -0.06129270324346257),\n",
              " ('_RACE', 0.05375907516669117),\n",
              " ('EMPLOY1', 0.03775587698946592),\n",
              " ('MENTHLTH', -0.026782651395926158),\n",
              " ('_SMOKER3', -0.022285770554152654),\n",
              " ('WEIGHT2', 0.011007889209201129),\n",
              " ('_STATE', -0.005348134120522003),\n",
              " ('FLUSHOT6', -0.0043670817281044345),\n",
              " ('INCOME2', -0.0004850641538459797),\n",
              " ('SLEPTIM1', 0.0004692144802356516),\n",
              " ('MARITAL', 0.00030000514187183795)]"
            ]
          },
          "metadata": {},
          "execution_count": 5
        }
      ]
    },
    {
      "cell_type": "code",
      "source": [
        "# print the top 10 most consequential features of our dataset\n",
        "print(\"According to our analysis:\")\n",
        "print(\"\")\n",
        "for i in range(10):\n",
        "  print(f\"The {sorted_dict[i][0]} variable was the number {i+1} most important feature with a coefficient value of {sorted_dict[i][1]}.\")"
      ],
      "metadata": {
        "colab": {
          "base_uri": "https://localhost:8080/"
        },
        "id": "hZLnxv-vmZqq",
        "outputId": "602fbce3-7ffb-4164-da45-7e4865351474"
      },
      "execution_count": null,
      "outputs": [
        {
          "output_type": "stream",
          "name": "stdout",
          "text": [
            "According to our analysis:\n",
            "\n",
            "The GENHLTH variable was the number 1 most important feature with a coefficient value of 0.6074175430548513.\n",
            "The _BMI5CAT variable was the number 2 most important feature with a coefficient value of 0.560044976538366.\n",
            "The ADDEPEV2 variable was the number 3 most important feature with a coefficient value of -0.5198894756509375.\n",
            "The HLTHPLN1 variable was the number 4 most important feature with a coefficient value of -0.4488780658054785.\n",
            "The BLIND variable was the number 5 most important feature with a coefficient value of -0.4356339478950831.\n",
            "The CVDCRHD4 variable was the number 6 most important feature with a coefficient value of -0.4226490403745349.\n",
            "The ASTHMA3 variable was the number 7 most important feature with a coefficient value of -0.3506977718396372.\n",
            "The SEX variable was the number 8 most important feature with a coefficient value of -0.349754399723058.\n",
            "The CHCKIDNY variable was the number 9 most important feature with a coefficient value of -0.26809135448823707.\n",
            "The CHECKUP1 variable was the number 10 most important feature with a coefficient value of -0.2542802286445705.\n"
          ]
        }
      ]
    },
    {
      "cell_type": "markdown",
      "source": [
        "At last!  We have figured our which of our features are the most important to determining whether or not a person is diabetic.  Thankfully, the somewhat obvious variables were confirmed to be the most impactful.  Normally, we would save the model, but as this book is for demonstration purposes we will stop here.  \n",
        "\n",
        "Thank you for following along!"
      ],
      "metadata": {
        "id": "ZO98GTWUlhWs"
      }
    },
    {
      "cell_type": "code",
      "source": [],
      "metadata": {
        "id": "cH3go5HFyD4O"
      },
      "execution_count": null,
      "outputs": []
    }
  ]
}